{
 "cells": [
  {
   "cell_type": "markdown",
   "metadata": {},
   "source": [
    "---\n",
    "title: \"Text Analysis and NLP Project:Emotion Detection from Text\"\n",
    "author:\n",
    "  - Nastaran Mesgari\n",
    "\n",
    "date: 2024-05-19\n",
    "\n",
    "abstract: \"\"\n",
    "\n",
    "format: \n",
    "  html:  \n",
    "    code-fold: true\n",
    "    standalone: true\n",
    "    embed-resources: true\n",
    "    number-sections: true # numbering the header\n",
    "    toc: true\n",
    "    toc-depth: 4\n",
    "---"
   ]
  },
  {
   "cell_type": "markdown",
   "metadata": {},
   "source": [
    "## Executive Summary\n"
   ]
  },
  {
   "cell_type": "markdown",
   "metadata": {},
   "source": [
    "# Introduction\n",
    "Emotion detection from text is one of the challenging problems in Natural Language Processing. The reason is the unavailability of labeled dataset and the multi-class nature of the problem. Humans have a variety of emotions, and it is difficult to collect enough records for each emotion and hence the problem of class imbalance arises. Here we have labeled data for emotion detection and the objective is to build an efficient model to detect emotion."
   ]
  },
  {
   "cell_type": "markdown",
   "metadata": {},
   "source": [
    "### importing libraries"
   ]
  },
  {
   "cell_type": "code",
   "execution_count": 201,
   "metadata": {},
   "outputs": [],
   "source": [
    "import pandas as pd\n",
    "import numpy as np\n",
    "\n",
    "import re\n",
    "import nltk\n",
    "from nltk.tokenize import word_tokenize, sent_tokenize\n",
    "from nltk import pos_tag\n",
    "from nltk.stem import PorterStemmer\n",
    "from nltk.stem import WordNetLemmatizer\n",
    "from sklearn.datasets import load_files\n",
    "# nltk.download('stopwords')\n",
    "import pickle\n",
    "import seaborn as sns\n",
    "import numpy as np\n",
    "from sklearn.linear_model import LogisticRegression\n",
    "from sklearn.discriminant_analysis import LinearDiscriminantAnalysis\n",
    "from sklearn.tree import DecisionTreeClassifier\n",
    "from sklearn.neighbors import KNeighborsClassifier\n",
    "from sklearn.ensemble import RandomForestClassifier\n",
    "from sklearn.naive_bayes import GaussianNB\n",
    "from sklearn.neural_network import MLPClassifier\n",
    "from sklearn.preprocessing import LabelEncoder\n",
    "from sklearn.model_selection import train_test_split\n",
    "import matplotlib.pyplot as plt\n",
    "from tensorflow.keras.models import Sequential\n",
    "from tensorflow.keras.layers import LSTM, Dense\n",
    "from sklearn.naive_bayes import MultinomialNB\n",
    "\n",
    "import keras\n",
    "#from keras.preprocessing.text import Tokenizer\n",
    "from keras.preprocessing.sequence import pad_sequences\n",
    "from keras.models import Sequential\n",
    "from keras.layers import LSTM, Dense, Input\n",
    "from keras.models import Model\n",
    "from keras.callbacks import ReduceLROnPlateau \n",
    "\n",
    "from nltk.corpus import stopwords\n",
    "#nltk.download('wordnet')\n",
    "#nltk.download('omw-1.4')\n",
    "#nltk.download('punkt')\n",
    "from nltk.tokenize import sent_tokenize\n",
    "\n",
    "from sklearn.naive_bayes import MultinomialNB\n",
    "\n",
    "from sklearn.feature_extraction.text import TfidfTransformer\n",
    "from sklearn.feature_extraction.text import CountVectorizer, TfidfVectorizer\n",
    "\n",
    "\n",
    "from sklearn.model_selection import cross_val_predict, StratifiedKFold\n",
    "from sklearn.metrics import classification_report, confusion_matrix, accuracy_score, f1_score, average_precision_score, recall_score, precision_score, roc_auc_score\n",
    "from sklearn.pipeline import Pipeline\n",
    "from sklearn.svm import SVC\n",
    "import matplotlib.pyplot as plt\n",
    "from wordcloud import WordCloud, STOPWORDS\n",
    "from gensim.models import Word2Vec\n",
    "\n",
    "import warnings\n",
    "warnings.filterwarnings(\"ignore\", category=FutureWarning)"
   ]
  },
  {
   "cell_type": "code",
   "execution_count": 202,
   "metadata": {},
   "outputs": [
    {
     "data": {
      "text/html": [
       "<div>\n",
       "<style scoped>\n",
       "    .dataframe tbody tr th:only-of-type {\n",
       "        vertical-align: middle;\n",
       "    }\n",
       "\n",
       "    .dataframe tbody tr th {\n",
       "        vertical-align: top;\n",
       "    }\n",
       "\n",
       "    .dataframe thead th {\n",
       "        text-align: right;\n",
       "    }\n",
       "</style>\n",
       "<table border=\"1\" class=\"dataframe\">\n",
       "  <thead>\n",
       "    <tr style=\"text-align: right;\">\n",
       "      <th></th>\n",
       "      <th>tweet_id</th>\n",
       "      <th>sentiment</th>\n",
       "      <th>author</th>\n",
       "      <th>content</th>\n",
       "    </tr>\n",
       "  </thead>\n",
       "  <tbody>\n",
       "    <tr>\n",
       "      <th>0</th>\n",
       "      <td>1956967341</td>\n",
       "      <td>empty</td>\n",
       "      <td>xoshayzers</td>\n",
       "      <td>@tiffanylue i know  i was listenin to bad habi...</td>\n",
       "    </tr>\n",
       "    <tr>\n",
       "      <th>1</th>\n",
       "      <td>1956967666</td>\n",
       "      <td>sadness</td>\n",
       "      <td>wannamama</td>\n",
       "      <td>Layin n bed with a headache  ughhhh...waitin o...</td>\n",
       "    </tr>\n",
       "    <tr>\n",
       "      <th>2</th>\n",
       "      <td>1956967696</td>\n",
       "      <td>sadness</td>\n",
       "      <td>coolfunky</td>\n",
       "      <td>Funeral ceremony...gloomy friday...</td>\n",
       "    </tr>\n",
       "    <tr>\n",
       "      <th>3</th>\n",
       "      <td>1956967789</td>\n",
       "      <td>enthusiasm</td>\n",
       "      <td>czareaquino</td>\n",
       "      <td>wants to hang out with friends SOON!</td>\n",
       "    </tr>\n",
       "    <tr>\n",
       "      <th>4</th>\n",
       "      <td>1956968416</td>\n",
       "      <td>neutral</td>\n",
       "      <td>xkilljoyx</td>\n",
       "      <td>@dannycastillo We want to trade with someone w...</td>\n",
       "    </tr>\n",
       "    <tr>\n",
       "      <th>5</th>\n",
       "      <td>1956968477</td>\n",
       "      <td>worry</td>\n",
       "      <td>xxxPEACHESxxx</td>\n",
       "      <td>Re-pinging @ghostridah14: why didn't you go to...</td>\n",
       "    </tr>\n",
       "    <tr>\n",
       "      <th>6</th>\n",
       "      <td>1956968487</td>\n",
       "      <td>sadness</td>\n",
       "      <td>ShansBee</td>\n",
       "      <td>I should be sleep, but im not! thinking about ...</td>\n",
       "    </tr>\n",
       "    <tr>\n",
       "      <th>7</th>\n",
       "      <td>1956968636</td>\n",
       "      <td>worry</td>\n",
       "      <td>mcsleazy</td>\n",
       "      <td>Hmmm. http://www.djhero.com/ is down</td>\n",
       "    </tr>\n",
       "    <tr>\n",
       "      <th>8</th>\n",
       "      <td>1956969035</td>\n",
       "      <td>sadness</td>\n",
       "      <td>nic0lepaula</td>\n",
       "      <td>@charviray Charlene my love. I miss you</td>\n",
       "    </tr>\n",
       "    <tr>\n",
       "      <th>9</th>\n",
       "      <td>1956969172</td>\n",
       "      <td>sadness</td>\n",
       "      <td>Ingenue_Em</td>\n",
       "      <td>@kelcouch I'm sorry  at least it's Friday?</td>\n",
       "    </tr>\n",
       "  </tbody>\n",
       "</table>\n",
       "</div>"
      ],
      "text/plain": [
       "     tweet_id   sentiment         author  \\\n",
       "0  1956967341       empty     xoshayzers   \n",
       "1  1956967666     sadness      wannamama   \n",
       "2  1956967696     sadness      coolfunky   \n",
       "3  1956967789  enthusiasm    czareaquino   \n",
       "4  1956968416     neutral      xkilljoyx   \n",
       "5  1956968477       worry  xxxPEACHESxxx   \n",
       "6  1956968487     sadness       ShansBee   \n",
       "7  1956968636       worry       mcsleazy   \n",
       "8  1956969035     sadness    nic0lepaula   \n",
       "9  1956969172     sadness     Ingenue_Em   \n",
       "\n",
       "                                             content  \n",
       "0  @tiffanylue i know  i was listenin to bad habi...  \n",
       "1  Layin n bed with a headache  ughhhh...waitin o...  \n",
       "2                Funeral ceremony...gloomy friday...  \n",
       "3               wants to hang out with friends SOON!  \n",
       "4  @dannycastillo We want to trade with someone w...  \n",
       "5  Re-pinging @ghostridah14: why didn't you go to...  \n",
       "6  I should be sleep, but im not! thinking about ...  \n",
       "7               Hmmm. http://www.djhero.com/ is down  \n",
       "8            @charviray Charlene my love. I miss you  \n",
       "9         @kelcouch I'm sorry  at least it's Friday?  "
      ]
     },
     "execution_count": 202,
     "metadata": {},
     "output_type": "execute_result"
    }
   ],
   "source": [
    "# Reading the data\n",
    "df = pd.read_csv('Data/text_emotion.csv')\n",
    "df.head(10)"
   ]
  },
  {
   "cell_type": "markdown",
   "metadata": {},
   "source": [
    "### Data Exploration"
   ]
  },
  {
   "cell_type": "code",
   "execution_count": 203,
   "metadata": {},
   "outputs": [
    {
     "name": "stdout",
     "output_type": "stream",
     "text": [
      "<class 'pandas.core.frame.DataFrame'>\n",
      "RangeIndex: 40000 entries, 0 to 39999\n",
      "Data columns (total 4 columns):\n",
      " #   Column     Non-Null Count  Dtype \n",
      "---  ------     --------------  ----- \n",
      " 0   tweet_id   40000 non-null  int64 \n",
      " 1   sentiment  40000 non-null  object\n",
      " 2   author     40000 non-null  object\n",
      " 3   content    40000 non-null  object\n",
      "dtypes: int64(1), object(3)\n",
      "memory usage: 1.2+ MB\n"
     ]
    }
   ],
   "source": [
    "# Information of each columns\n",
    "df.info()"
   ]
  },
  {
   "cell_type": "code",
   "execution_count": 204,
   "metadata": {},
   "outputs": [
    {
     "name": "stdout",
     "output_type": "stream",
     "text": [
      "['empty' 'sadness' 'enthusiasm' 'neutral' 'worry' 'surprise' 'love' 'fun'\n",
      " 'hate' 'happiness' 'boredom' 'relief' 'anger']\n"
     ]
    }
   ],
   "source": [
    "# Unique values from 'sentiment'\n",
    "unique_sentiments = df['sentiment'].unique()\n",
    "print(unique_sentiments)"
   ]
  },
  {
   "cell_type": "code",
   "execution_count": 205,
   "metadata": {},
   "outputs": [
    {
     "name": "stdout",
     "output_type": "stream",
     "text": [
      "            Counts  Percentage\n",
      "sentiment                     \n",
      "neutral       8638     21.5950\n",
      "worry         8459     21.1475\n",
      "happiness     5209     13.0225\n",
      "sadness       5165     12.9125\n",
      "love          3842      9.6050\n",
      "surprise      2187      5.4675\n",
      "fun           1776      4.4400\n",
      "relief        1526      3.8150\n",
      "hate          1323      3.3075\n",
      "empty          827      2.0675\n",
      "enthusiasm     759      1.8975\n",
      "boredom        179      0.4475\n",
      "anger          110      0.2750\n",
      "\n",
      "total values: 13\n"
     ]
    }
   ],
   "source": [
    "# Frequency distribution of'sentiment'\n",
    "frequency_counts = df['sentiment'].value_counts()\n",
    "\n",
    "frequency_percentage = (frequency_counts / len(df['sentiment'])) * 100\n",
    "frequency_df = pd.DataFrame({'Counts': frequency_counts, 'Percentage': frequency_percentage})\n",
    "\n",
    "print(frequency_df)\n",
    "\n",
    "# Print total value\n",
    "cardinality = df['sentiment'].nunique()\n",
    "print(f\"\\ntotal values: {cardinality}\")"
   ]
  },
  {
   "cell_type": "markdown",
   "metadata": {},
   "source": [
    "Regarding the below countplot based on the sentiment, it can be seen than the dataset is imbalanced.and tweet are more about negative and neutral ."
   ]
  },
  {
   "cell_type": "code",
   "execution_count": 206,
   "metadata": {},
   "outputs": [
    {
     "data": {
      "image/png": "[encoded data removed]",
      "text/plain": [
       "<Figure size 1200x400 with 1 Axes>"
      ]
     },
     "metadata": {},
     "output_type": "display_data"
    }
   ],
   "source": [
    "plt.figure(figsize=(12,4));\n",
    "sns.countplot(x='sentiment', data=df, palette='husl');"
   ]
  },
  {
   "cell_type": "markdown",
   "metadata": {},
   "source": [
    "for balancing the data I selected 3 groups , Posetive , Negative and Neutral.Surprise sentiment was selected as a neutral because it is not be shown:  is it posetive or negative and when I do that the prevalence ≤ 10% and it is considered for imbalancing data.\n"
   ]
  },
  {
   "cell_type": "code",
   "execution_count": 207,
   "metadata": {},
   "outputs": [],
   "source": [
    "#  grouping 13 labels into 3 classes: 'negative', 'positive', 'neutral'\n",
    "sentiment_mapping = {\n",
    "    'empty': 'negative',\n",
    "    'sadness': 'negative',\n",
    "    'worry': 'negative',\n",
    "    'hate': 'negative',\n",
    "    'boredom': 'negative',\n",
    "    'anger': 'negative',\n",
    "    'enthusiasm': 'positive',\n",
    "    'neutral': 'neutral',\n",
    "    'surprise': 'neutral',\n",
    "    'love': 'positive',\n",
    "    'fun': 'positive',\n",
    "    'happiness': 'positive',\n",
    "    'relief': 'positive'\n",
    "}\n",
    "\n",
    "# Create a new col for the mapping\n",
    "df['label'] = df['sentiment'].map(sentiment_mapping)"
   ]
  },
  {
   "cell_type": "markdown",
   "metadata": {},
   "source": [
    "In addition,I check out the average lendth of the Comments are approximately 73.5 words."
   ]
  },
  {
   "cell_type": "code",
   "execution_count": 208,
   "metadata": {},
   "outputs": [
    {
     "name": "stdout",
     "output_type": "stream",
     "text": [
      "The average length of the texts is 73.40555\n"
     ]
    }
   ],
   "source": [
    "# Size of the texts\n",
    "total_length = 0\n",
    "num_texts = len(df['content'])\n",
    "for text in df['content']:\n",
    "    total_length += len(text)\n",
    "\n",
    "avg_length = total_length / num_texts\n",
    "\n",
    "print(f\"The average length of the texts is {avg_length}\")"
   ]
  },
  {
   "cell_type": "markdown",
   "metadata": {},
   "source": [
    "# Text Pre-processing\n",
    "The text pre-processing is a very critical step because better results can only be achieved with good quality of data. Since the tweets texts are unstructured or in other words, they are raw and very noisy, they require cleaning. The main objective of this step is to remove noisy and inconsistent texts. Comments that carry very little weighting in text context, for example numbers, special character, punctuations, hashtags, extra blank space, etc. need to be removed. The following steps are taken for the text cleaning.\n",
    "\n",
    "### Removing special characters and lowercasing\n",
    "Unstructured texts such as Comments may contain numbers, special characters, punctuations, hashtags, extra blank space, etc. We need to remove them from the texts. Therefore, I This function performs the following steps:\n",
    "\n",
    "**removing any word which starts with @.**\n",
    "\n",
    "**removing all non-alphabetic characters in the string with spaces.**\n",
    "\n",
    "**changing all the letters into lower case.**\n",
    "\n",
    "**replacing more than one space with one space and removing any leading and trailing space.**\n",
    "\n",
    "**iltering out any punctuation marks from the text.**\n",
    "\n",
    "### Tokenization\n",
    "Tokenization involves dividing a text or document into smaller elements known as tokens, aiming to transform continuous text into distinct units for computer processing. It's an essential process in natural language processing and text analysis, facilitating various algorithms and methods that rely on tokenized data. In my approach, I utilized the wordpunct_tokenize() function from NLTK library, which efficiently separates text into individual tokens or words by identifying non-alphanumeric characters like punctuation marks or special symbols.\n",
    "\n",
    "### Removing Numbers\n",
    "Eliminating numbers from text during text analysis can be crucial, especially considering the context and objectives of the analysis. Given that the project involves comments and tweets, with a focus on language patterns, numbers might not contribute significantly to the analysis. Thus, excluding numbers can enhance the consistency of the text. Following tokenization, I filtered out any tokens identified as digits.\n",
    "\n",
    "### Removing stop-words\n",
    "Stop words, such as \"the\", \"a\", \"an\", \"and\", \"but\", \"in\", \"on\", etc., are highly common in language and typically add little substantive meaning. Conversely, non-stop words, encompassing nouns, verbs, adjectives, adverbs, and other significant parts of speech, carry more weight in conveying meaning. In text analysis, filtering out stop words can enhance the relevance and clarity of the analysis. To achieve this, I compared each word in the Comments texts with NLTK's pre-defined English stop words list, retaining only the non-stop words for further analysis.\n",
    "\n",
    "### English Language detection\n",
    "Ensuring that the texts are in English is vital for achieving accurate and effective text analysis. Since numerous NLP techniques and tools are tailored to specific languages, particularly English, analyzing English text enables the utilization of language-specific resources and models. To accomplish this, I implemented a filter on the tokenized texts, verifying whether each token belongs to the set of English words sourced from the nltk.corpus.words module.\n",
    "\n",
    "\n",
    "###  lemmatizing the words\n",
    "Lemmatization simplifies words to their base or root form, known as the \"lemma,\" aiming to unify inflectional and sometimes derivational variations of a word. This process reduces the total number of unique words in a text, aiding in text analysis by standardizing vocabulary and mitigating data sparsity. For this project, I employed NLTK's WordNetLemmatizer as the lemmatization tool, which utilizes morphological analysis and part-of-speech tagging to identify the base form of a word. Considering the part-of-speech is crucial, as the lemma may vary based on whether the word functions as a noun, verb, adjective, or adverb.\n"
   ]
  },
  {
   "cell_type": "markdown",
   "metadata": {},
   "source": [
    "### Cleaning the Dataset "
   ]
  },
  {
   "cell_type": "code",
   "execution_count": 258,
   "metadata": {},
   "outputs": [],
   "source": [
    "dfcopy = df.copy()"
   ]
  },
  {
   "cell_type": "code",
   "execution_count": 260,
   "metadata": {},
   "outputs": [
    {
     "name": "stdout",
     "output_type": "stream",
     "text": [
      "Num of numerical variables: 1\n",
      "\n",
      "The numerical variables are:  ['tweet_id']\n"
     ]
    }
   ],
   "source": [
    "# Find any numerical variables.\n",
    "numerical = [var for var in dfcopy.columns if dfcopy[var].dtype!='O']\n",
    "\n",
    "print('Num of numerical variables: {}\\n'.format(len(numerical)))\n",
    "print('The numerical variables are: ', numerical)"
   ]
  },
  {
   "cell_type": "code",
   "execution_count": 261,
   "metadata": {},
   "outputs": [],
   "source": [
    "# Drop the unecessary column (numerical variables)\n",
    "dfcopy= dfcopy.drop(columns=['tweet_id'])"
   ]
  },
  {
   "cell_type": "markdown",
   "metadata": {},
   "source": [
    "in this step we remove the duplicate rows, it be showned 13 rows."
   ]
  },
  {
   "cell_type": "code",
   "execution_count": 262,
   "metadata": {},
   "outputs": [
    {
     "name": "stdout",
     "output_type": "stream",
     "text": [
      "Total duplicated rows: 13\n"
     ]
    }
   ],
   "source": [
    "# Count duplicates\n",
    "duplicates_count = dfcopy.duplicated().sum()\n",
    "print(f'Total duplicated rows: {duplicates_count}')"
   ]
  },
  {
   "cell_type": "code",
   "execution_count": 263,
   "metadata": {},
   "outputs": [
    {
     "data": {
      "text/html": [
       "<div>\n",
       "<style scoped>\n",
       "    .dataframe tbody tr th:only-of-type {\n",
       "        vertical-align: middle;\n",
       "    }\n",
       "\n",
       "    .dataframe tbody tr th {\n",
       "        vertical-align: top;\n",
       "    }\n",
       "\n",
       "    .dataframe thead th {\n",
       "        text-align: right;\n",
       "    }\n",
       "</style>\n",
       "<table border=\"1\" class=\"dataframe\">\n",
       "  <thead>\n",
       "    <tr style=\"text-align: right;\">\n",
       "      <th></th>\n",
       "      <th>sentiment</th>\n",
       "      <th>author</th>\n",
       "      <th>content</th>\n",
       "      <th>label</th>\n",
       "    </tr>\n",
       "  </thead>\n",
       "  <tbody>\n",
       "    <tr>\n",
       "      <th>366</th>\n",
       "      <td>worry</td>\n",
       "      <td>jmil1733</td>\n",
       "      <td>I feel so deflated. No more doggy.</td>\n",
       "      <td>negative</td>\n",
       "    </tr>\n",
       "    <tr>\n",
       "      <th>521</th>\n",
       "      <td>worry</td>\n",
       "      <td>Chassidy7</td>\n",
       "      <td>Somebody please save the polar bears!</td>\n",
       "      <td>negative</td>\n",
       "    </tr>\n",
       "    <tr>\n",
       "      <th>1026</th>\n",
       "      <td>neutral</td>\n",
       "      <td>benmfowler</td>\n",
       "      <td>I'm at work</td>\n",
       "      <td>neutral</td>\n",
       "    </tr>\n",
       "    <tr>\n",
       "      <th>3684</th>\n",
       "      <td>sadness</td>\n",
       "      <td>nnurse</td>\n",
       "      <td>@dublins98dave me too! I am down 400 euro</td>\n",
       "      <td>negative</td>\n",
       "    </tr>\n",
       "    <tr>\n",
       "      <th>4363</th>\n",
       "      <td>worry</td>\n",
       "      <td>becca4656</td>\n",
       "      <td>is upset, I left my phone at home again</td>\n",
       "      <td>negative</td>\n",
       "    </tr>\n",
       "    <tr>\n",
       "      <th>...</th>\n",
       "      <td>...</td>\n",
       "      <td>...</td>\n",
       "      <td>...</td>\n",
       "      <td>...</td>\n",
       "    </tr>\n",
       "    <tr>\n",
       "      <th>39859</th>\n",
       "      <td>love</td>\n",
       "      <td>Miamarie33</td>\n",
       "      <td>Happy Mothers Day</td>\n",
       "      <td>positive</td>\n",
       "    </tr>\n",
       "    <tr>\n",
       "      <th>39898</th>\n",
       "      <td>love</td>\n",
       "      <td>xoxodominique</td>\n",
       "      <td>happy mothers day!</td>\n",
       "      <td>positive</td>\n",
       "    </tr>\n",
       "    <tr>\n",
       "      <th>39913</th>\n",
       "      <td>happiness</td>\n",
       "      <td>wailanik</td>\n",
       "      <td>happy mother's day!</td>\n",
       "      <td>positive</td>\n",
       "    </tr>\n",
       "    <tr>\n",
       "      <th>39915</th>\n",
       "      <td>love</td>\n",
       "      <td>ennahdii</td>\n",
       "      <td>happy mother's day everyone</td>\n",
       "      <td>positive</td>\n",
       "    </tr>\n",
       "    <tr>\n",
       "      <th>39945</th>\n",
       "      <td>love</td>\n",
       "      <td>chronophasia</td>\n",
       "      <td>Happy Mother's Day to all the moms out there!</td>\n",
       "      <td>positive</td>\n",
       "    </tr>\n",
       "  </tbody>\n",
       "</table>\n",
       "<p>173 rows × 4 columns</p>\n",
       "</div>"
      ],
      "text/plain": [
       "       sentiment         author  \\\n",
       "366        worry       jmil1733   \n",
       "521        worry      Chassidy7   \n",
       "1026     neutral     benmfowler   \n",
       "3684     sadness         nnurse   \n",
       "4363       worry      becca4656   \n",
       "...          ...            ...   \n",
       "39859       love     Miamarie33   \n",
       "39898       love  xoxodominique   \n",
       "39913  happiness       wailanik   \n",
       "39915       love       ennahdii   \n",
       "39945       love   chronophasia   \n",
       "\n",
       "                                             content     label  \n",
       "366               I feel so deflated. No more doggy.  negative  \n",
       "521            Somebody please save the polar bears!  negative  \n",
       "1026                                     I'm at work   neutral  \n",
       "3684       @dublins98dave me too! I am down 400 euro  negative  \n",
       "4363         is upset, I left my phone at home again  negative  \n",
       "...                                              ...       ...  \n",
       "39859                              Happy Mothers Day  positive  \n",
       "39898                             happy mothers day!  positive  \n",
       "39913                            happy mother's day!  positive  \n",
       "39915                    happy mother's day everyone  positive  \n",
       "39945  Happy Mother's Day to all the moms out there!  positive  \n",
       "\n",
       "[173 rows x 4 columns]"
      ]
     },
     "execution_count": 263,
     "metadata": {},
     "output_type": "execute_result"
    }
   ],
   "source": [
    "# Check for duplicates\n",
    "dfcopy[dfcopy['content'].duplicated() == True]"
   ]
  },
  {
   "cell_type": "markdown",
   "metadata": {},
   "source": [
    "in this step I reindex the data set"
   ]
  },
  {
   "cell_type": "code",
   "execution_count": 264,
   "metadata": {},
   "outputs": [],
   "source": [
    "# Drop duplicated values\n",
    "index = dfcopy[dfcopy['content'].duplicated() == True].index\n",
    "dfcopy.drop(index, axis = 0, inplace = True)\n",
    "dfcopy.reset_index(inplace=True, drop = True)"
   ]
  },
  {
   "cell_type": "markdown",
   "metadata": {},
   "source": [
    "after remove the duplicate rows we have 39827 rows with three columns"
   ]
  },
  {
   "cell_type": "code",
   "execution_count": 265,
   "metadata": {},
   "outputs": [
    {
     "data": {
      "text/plain": [
       "(39827, 4)"
      ]
     },
     "execution_count": 265,
     "metadata": {},
     "output_type": "execute_result"
    }
   ],
   "source": [
    "# Final shape of data after dropping duplicates\n",
    "dfcopy.shape\n",
    "#dfcopy.info"
   ]
  },
  {
   "cell_type": "code",
   "execution_count": 217,
   "metadata": {},
   "outputs": [],
   "source": [
    "# Drop the original column, 'sentiment'\n",
    "#dfcopy = dfcopy.drop(columns=['sentiment'])"
   ]
  },
  {
   "cell_type": "code",
   "execution_count": 266,
   "metadata": {},
   "outputs": [
    {
     "name": "stdout",
     "output_type": "stream",
     "text": [
      "          Counts  Percentage\n",
      "label                       \n",
      "negative   16024     40.0600\n",
      "positive   13024     32.5600\n",
      "neutral    10779     26.9475\n",
      "\n",
      "total values: 3\n"
     ]
    }
   ],
   "source": [
    "# Calculate the frequency distribution of 'sentiment'\n",
    "frequency_counts = dfcopy['label'].value_counts()\n",
    "\n",
    "frequency_percentage = (frequency_counts / len(df['label'])) * 100\n",
    "frequency_df = pd.DataFrame({'Counts': frequency_counts, 'Percentage': frequency_percentage})\n",
    "\n",
    "print(frequency_df)\n",
    "\n",
    "# Total value count\n",
    "cardinality = df['label'].nunique()\n",
    "print(f\"\\ntotal values: {cardinality}\")"
   ]
  },
  {
   "cell_type": "code",
   "execution_count": 267,
   "metadata": {},
   "outputs": [
    {
     "name": "stdout",
     "output_type": "stream",
     "text": [
      "['negative' 'positive' 'neutral']\n"
     ]
    }
   ],
   "source": [
    "# Final check - Extract unique values from 'sentiment'\n",
    "unique_sentiments = dfcopy['label'].unique()\n",
    "print(unique_sentiments)"
   ]
  },
  {
   "cell_type": "code",
   "execution_count": 268,
   "metadata": {},
   "outputs": [
    {
     "data": {
      "image/png": "[encoded data removed]",
      "text/plain": [
       "<Figure size 700x400 with 1 Axes>"
      ]
     },
     "metadata": {},
     "output_type": "display_data"
    }
   ],
   "source": [
    "\n",
    "\n",
    "# Your DataFrame and countplot code\n",
    "plt.figure(figsize=(7,4))\n",
    "ax = sns.countplot(x='label', data=dfcopy, palette='husl')\n",
    "\n",
    "# Calculate total number of data points\n",
    "total = len(dfcopy['label'])\n",
    "\n",
    "# Annotate each bar with its percentage\n",
    "for p in ax.patches:\n",
    "    height = p.get_height()\n",
    "    percentage = (height / total) * 100\n",
    "    ax.text(p.get_x() + p.get_width() / 2., height + 0.1, f'{percentage:.1f}%', ha='center', va='bottom')\n",
    "\n",
    "plt.show()\n",
    "\n",
    "\n"
   ]
  },
  {
   "cell_type": "code",
   "execution_count": 269,
   "metadata": {},
   "outputs": [
    {
     "data": {
      "text/html": [
       "<div>\n",
       "<style scoped>\n",
       "    .dataframe tbody tr th:only-of-type {\n",
       "        vertical-align: middle;\n",
       "    }\n",
       "\n",
       "    .dataframe tbody tr th {\n",
       "        vertical-align: top;\n",
       "    }\n",
       "\n",
       "    .dataframe thead th {\n",
       "        text-align: right;\n",
       "    }\n",
       "</style>\n",
       "<table border=\"1\" class=\"dataframe\">\n",
       "  <thead>\n",
       "    <tr style=\"text-align: right;\">\n",
       "      <th></th>\n",
       "      <th>sentiment</th>\n",
       "      <th>author</th>\n",
       "      <th>content</th>\n",
       "      <th>label_num</th>\n",
       "    </tr>\n",
       "  </thead>\n",
       "  <tbody>\n",
       "    <tr>\n",
       "      <th>0</th>\n",
       "      <td>empty</td>\n",
       "      <td>xoshayzers</td>\n",
       "      <td>@tiffanylue i know  i was listenin to bad habi...</td>\n",
       "      <td>0</td>\n",
       "    </tr>\n",
       "    <tr>\n",
       "      <th>1</th>\n",
       "      <td>sadness</td>\n",
       "      <td>wannamama</td>\n",
       "      <td>Layin n bed with a headache  ughhhh...waitin o...</td>\n",
       "      <td>0</td>\n",
       "    </tr>\n",
       "    <tr>\n",
       "      <th>2</th>\n",
       "      <td>sadness</td>\n",
       "      <td>coolfunky</td>\n",
       "      <td>Funeral ceremony...gloomy friday...</td>\n",
       "      <td>0</td>\n",
       "    </tr>\n",
       "    <tr>\n",
       "      <th>3</th>\n",
       "      <td>enthusiasm</td>\n",
       "      <td>czareaquino</td>\n",
       "      <td>wants to hang out with friends SOON!</td>\n",
       "      <td>1</td>\n",
       "    </tr>\n",
       "    <tr>\n",
       "      <th>4</th>\n",
       "      <td>neutral</td>\n",
       "      <td>xkilljoyx</td>\n",
       "      <td>@dannycastillo We want to trade with someone w...</td>\n",
       "      <td>2</td>\n",
       "    </tr>\n",
       "  </tbody>\n",
       "</table>\n",
       "</div>"
      ],
      "text/plain": [
       "    sentiment       author                                            content  \\\n",
       "0       empty   xoshayzers  @tiffanylue i know  i was listenin to bad habi...   \n",
       "1     sadness    wannamama  Layin n bed with a headache  ughhhh...waitin o...   \n",
       "2     sadness    coolfunky                Funeral ceremony...gloomy friday...   \n",
       "3  enthusiasm  czareaquino               wants to hang out with friends SOON!   \n",
       "4     neutral    xkilljoyx  @dannycastillo We want to trade with someone w...   \n",
       "\n",
       "   label_num  \n",
       "0          0  \n",
       "1          0  \n",
       "2          0  \n",
       "3          1  \n",
       "4          2  "
      ]
     },
     "execution_count": 269,
     "metadata": {},
     "output_type": "execute_result"
    }
   ],
   "source": [
    "# Mapping sentiment num / encode\n",
    "dfcopy[\"label_num\"] = dfcopy.label.map({\n",
    "    'negative': 0,\n",
    "    'positive': 1,\n",
    "    'neutral': 2\n",
    "})\n",
    "\n",
    "dfcopy = dfcopy.drop(columns=['label'])\n",
    "dfcopy.head(5)"
   ]
  },
  {
   "cell_type": "code",
   "execution_count": 270,
   "metadata": {},
   "outputs": [
    {
     "name": "stdout",
     "output_type": "stream",
     "text": [
      "39827\n",
      "39827\n"
     ]
    }
   ],
   "source": [
    "X = dfcopy['content']\n",
    "y = dfcopy['label_num']\n",
    "\n",
    "# Making sure that X y have the same length\n",
    "print(len(X))\n",
    "print(len(y))"
   ]
  },
  {
   "cell_type": "code",
   "execution_count": 271,
   "metadata": {},
   "outputs": [
    {
     "data": {
      "text/plain": [
       "Index(['sentiment', 'author', 'content', 'label_num'], dtype='object')"
      ]
     },
     "execution_count": 271,
     "metadata": {},
     "output_type": "execute_result"
    }
   ],
   "source": [
    "dfcopy.columns"
   ]
  },
  {
   "cell_type": "code",
   "execution_count": 272,
   "metadata": {},
   "outputs": [
    {
     "name": "stdout",
     "output_type": "stream",
     "text": [
      "        sentiment       author  \\\n",
      "0           empty   xoshayzers   \n",
      "1         sadness    wannamama   \n",
      "2         sadness    coolfunky   \n",
      "3      enthusiasm  czareaquino   \n",
      "4         neutral    xkilljoyx   \n",
      "...           ...          ...   \n",
      "19995       worry       AP2005   \n",
      "19996        love   rissastory   \n",
      "19997     neutral    kridrules   \n",
      "19998   happiness       isabuu   \n",
      "19999   happiness    gAllethOo   \n",
      "\n",
      "                                                 content  label_num  \n",
      "0      @tiffanylue i know  i was listenin to bad habi...          0  \n",
      "1      Layin n bed with a headache  ughhhh...waitin o...          0  \n",
      "2                    Funeral ceremony...gloomy friday...          0  \n",
      "3                   wants to hang out with friends SOON!          1  \n",
      "4      @dannycastillo We want to trade with someone w...          2  \n",
      "...                                                  ...        ...  \n",
      "19995  I just want this semester to be over! Only a w...          0  \n",
      "19996  listening to i can't wait - akon feat t pain ....          1  \n",
      "19997         Cleaning my room and listening to britney.          2  \n",
      "19998  @aruky Yes, this NBA song is great!!!  Got an ...          1  \n",
      "19999   NEW LOGO! for all the Web, Cheak it!...gAllethOo          1  \n",
      "\n",
      "[20000 rows x 4 columns]\n"
     ]
    }
   ],
   "source": [
    "# Deviding the dataset into 10 parts\n",
    "part_1 = dfcopy.iloc[0:20000,:]\n",
    "part_2 = dfcopy.iloc[20000:39827,:]\n",
    "print(part_1)"
   ]
  },
  {
   "cell_type": "code",
   "execution_count": 273,
   "metadata": {},
   "outputs": [],
   "source": [
    "lemmatizer = WordNetLemmatizer()\n",
    "def lemmatize(tokens):\n",
    "    pos_tags = pos_tag(tokens)\n",
    "    wn_pos_tags = {'N': 'n', 'V': 'v', 'R': 'r', 'J': 'a'}\n",
    "    \n",
    "    # Lemmatize each word based on its POS tag\n",
    "    lemmas = []\n",
    "    for token, pos in pos_tags:\n",
    "        pos = wn_pos_tags.get(pos[0].upper(), 'n')  # If the POS tag is not recognized, default to noun (n)\n",
    "        lemma = lemmatizer.lemmatize(token, pos=pos)\n",
    "        lemmas.append(lemma)\n",
    "    return lemmas"
   ]
  },
  {
   "cell_type": "code",
   "execution_count": 274,
   "metadata": {},
   "outputs": [],
   "source": [
    "# Text Processing in a single code\n",
    "#import nltk\n",
    "#nltk.download('words')\n",
    "\n",
    "words = set(nltk.corpus.words.words())\n",
    "def text_cleaner(contents):\n",
    "    contents = \" \".join(filter(lambda x: x[0]!= '@' , contents.split())) # removes any word which starts with @.\n",
    "    contents = re.sub('[^0-9a-zA-Z]', ' ', contents) # substitute all non-alphabetic characters in the string with spaces.\n",
    "    contents = contents.lower() # lowercasing\n",
    "    contents = re.sub(' +', ' ', contents).strip() # replacing more than one space with 1 space and remove any leading and trailing space.\n",
    "    contents = nltk.wordpunct_tokenize(contents)\n",
    "    contents = [word for word in contents if not word.isdigit()]\n",
    "    contents = [word for word in contents if word.lower() in words or not word.isalpha()]\n",
    "    contents = [word for word in contents if not word in set(stopwords.words('english'))] # Keeping only the non-stop words in the string\n",
    "    contents = lemmatize(contents)\n",
    "    contents = \" \".join(contents)\n",
    "    return contents"
   ]
  },
  {
   "cell_type": "code",
   "execution_count": 275,
   "metadata": {},
   "outputs": [
    {
     "name": "stderr",
     "output_type": "stream",
     "text": [
      "C:\\Users\\Nastaran\\AppData\\Local\\Temp\\ipykernel_10944\\3514124814.py:1: SettingWithCopyWarning: \n",
      "A value is trying to be set on a copy of a slice from a DataFrame.\n",
      "Try using .loc[row_indexer,col_indexer] = value instead\n",
      "\n",
      "See the caveats in the documentation: https://pandas.pydata.org/pandas-docs/stable/user_guide/indexing.html#returning-a-view-versus-a-copy\n",
      "  part_1.loc[:, 'clean_content'] = part_1['content'].apply(text_cleaner)\n"
     ]
    }
   ],
   "source": [
    "part_1.loc[:, 'clean_content'] = part_1['content'].apply(text_cleaner)\n"
   ]
  },
  {
   "cell_type": "code",
   "execution_count": 229,
   "metadata": {},
   "outputs": [
    {
     "name": "stderr",
     "output_type": "stream",
     "text": [
      "C:\\Users\\Nastaran\\AppData\\Local\\Temp\\ipykernel_10944\\385989757.py:1: SettingWithCopyWarning: \n",
      "A value is trying to be set on a copy of a slice from a DataFrame.\n",
      "Try using .loc[row_indexer,col_indexer] = value instead\n",
      "\n",
      "See the caveats in the documentation: https://pandas.pydata.org/pandas-docs/stable/user_guide/indexing.html#returning-a-view-versus-a-copy\n",
      "  part_2.loc[:, 'clean_content'] = part_2['content'].apply(text_cleaner)\n"
     ]
    }
   ],
   "source": [
    "part_2.loc[:, 'clean_content'] = part_2['content'].apply(text_cleaner)\n"
   ]
  },
  {
   "cell_type": "code",
   "execution_count": 230,
   "metadata": {},
   "outputs": [],
   "source": [
    "cleandf = pd.concat([part_1, part_2])\n"
   ]
  },
  {
   "cell_type": "code",
   "execution_count": 231,
   "metadata": {},
   "outputs": [
    {
     "data": {
      "text/plain": [
       "<bound method DataFrame.info of               author                                            content  \\\n",
       "0         xoshayzers  @tiffanylue i know  i was listenin to bad habi...   \n",
       "1          wannamama  Layin n bed with a headache  ughhhh...waitin o...   \n",
       "2          coolfunky                Funeral ceremony...gloomy friday...   \n",
       "3        czareaquino               wants to hang out with friends SOON!   \n",
       "4          xkilljoyx  @dannycastillo We want to trade with someone w...   \n",
       "...              ...                                                ...   \n",
       "39822  showMe_Heaven                                   @JohnLloydTaylor   \n",
       "39823       drapeaux                     Happy Mothers Day  All my love   \n",
       "39824       JenniRox  Happy Mother's Day to all the mommies out ther...   \n",
       "39825       ipdaman1  @niariley WASSUP BEAUTIFUL!!! FOLLOW ME!!  PEE...   \n",
       "39826    Alpharalpha  @mopedronin bullet train from tokyo    the gf ...   \n",
       "\n",
       "       label_num                                     clean_content  \n",
       "0              0                               know bad habit part  \n",
       "1              0                               n bed headache call  \n",
       "2              0                           funeral ceremony gloomy  \n",
       "3              1                                              soon  \n",
       "4              2                            want trade someone one  \n",
       "...          ...                                               ...  \n",
       "39822          2                                                    \n",
       "39823          1                                    happy day love  \n",
       "39824          1       happy mother day woman man long someone day  \n",
       "39825          1  beautiful follow peep new hit single wat u video  \n",
       "39826          1           bullet train visit japan since vacation  \n",
       "\n",
       "[39827 rows x 4 columns]>"
      ]
     },
     "execution_count": 231,
     "metadata": {},
     "output_type": "execute_result"
    }
   ],
   "source": [
    "cleandf.info"
   ]
  },
  {
   "cell_type": "code",
   "execution_count": 277,
   "metadata": {},
   "outputs": [],
   "source": [
    "tokenized_text = []\n",
    "for i in cleandf['clean_content']:\n",
    "    x =  word_tokenize(i)\n",
    "    tokenized_text.append(x)\n",
    "cleandf['tokenized'] = tokenized_text"
   ]
  },
  {
   "cell_type": "markdown",
   "metadata": {},
   "source": [
    "### Investigating Stopwords in Text"
   ]
  },
  {
   "cell_type": "code",
   "execution_count": 278,
   "metadata": {},
   "outputs": [],
   "source": [
    "# Count stopwords present in the data\n",
    "#nltk.download('punkt')\n",
    "def count_stopwords(text):\n",
    "    stop_words = set(stopwords.words(\"english\"))\n",
    "    words = nltk.word_tokenize(text)\n",
    "    return len(set(words) & stop_words)\n",
    "\n",
    "# Add a new col 'stop_words' that contains the count of stopwords\n",
    "cleandf['stop_words'] = cleandf['content'].apply(count_stopwords)\n",
    "value_counts = cleandf['stop_words'].value_counts()"
   ]
  },
  {
   "cell_type": "code",
   "execution_count": 279,
   "metadata": {},
   "outputs": [
    {
     "name": "stdout",
     "output_type": "stream",
     "text": [
      "                                                 content  label_num  \\\n",
      "0      @tiffanylue i know  i was listenin to bad habi...          0   \n",
      "1      Layin n bed with a headache  ughhhh...waitin o...          0   \n",
      "3                   wants to hang out with friends SOON!          1   \n",
      "4      @dannycastillo We want to trade with someone w...          2   \n",
      "5      Re-pinging @ghostridah14: why didn't you go to...          0   \n",
      "...                                                  ...        ...   \n",
      "39819  @jasimmo Ooo showing of your French skills!! l...          2   \n",
      "39820  @sendsome2me haha, yeah. Twitter has many uses...          2   \n",
      "39823                     Happy Mothers Day  All my love          1   \n",
      "39824  Happy Mother's Day to all the mommies out ther...          1   \n",
      "39826  @mopedronin bullet train from tokyo    the gf ...          1   \n",
      "\n",
      "                                     clean_content  \\\n",
      "0                              know bad habit part   \n",
      "1                              n bed headache call   \n",
      "3                                             soon   \n",
      "4                           want trade someone one   \n",
      "5                                          go like   \n",
      "...                                            ...   \n",
      "39819           show good lovely weather outside u   \n",
      "39820                  yeah twitter many know care   \n",
      "39823                               happy day love   \n",
      "39824  happy mother day woman man long someone day   \n",
      "39826      bullet train visit japan since vacation   \n",
      "\n",
      "                                               tokenized  content_length  \\\n",
      "0                               [know, bad, habit, part]              92   \n",
      "1                               [n, bed, headache, call]              60   \n",
      "3                                                 [soon]              36   \n",
      "4                            [want, trade, someone, one]              86   \n",
      "5                                             [go, like]              84   \n",
      "...                                                  ...             ...   \n",
      "39819          [show, good, lovely, weather, outside, u]             118   \n",
      "39820                  [yeah, twitter, many, know, care]             108   \n",
      "39823                                 [happy, day, love]              30   \n",
      "39824  [happy, mother, day, woman, man, long, someone...             123   \n",
      "39826     [bullet, train, visit, japan, since, vacation]             132   \n",
      "\n",
      "       tokenized_length  clean_content_length  stop_words  \n",
      "0                     4                    19           6  \n",
      "1                     4                    19           4  \n",
      "3                     1                     4           3  \n",
      "4                     4                    22           6  \n",
      "5                     2                     7           5  \n",
      "...                 ...                   ...         ...  \n",
      "39819                 6                    34           6  \n",
      "39820                 5                    27          11  \n",
      "39823                 3                    14           1  \n",
      "39824                 8                    43          12  \n",
      "39826                 6                    39           6  \n",
      "\n",
      "[36279 rows x 8 columns]\n"
     ]
    }
   ],
   "source": [
    "# Count the number of stopwords in the data\n",
    "temp = cleandf.copy()\n",
    "stop_words = set(stopwords.words(\"english\"))\n",
    "temp['stop_words'] = temp['content'].apply(lambda x: len(set(x.split()) & stop_words))\n",
    "\n",
    "# Print rows that contain stopwords\n",
    "rows_with_stopwords = temp[temp['stop_words'] > 0]\n",
    "print(rows_with_stopwords)"
   ]
  },
  {
   "cell_type": "code",
   "execution_count": 280,
   "metadata": {},
   "outputs": [
    {
     "data": {
      "text/plain": [
       "content                     cant fall asleep\n",
       "label_num                                  2\n",
       "clean_content               cant fall asleep\n",
       "tokenized               [cant, fall, asleep]\n",
       "content_length                            16\n",
       "tokenized_length                           3\n",
       "clean_content_length                      16\n",
       "stop_words                                 0\n",
       "Name: 10, dtype: object"
      ]
     },
     "execution_count": 280,
     "metadata": {},
     "output_type": "execute_result"
    }
   ],
   "source": [
    "# Explore tweet that contains stopwords\n",
    "cleandf['content'][10]\n",
    "cleandf.loc[10]"
   ]
  },
  {
   "cell_type": "code",
   "execution_count": 281,
   "metadata": {},
   "outputs": [
    {
     "data": {
      "text/plain": [
       "0"
      ]
     },
     "execution_count": 281,
     "metadata": {},
     "output_type": "execute_result"
    }
   ],
   "source": [
    "# Count stopwords in index 10\n",
    "stop_words = set(stopwords.words(\"english\"))\n",
    "cleandf_indx = cleandf['content'][10]\n",
    "stopword_count = len([word for word in cleandf_indx.split() if word in stop_words])\n",
    "stopword_count"
   ]
  },
  {
   "cell_type": "code",
   "execution_count": 282,
   "metadata": {},
   "outputs": [
    {
     "name": "stdout",
     "output_type": "stream",
     "text": [
      "Stopwords in df['content'][10]:\n",
      "[]\n"
     ]
    }
   ],
   "source": [
    "# Print all the stopwords in index 10\n",
    "stopwords_in_content = [word for word in cleandf_indx.split() if word in stop_words]\n",
    "\n",
    "print(\"Stopwords in df['content'][10]:\")\n",
    "print(stopwords_in_content)\n"
   ]
  },
  {
   "cell_type": "markdown",
   "metadata": {},
   "source": [
    "## Data Cleaning\n",
    "<p style=\"text-align: justify;\">\n",
    "After text pre-processing, I removed these NaN or duplicate values from dataset. The shape of the dataset reduces into 39827.\n",
    "</p>"
   ]
  },
  {
   "cell_type": "code",
   "execution_count": 283,
   "metadata": {},
   "outputs": [
    {
     "name": "stdout",
     "output_type": "stream",
     "text": [
      "The number of NaN-values in the pre-processed dataset is:  0\n"
     ]
    }
   ],
   "source": [
    "print('The number of NaN-values in the pre-processed dataset is: ', dfcopy['content'].isnull().sum())\n"
   ]
  },
  {
   "cell_type": "code",
   "execution_count": 284,
   "metadata": {},
   "outputs": [
    {
     "data": {
      "text/plain": [
       "<bound method NDFrame.head of Empty DataFrame\n",
       "Columns: [sentiment, author, content, label_num]\n",
       "Index: []>"
      ]
     },
     "execution_count": 284,
     "metadata": {},
     "output_type": "execute_result"
    }
   ],
   "source": [
    "dfcopy.loc[df['content'].isnull()].head"
   ]
  },
  {
   "cell_type": "code",
   "execution_count": 285,
   "metadata": {},
   "outputs": [
    {
     "data": {
      "text/plain": [
       "Index(['content', 'label_num', 'clean_content', 'tokenized', 'content_length',\n",
       "       'tokenized_length', 'clean_content_length', 'stop_words'],\n",
       "      dtype='object')"
      ]
     },
     "execution_count": 285,
     "metadata": {},
     "output_type": "execute_result"
    }
   ],
   "source": [
    "cleandf.shape\n",
    "cleandf.columns\n"
   ]
  },
  {
   "cell_type": "code",
   "execution_count": 287,
   "metadata": {},
   "outputs": [],
   "source": [
    "# Drop the unecessary column \n",
    "cleandf= cleandf.drop(columns=[ 'stop_words', ])"
   ]
  },
  {
   "cell_type": "code",
   "execution_count": 288,
   "metadata": {},
   "outputs": [
    {
     "data": {
      "text/plain": [
       "(39827, 7)"
      ]
     },
     "execution_count": 288,
     "metadata": {},
     "output_type": "execute_result"
    }
   ],
   "source": [
    "#| include: False\n",
    "cleandf.dropna(axis = 0, inplace = True)\n",
    "cleandf.shape"
   ]
  },
  {
   "cell_type": "code",
   "execution_count": 289,
   "metadata": {},
   "outputs": [
    {
     "data": {
      "text/html": [
       "<div>\n",
       "<style scoped>\n",
       "    .dataframe tbody tr th:only-of-type {\n",
       "        vertical-align: middle;\n",
       "    }\n",
       "\n",
       "    .dataframe tbody tr th {\n",
       "        vertical-align: top;\n",
       "    }\n",
       "\n",
       "    .dataframe thead th {\n",
       "        text-align: right;\n",
       "    }\n",
       "</style>\n",
       "<table border=\"1\" class=\"dataframe\">\n",
       "  <thead>\n",
       "    <tr style=\"text-align: right;\">\n",
       "      <th></th>\n",
       "      <th>content</th>\n",
       "      <th>label_num</th>\n",
       "      <th>clean_content</th>\n",
       "      <th>tokenized</th>\n",
       "      <th>content_length</th>\n",
       "      <th>tokenized_length</th>\n",
       "      <th>clean_content_length</th>\n",
       "    </tr>\n",
       "  </thead>\n",
       "  <tbody>\n",
       "  </tbody>\n",
       "</table>\n",
       "</div>"
      ],
      "text/plain": [
       "Empty DataFrame\n",
       "Columns: [content, label_num, clean_content, tokenized, content_length, tokenized_length, clean_content_length]\n",
       "Index: []"
      ]
     },
     "execution_count": 289,
     "metadata": {},
     "output_type": "execute_result"
    }
   ],
   "source": [
    "cleandf.loc[cleandf['clean_content'].isnull()].head()"
   ]
  },
  {
   "cell_type": "markdown",
   "metadata": {},
   "source": [
    "# Data Visualisation\n",
    "###  Comparing the text length with boxplot and histogram\n",
    "In this phase of the project, I examined comment lengths across different label categories by introducing the `content_length` variable to the dataset. Upon analyzing the statistical information of this column, it became apparent that some comments exceed 120 words, although their frequency is relatively low compared to the dataset size. To enhance visualization clarity in the box plot and histogram representations of the `content_length` variable, I opted to filter out comments containing more than 120 words. However, despite this preprocessing step, neither the box plot nor the histogram revealed any significant differences among the label categories."
   ]
  },
  {
   "cell_type": "code",
   "execution_count": 290,
   "metadata": {},
   "outputs": [
    {
     "data": {
      "text/html": [
       "<div>\n",
       "<style scoped>\n",
       "    .dataframe tbody tr th:only-of-type {\n",
       "        vertical-align: middle;\n",
       "    }\n",
       "\n",
       "    .dataframe tbody tr th {\n",
       "        vertical-align: top;\n",
       "    }\n",
       "\n",
       "    .dataframe thead th {\n",
       "        text-align: right;\n",
       "    }\n",
       "</style>\n",
       "<table border=\"1\" class=\"dataframe\">\n",
       "  <thead>\n",
       "    <tr style=\"text-align: right;\">\n",
       "      <th></th>\n",
       "      <th>content</th>\n",
       "      <th>label_num</th>\n",
       "      <th>clean_content</th>\n",
       "      <th>tokenized</th>\n",
       "      <th>content_length</th>\n",
       "      <th>tokenized_length</th>\n",
       "      <th>clean_content_length</th>\n",
       "    </tr>\n",
       "  </thead>\n",
       "  <tbody>\n",
       "    <tr>\n",
       "      <th>0</th>\n",
       "      <td>@tiffanylue i know  i was listenin to bad habi...</td>\n",
       "      <td>0</td>\n",
       "      <td>know bad habit part</td>\n",
       "      <td>[know, bad, habit, part]</td>\n",
       "      <td>92</td>\n",
       "      <td>4</td>\n",
       "      <td>19</td>\n",
       "    </tr>\n",
       "    <tr>\n",
       "      <th>1</th>\n",
       "      <td>Layin n bed with a headache  ughhhh...waitin o...</td>\n",
       "      <td>0</td>\n",
       "      <td>n bed headache call</td>\n",
       "      <td>[n, bed, headache, call]</td>\n",
       "      <td>60</td>\n",
       "      <td>4</td>\n",
       "      <td>19</td>\n",
       "    </tr>\n",
       "    <tr>\n",
       "      <th>2</th>\n",
       "      <td>Funeral ceremony...gloomy friday...</td>\n",
       "      <td>0</td>\n",
       "      <td>funeral ceremony gloomy</td>\n",
       "      <td>[funeral, ceremony, gloomy]</td>\n",
       "      <td>35</td>\n",
       "      <td>3</td>\n",
       "      <td>23</td>\n",
       "    </tr>\n",
       "    <tr>\n",
       "      <th>3</th>\n",
       "      <td>wants to hang out with friends SOON!</td>\n",
       "      <td>1</td>\n",
       "      <td>soon</td>\n",
       "      <td>[soon]</td>\n",
       "      <td>36</td>\n",
       "      <td>1</td>\n",
       "      <td>4</td>\n",
       "    </tr>\n",
       "    <tr>\n",
       "      <th>4</th>\n",
       "      <td>@dannycastillo We want to trade with someone w...</td>\n",
       "      <td>2</td>\n",
       "      <td>want trade someone one</td>\n",
       "      <td>[want, trade, someone, one]</td>\n",
       "      <td>86</td>\n",
       "      <td>4</td>\n",
       "      <td>22</td>\n",
       "    </tr>\n",
       "  </tbody>\n",
       "</table>\n",
       "</div>"
      ],
      "text/plain": [
       "                                             content  label_num  \\\n",
       "0  @tiffanylue i know  i was listenin to bad habi...          0   \n",
       "1  Layin n bed with a headache  ughhhh...waitin o...          0   \n",
       "2                Funeral ceremony...gloomy friday...          0   \n",
       "3               wants to hang out with friends SOON!          1   \n",
       "4  @dannycastillo We want to trade with someone w...          2   \n",
       "\n",
       "             clean_content                    tokenized  content_length  \\\n",
       "0      know bad habit part     [know, bad, habit, part]              92   \n",
       "1      n bed headache call     [n, bed, headache, call]              60   \n",
       "2  funeral ceremony gloomy  [funeral, ceremony, gloomy]              35   \n",
       "3                     soon                       [soon]              36   \n",
       "4   want trade someone one  [want, trade, someone, one]              86   \n",
       "\n",
       "   tokenized_length  clean_content_length  \n",
       "0                 4                    19  \n",
       "1                 4                    19  \n",
       "2                 3                    23  \n",
       "3                 1                     4  \n",
       "4                 4                    22  "
      ]
     },
     "execution_count": 290,
     "metadata": {},
     "output_type": "execute_result"
    }
   ],
   "source": [
    "cleandf['content_length'] = cleandf['content'].str.len()\n",
    "cleandf['tokenized_length'] = cleandf['tokenized'].str.len()\n",
    "cleandf['clean_content_length'] = cleandf['clean_content'].str.len()\n",
    "cleandf.head()"
   ]
  },
  {
   "cell_type": "code",
   "execution_count": 291,
   "metadata": {},
   "outputs": [
    {
     "data": {
      "text/plain": [
       "(39827, 7)"
      ]
     },
     "execution_count": 291,
     "metadata": {},
     "output_type": "execute_result"
    }
   ],
   "source": [
    "cleandf.shape"
   ]
  },
  {
   "cell_type": "code",
   "execution_count": 292,
   "metadata": {},
   "outputs": [
    {
     "data": {
      "text/plain": [
       "count    39827.000000\n",
       "mean        28.827002\n",
       "std         18.339489\n",
       "min          0.000000\n",
       "25%         14.000000\n",
       "50%         26.000000\n",
       "75%         41.000000\n",
       "max        108.000000\n",
       "Name: clean_content_length, dtype: float64"
      ]
     },
     "execution_count": 292,
     "metadata": {},
     "output_type": "execute_result"
    }
   ],
   "source": [
    "cleandf['clean_content_length'].describe()"
   ]
  },
  {
   "cell_type": "code",
   "execution_count": 293,
   "metadata": {},
   "outputs": [
    {
     "name": "stdout",
     "output_type": "stream",
     "text": [
      "The average length of the texts is 28.827001782710223\n"
     ]
    }
   ],
   "source": [
    "# Size of the clean_content\n",
    "total_length = 0\n",
    "num_texts = len(cleandf['clean_content'])\n",
    "for text in cleandf['clean_content']:\n",
    "    total_length += len(text)\n",
    "\n",
    "avg_length = total_length / num_texts\n",
    "\n",
    "print(f\"The average length of the texts is {avg_length}\")"
   ]
  },
  {
   "cell_type": "code",
   "execution_count": 294,
   "metadata": {},
   "outputs": [
    {
     "name": "stdout",
     "output_type": "stream",
     "text": [
      "The average length of the texts is 73.53082079995983\n"
     ]
    }
   ],
   "source": [
    "# Size of the content\n",
    "total_length = 0\n",
    "num_texts = len(cleandf['content'])\n",
    "for text in cleandf['content']:\n",
    "    total_length += len(text)\n",
    "\n",
    "avg_length = total_length / num_texts\n",
    "\n",
    "print(f\"The average length of the texts is {avg_length}\")"
   ]
  },
  {
   "cell_type": "code",
   "execution_count": 295,
   "metadata": {},
   "outputs": [
    {
     "name": "stdout",
     "output_type": "stream",
     "text": [
      "The average length of the texts is 5.262409922916614\n"
     ]
    }
   ],
   "source": [
    "# Size of the tokenized\n",
    "total_length = 0\n",
    "num_texts = len(cleandf['tokenized'])\n",
    "for text in cleandf['tokenized']:\n",
    "    total_length += len(text)\n",
    "\n",
    "avg_length = total_length / num_texts\n",
    "\n",
    "print(f\"The average length of the texts is {avg_length}\")"
   ]
  },
  {
   "cell_type": "code",
   "execution_count": 296,
   "metadata": {},
   "outputs": [
    {
     "data": {
      "text/plain": [
       "(17976, 7)"
      ]
     },
     "execution_count": 296,
     "metadata": {},
     "output_type": "execute_result"
    }
   ],
   "source": [
    "cleandf[cleandf['clean_content_length']>28].shape"
   ]
  },
  {
   "cell_type": "code",
   "execution_count": 297,
   "metadata": {},
   "outputs": [
    {
     "data": {
      "image/png": "[encoded data removed]",
      "text/plain": [
       "<Figure size 640x480 with 1 Axes>"
      ]
     },
     "metadata": {},
     "output_type": "display_data"
    }
   ],
   "source": [
    "# Boxplots of text lenghth\n",
    "plt.figsize = (9,3)\n",
    "filtered_content = cleandf[cleandf['clean_content_length'] < 28]\n",
    "\n",
    "negative_lengths = filtered_content[filtered_content['label_num'] == 0]['clean_content_length']\n",
    "posetive_lengths = filtered_content[filtered_content['label_num'] == 1]['clean_content_length']\n",
    "neutral_lengths = filtered_content[filtered_content['label_num'] == 2]['clean_content_length']\n",
    "plt.boxplot([negative_lengths, posetive_lengths ,neutral_lengths], labels=['negative', 'posetive','neutral'])\n",
    "plt.ylabel('content Length')\n",
    "plt.title('Box Plot of content Length by label_num')\n",
    "plt.show()\n",
    "\n"
   ]
  },
  {
   "cell_type": "code",
   "execution_count": 301,
   "metadata": {},
   "outputs": [
    {
     "data": {
      "image/png": "[encoded data removed]",
      "text/plain": [
       "<Figure size 900x300 with 3 Axes>"
      ]
     },
     "metadata": {},
     "output_type": "display_data"
    }
   ],
   "source": [
    "\n",
    "# Histogram\n",
    "\n",
    "fig, (ax1, ax2, ax3) = plt.subplots(1, 3, figsize=(9, 3))\n",
    "\n",
    "txtlen_negative = filtered_content[filtered_content['label_num'] == 0]['clean_content'].size\n",
    "ax1.hist(txtlen_negative, color='darkgreen', edgecolor='darkgreen')\n",
    "ax1.set_title('Negative Category')\n",
    "\n",
    "txtlen_positive = filtered_content[filtered_content['label_num'] == 1]['clean_content'].size\n",
    "ax2.hist(txtlen_positive, color='darkblue', edgecolor='darkblue')\n",
    "ax2.set_title('Positive Category')\n",
    "\n",
    "txtlen_neutral = filtered_content[filtered_content['label_num'] == 2]['clean_content'].size\n",
    "ax3.hist(txtlen_neutral, color='darkorange', edgecolor='darkorange')\n",
    "ax3.set_title('Neutral Category')\n",
    "\n",
    "plt.show()\n"
   ]
  },
  {
   "cell_type": "markdown",
   "metadata": {},
   "source": [
    "### Word Cloud\n",
    "<p style=\"text-align: justify;\">\n",
    "The word clouds for each label category (positive, negative, neutral) visually showcase the most prevalent words within their respective comments. Utilizing varying font sizes, the word clouds emphasize the frequency of each word, enabling quick recognition of prominent patterns or trends. Interestingly, negative comments exhibit recurrent words like \"even\" and \"also,\" indicating prevalent sentiments, while positive comments lack similarly prominent terms, suggesting a more diverse vocabulary in expressing positivity.\n",
    "</p>"
   ]
  },
  {
   "cell_type": "code",
   "execution_count": 302,
   "metadata": {},
   "outputs": [
    {
     "data": {
      "image/png": "[encoded data removed]",
      "text/plain": [
       "<Figure size 1000x500 with 3 Axes>"
      ]
     },
     "metadata": {},
     "output_type": "display_data"
    }
   ],
   "source": [
    "# Word Cloud\n",
    "\n",
    "\n",
    "fig, (ax1,ax2,ax3) = plt.subplots(1,3,figsize=(10,5))\n",
    "\n",
    "posetive_text = ' '.join(cleandf[cleandf['label_num']==1]['clean_content'])\n",
    "wordcloud_posetive = WordCloud(max_words=73, width=400, height=400).generate(posetive_text)\n",
    "\n",
    "negative_text = ' '.join(cleandf[cleandf['label_num']==0]['clean_content'])\n",
    "wordcloud_negative = WordCloud(max_words=73, width=400, height=400).generate(negative_text)\n",
    "\n",
    "neutral_text = ' '.join(cleandf[cleandf['label_num']==0]['clean_content'])\n",
    "wordcloud_neutral = WordCloud(max_words=73, width=400, height=400).generate(neutral_text)\n",
    "\n",
    "ax1.imshow(wordcloud_posetive, interpolation='bilinear')\n",
    "ax1.axis('off')\n",
    "ax1.set_title('posetive')\n",
    "\n",
    "ax2.imshow(wordcloud_negative, interpolation='bilinear')\n",
    "ax2.axis('off')\n",
    "ax2.set_title('negative')\n",
    "\n",
    "ax3.imshow(wordcloud_neutral, interpolation='bilinear')\n",
    "ax3.axis('off')\n",
    "ax3.set_title('neutral')\n",
    "plt.suptitle('Word Cloud for posetive and negative and neutral');"
   ]
  },
  {
   "cell_type": "markdown",
   "metadata": {},
   "source": [
    "## Dropping the unnessecary columns\n",
    "<p style=\"text-align: justify;\">\n",
    "The objective of this project is to train a classification model on the comments text and the sentiment label. So other columns ('content', 'clean_content', 'content_length',\n",
    "       'tokenized_length', 'clean_content_length') are removed from the dataset and it would be ready for nexts steps.\n",
    "</p>"
   ]
  },
  {
   "cell_type": "code",
   "execution_count": 303,
   "metadata": {},
   "outputs": [
    {
     "data": {
      "text/plain": [
       "Index(['content', 'label_num', 'clean_content', 'tokenized', 'content_length',\n",
       "       'tokenized_length', 'clean_content_length'],\n",
       "      dtype='object')"
      ]
     },
     "execution_count": 303,
     "metadata": {},
     "output_type": "execute_result"
    }
   ],
   "source": [
    "cleandf.columns"
   ]
  },
  {
   "cell_type": "code",
   "execution_count": 304,
   "metadata": {},
   "outputs": [],
   "source": [
    "# Removing unnecessary columns\n",
    "cleandf.drop(['content', 'clean_content', 'content_length','tokenized_length', 'clean_content_length'],axis = 1, inplace = True)"
   ]
  },
  {
   "cell_type": "code",
   "execution_count": 305,
   "metadata": {},
   "outputs": [
    {
     "data": {
      "text/html": [
       "<div>\n",
       "<style scoped>\n",
       "    .dataframe tbody tr th:only-of-type {\n",
       "        vertical-align: middle;\n",
       "    }\n",
       "\n",
       "    .dataframe tbody tr th {\n",
       "        vertical-align: top;\n",
       "    }\n",
       "\n",
       "    .dataframe thead th {\n",
       "        text-align: right;\n",
       "    }\n",
       "</style>\n",
       "<table border=\"1\" class=\"dataframe\">\n",
       "  <thead>\n",
       "    <tr style=\"text-align: right;\">\n",
       "      <th></th>\n",
       "      <th>label_num</th>\n",
       "      <th>tokenized</th>\n",
       "    </tr>\n",
       "  </thead>\n",
       "  <tbody>\n",
       "    <tr>\n",
       "      <th>0</th>\n",
       "      <td>0</td>\n",
       "      <td>[know, bad, habit, part]</td>\n",
       "    </tr>\n",
       "    <tr>\n",
       "      <th>1</th>\n",
       "      <td>0</td>\n",
       "      <td>[n, bed, headache, call]</td>\n",
       "    </tr>\n",
       "    <tr>\n",
       "      <th>2</th>\n",
       "      <td>0</td>\n",
       "      <td>[funeral, ceremony, gloomy]</td>\n",
       "    </tr>\n",
       "    <tr>\n",
       "      <th>3</th>\n",
       "      <td>1</td>\n",
       "      <td>[soon]</td>\n",
       "    </tr>\n",
       "    <tr>\n",
       "      <th>4</th>\n",
       "      <td>2</td>\n",
       "      <td>[want, trade, someone, one]</td>\n",
       "    </tr>\n",
       "  </tbody>\n",
       "</table>\n",
       "</div>"
      ],
      "text/plain": [
       "   label_num                    tokenized\n",
       "0          0     [know, bad, habit, part]\n",
       "1          0     [n, bed, headache, call]\n",
       "2          0  [funeral, ceremony, gloomy]\n",
       "3          1                       [soon]\n",
       "4          2  [want, trade, someone, one]"
      ]
     },
     "execution_count": 305,
     "metadata": {},
     "output_type": "execute_result"
    }
   ],
   "source": [
    "#| include: False\n",
    "cleandf.head()"
   ]
  },
  {
   "cell_type": "markdown",
   "metadata": {},
   "source": [
    "### Training the Word2vec Model\n",
    "<p style=\"text-align: justify;\">\n",
    "Text data is in the form of strings, but machine learning models work with numerical data. Therefore, The text must be converted text to numbers. In order to transfer the texts, I used the Word2Vec technique.\n",
    "Word2Vec is a neural network-based technique for converting text to numerical vectors. It represents each word in the text as a high-dimensional vector, where words that appear in similar contexts have similar vectors. Word2Vec can capture the semantic and syntactic relationships between words in a text, and this makes it a powerful technique for natural language processing (NLP) tasks such as text classification. \n",
    "</p>\n",
    "\n",
    "In used the following hyperparameters for my word2vec model.\n",
    "\n",
    "* vector_size = 100: The vector_size parameter refers to the size of the embedding vector that is learned for each word in the vocabulary. This parameter determines the number of dimensions in the continuous vector space used to represent words. For example, if size_dim=100, each word in the vocabulary will be represented as a vector of 100 floating point values.\n",
    "* window = 4: The window parameter specifies the maximum distance between the current word and the predicted word within a sentence. In other words, it determines the size of the window of words that the algorithm considers when predicting the next word in a sentence.\n",
    "* min_count = 10: This parameter specifies the minimum count of a word that is needed to be included in the vocabulary. The words that occur less than min_count times in the corpus are ignored and not included in the model training process. This parameter is used to filter out rare words, which may not be useful for training a model, and may introduce noise in the final embeddings.\n",
    "* sg = 1: In Word2Vec model, sg stands for \"skip-gram\". It is one of the two algorithms used in Word2Vec, the other being \"continuous bag of words (CBOW)\". The skip-gram model predicts the context words (surrounding words) given a target word, whereas the CBOW model predicts the target word given the context words. The skip-gram model is known to work well with large datasets and rare words, while the CBOW model is faster and works better for frequent words. In Gensim's Word2Vec class, sg=0 corresponds to CBOW, and sg=1 corresponds to Skip-gram. \n",
    "\n",
    "<p style=\"text-align: justify;\">\n",
    "After defining the model and selecting the hyperparameters, I trained it using all the texts in the dataset and then transformed my comments dataset into numeric vectors.\n",
    "</p>\n"
   ]
  },
  {
   "cell_type": "code",
   "execution_count": 351,
   "metadata": {},
   "outputs": [],
   "source": [
    "# code-fold: true\n",
    "# Train the Word2Vec Model\n",
    "\n",
    "vector_size = 100 \n",
    "window = 4 \n",
    "min_count = 10 \n",
    "sg = 1\n",
    "text_processed = pd.Series(cleandf['tokenized']).values\n",
    "\n",
    "w2v_model = Word2Vec(text_processed, vector_size= vector_size , min_count = min_count, window = window, sg = sg)"
   ]
  },
  {
   "cell_type": "markdown",
   "metadata": {},
   "source": [
    "### Transforming texts into numerical vector\n",
    "<p style=\"text-align: justify;\">\n",
    "After trainig the word2vec model using all the comments, the dataset was transformed into vectors.\n",
    "First, the dataset was splited into train and test datasets and  20% of the dataset was kept for testing the model. For each of train and test datasets, I created a new file and stored the word vectors. \n",
    "Then, the average word vector for each of tokenized text was computed. For each iteration (which is equal to the number of the rows), I took the \"tokenized\" text and filtered out any tokens that were not in the vocabulary of the pre-trained Word2Vec model (w2v_model) using a list comprehension. Then I took the mean of the word vectors for the remaining tokens along the rows, resulting in a single vector of length 100 and I converted the resulting NumPy array to a list. If the result was not a list, which means that there were no tokens in the row that were in the vocabulary of the Word2Vec model, then a line of zeros is written to the file instead.\n",
    "Then I wrote the header row to the CSV file. The header row contains the numbers 0 through 99, which correspond to the indices of the elements in each word vector.\n",
    "</p>"
   ]
  },
  {
   "cell_type": "code",
   "execution_count": 307,
   "metadata": {},
   "outputs": [
    {
     "name": "stdout",
     "output_type": "stream",
     "text": [
      "Train Dataset shape:  (31861, 2)\n",
      "Test Dataset shape:  (7966, 2)\n"
     ]
    }
   ],
   "source": [
    "training, testing = train_test_split(cleandf, test_size=0.2, random_state = 15)\n",
    "print('Train Dataset shape: ',training.shape)\n",
    "print('Test Dataset shape: ',testing.shape)"
   ]
  },
  {
   "cell_type": "code",
   "execution_count": 308,
   "metadata": {},
   "outputs": [
    {
     "name": "stderr",
     "output_type": "stream",
     "text": [
      "C:\\Users\\Nastaran\\AppData\\Local\\Packages\\PythonSoftwareFoundation.Python.3.11_qbz5n2kfra8p0\\LocalCache\\local-packages\\Python311\\site-packages\\numpy\\core\\fromnumeric.py:3504: RuntimeWarning: Mean of empty slice.\n",
      "  return _methods._mean(a, axis=axis, dtype=dtype,\n",
      "C:\\Users\\Nastaran\\AppData\\Local\\Packages\\PythonSoftwareFoundation.Python.3.11_qbz5n2kfra8p0\\LocalCache\\local-packages\\Python311\\site-packages\\numpy\\core\\_methods.py:129: RuntimeWarning: invalid value encountered in scalar divide\n",
      "  ret = ret.dtype.type(ret / rcount)\n"
     ]
    }
   ],
   "source": [
    "word2vec_test = r'word2vec_test.csv'\n",
    "\n",
    "with open(word2vec_test, 'w+') as word2vec_file:\n",
    "    for index, row in testing[['tokenized', 'label_num']].iterrows():\n",
    "        # Taking average of vectors in a sentence. This will create an average array that captures the sentiment of the sentence\n",
    "        model_vector = (np.mean([w2v_model.wv[token] for token in row['tokenized'] if token in w2v_model.wv.key_to_index], axis=0)).tolist()\n",
    "        if word2vec_file.tell() == 0:\n",
    "            header = \"label_num,\" + \",\".join(str(item) for item in range(100))\n",
    "            word2vec_file.write(header)\n",
    "            word2vec_file.write(\"\\n\")\n",
    "            \n",
    "        # Check if the line exists else it is vector of zeros\n",
    "        if type(model_vector) is list:  \n",
    "            line1 = \",\".join([str(row['label_num'])] + [str(vector_element) for vector_element in model_vector])\n",
    "        else:\n",
    "            line1 = \",\".join([str(row['label_num'])] + [str(0) for i in range(100)])\n",
    "        word2vec_file.write(line1)\n",
    "        word2vec_file.write('\\n')\n"
   ]
  },
  {
   "cell_type": "code",
   "execution_count": 309,
   "metadata": {},
   "outputs": [
    {
     "name": "stderr",
     "output_type": "stream",
     "text": [
      "C:\\Users\\Nastaran\\AppData\\Local\\Packages\\PythonSoftwareFoundation.Python.3.11_qbz5n2kfra8p0\\LocalCache\\local-packages\\Python311\\site-packages\\numpy\\core\\fromnumeric.py:3504: RuntimeWarning: Mean of empty slice.\n",
      "  return _methods._mean(a, axis=axis, dtype=dtype,\n",
      "C:\\Users\\Nastaran\\AppData\\Local\\Packages\\PythonSoftwareFoundation.Python.3.11_qbz5n2kfra8p0\\LocalCache\\local-packages\\Python311\\site-packages\\numpy\\core\\_methods.py:129: RuntimeWarning: invalid value encountered in scalar divide\n",
      "  ret = ret.dtype.type(ret / rcount)\n"
     ]
    }
   ],
   "source": [
    "word2vec_train = r'word2vec_train.csv'\n",
    "\n",
    "with open(word2vec_train, 'w+') as word2vec_file:\n",
    "    for index, row in training[['tokenized', 'label_num']].iterrows():\n",
    "        # Taking average of vectors in a sentence. This will create an average array that captures the sentiment of the sentence\n",
    "        model_vector = (np.mean([w2v_model.wv[token] for token in row['tokenized'] if token in w2v_model.wv.key_to_index], axis=0)).tolist()\n",
    "        if word2vec_file.tell() == 0:\n",
    "            header = \"label_num,\" + \",\".join(str(item) for item in range(100))\n",
    "            word2vec_file.write(header)\n",
    "            word2vec_file.write(\"\\n\")\n",
    "            \n",
    "        # Check if the line exists else it is vector of zeros\n",
    "        if type(model_vector) is list:  \n",
    "            line1 = \",\".join([str(row['label_num'])] + [str(vector_element) for vector_element in model_vector])\n",
    "        else:\n",
    "            line1 = \",\".join([str(row['label_num'])] + [str(0) for i in range(100)])\n",
    "        word2vec_file.write(line1)\n",
    "        word2vec_file.write('\\n')"
   ]
  },
  {
   "cell_type": "code",
   "execution_count": 352,
   "metadata": {},
   "outputs": [
    {
     "data": {
      "text/html": [
       "<div>\n",
       "<style scoped>\n",
       "    .dataframe tbody tr th:only-of-type {\n",
       "        vertical-align: middle;\n",
       "    }\n",
       "\n",
       "    .dataframe tbody tr th {\n",
       "        vertical-align: top;\n",
       "    }\n",
       "\n",
       "    .dataframe thead th {\n",
       "        text-align: right;\n",
       "    }\n",
       "</style>\n",
       "<table border=\"1\" class=\"dataframe\">\n",
       "  <thead>\n",
       "    <tr style=\"text-align: right;\">\n",
       "      <th></th>\n",
       "      <th>label_num</th>\n",
       "      <th>0</th>\n",
       "      <th>1</th>\n",
       "      <th>2</th>\n",
       "      <th>3</th>\n",
       "      <th>4</th>\n",
       "      <th>5</th>\n",
       "      <th>6</th>\n",
       "      <th>7</th>\n",
       "      <th>8</th>\n",
       "      <th>...</th>\n",
       "      <th>90</th>\n",
       "      <th>91</th>\n",
       "      <th>92</th>\n",
       "      <th>93</th>\n",
       "      <th>94</th>\n",
       "      <th>95</th>\n",
       "      <th>96</th>\n",
       "      <th>97</th>\n",
       "      <th>98</th>\n",
       "      <th>99</th>\n",
       "    </tr>\n",
       "  </thead>\n",
       "  <tbody>\n",
       "    <tr>\n",
       "      <th>0</th>\n",
       "      <td>0</td>\n",
       "      <td>-0.029661</td>\n",
       "      <td>0.116194</td>\n",
       "      <td>-0.015958</td>\n",
       "      <td>-0.036240</td>\n",
       "      <td>0.062973</td>\n",
       "      <td>-0.214918</td>\n",
       "      <td>-0.026812</td>\n",
       "      <td>0.383451</td>\n",
       "      <td>-0.224845</td>\n",
       "      <td>...</td>\n",
       "      <td>0.167502</td>\n",
       "      <td>0.143607</td>\n",
       "      <td>0.051287</td>\n",
       "      <td>0.001971</td>\n",
       "      <td>0.237483</td>\n",
       "      <td>0.056968</td>\n",
       "      <td>0.008562</td>\n",
       "      <td>-0.190817</td>\n",
       "      <td>0.018585</td>\n",
       "      <td>-0.040195</td>\n",
       "    </tr>\n",
       "    <tr>\n",
       "      <th>1</th>\n",
       "      <td>2</td>\n",
       "      <td>-0.019124</td>\n",
       "      <td>-0.047985</td>\n",
       "      <td>-0.193381</td>\n",
       "      <td>-0.175268</td>\n",
       "      <td>0.202902</td>\n",
       "      <td>-0.242197</td>\n",
       "      <td>-0.054902</td>\n",
       "      <td>0.467169</td>\n",
       "      <td>-0.205615</td>\n",
       "      <td>...</td>\n",
       "      <td>0.140185</td>\n",
       "      <td>0.349242</td>\n",
       "      <td>0.346568</td>\n",
       "      <td>-0.097577</td>\n",
       "      <td>0.241006</td>\n",
       "      <td>0.017593</td>\n",
       "      <td>-0.093735</td>\n",
       "      <td>-0.146588</td>\n",
       "      <td>0.113735</td>\n",
       "      <td>-0.274187</td>\n",
       "    </tr>\n",
       "    <tr>\n",
       "      <th>2</th>\n",
       "      <td>0</td>\n",
       "      <td>0.040710</td>\n",
       "      <td>0.228224</td>\n",
       "      <td>-0.094886</td>\n",
       "      <td>0.100622</td>\n",
       "      <td>0.009817</td>\n",
       "      <td>-0.190076</td>\n",
       "      <td>0.208269</td>\n",
       "      <td>0.384254</td>\n",
       "      <td>-0.287756</td>\n",
       "      <td>...</td>\n",
       "      <td>0.334536</td>\n",
       "      <td>0.289468</td>\n",
       "      <td>-0.092252</td>\n",
       "      <td>-0.016789</td>\n",
       "      <td>0.381744</td>\n",
       "      <td>-0.042081</td>\n",
       "      <td>-0.017464</td>\n",
       "      <td>-0.276235</td>\n",
       "      <td>0.057139</td>\n",
       "      <td>0.190358</td>\n",
       "    </tr>\n",
       "    <tr>\n",
       "      <th>3</th>\n",
       "      <td>1</td>\n",
       "      <td>-0.011716</td>\n",
       "      <td>0.115574</td>\n",
       "      <td>-0.004336</td>\n",
       "      <td>-0.024436</td>\n",
       "      <td>0.060093</td>\n",
       "      <td>-0.202999</td>\n",
       "      <td>-0.046890</td>\n",
       "      <td>0.351626</td>\n",
       "      <td>-0.208354</td>\n",
       "      <td>...</td>\n",
       "      <td>0.135247</td>\n",
       "      <td>0.151924</td>\n",
       "      <td>-0.023560</td>\n",
       "      <td>-0.016963</td>\n",
       "      <td>0.243830</td>\n",
       "      <td>0.031647</td>\n",
       "      <td>0.000520</td>\n",
       "      <td>-0.213539</td>\n",
       "      <td>-0.019853</td>\n",
       "      <td>0.010887</td>\n",
       "    </tr>\n",
       "    <tr>\n",
       "      <th>4</th>\n",
       "      <td>1</td>\n",
       "      <td>-0.004554</td>\n",
       "      <td>0.040148</td>\n",
       "      <td>-0.095781</td>\n",
       "      <td>-0.126745</td>\n",
       "      <td>0.055913</td>\n",
       "      <td>-0.308386</td>\n",
       "      <td>-0.020391</td>\n",
       "      <td>0.453742</td>\n",
       "      <td>-0.137050</td>\n",
       "      <td>...</td>\n",
       "      <td>0.303341</td>\n",
       "      <td>0.174747</td>\n",
       "      <td>0.196588</td>\n",
       "      <td>0.113191</td>\n",
       "      <td>0.190035</td>\n",
       "      <td>0.084859</td>\n",
       "      <td>0.072408</td>\n",
       "      <td>-0.160215</td>\n",
       "      <td>0.034325</td>\n",
       "      <td>-0.095075</td>\n",
       "    </tr>\n",
       "  </tbody>\n",
       "</table>\n",
       "<p>5 rows × 101 columns</p>\n",
       "</div>"
      ],
      "text/plain": [
       "   label_num         0         1         2         3         4         5  \\\n",
       "0          0 -0.029661  0.116194 -0.015958 -0.036240  0.062973 -0.214918   \n",
       "1          2 -0.019124 -0.047985 -0.193381 -0.175268  0.202902 -0.242197   \n",
       "2          0  0.040710  0.228224 -0.094886  0.100622  0.009817 -0.190076   \n",
       "3          1 -0.011716  0.115574 -0.004336 -0.024436  0.060093 -0.202999   \n",
       "4          1 -0.004554  0.040148 -0.095781 -0.126745  0.055913 -0.308386   \n",
       "\n",
       "          6         7         8  ...        90        91        92        93  \\\n",
       "0 -0.026812  0.383451 -0.224845  ...  0.167502  0.143607  0.051287  0.001971   \n",
       "1 -0.054902  0.467169 -0.205615  ...  0.140185  0.349242  0.346568 -0.097577   \n",
       "2  0.208269  0.384254 -0.287756  ...  0.334536  0.289468 -0.092252 -0.016789   \n",
       "3 -0.046890  0.351626 -0.208354  ...  0.135247  0.151924 -0.023560 -0.016963   \n",
       "4 -0.020391  0.453742 -0.137050  ...  0.303341  0.174747  0.196588  0.113191   \n",
       "\n",
       "         94        95        96        97        98        99  \n",
       "0  0.237483  0.056968  0.008562 -0.190817  0.018585 -0.040195  \n",
       "1  0.241006  0.017593 -0.093735 -0.146588  0.113735 -0.274187  \n",
       "2  0.381744 -0.042081 -0.017464 -0.276235  0.057139  0.190358  \n",
       "3  0.243830  0.031647  0.000520 -0.213539 -0.019853  0.010887  \n",
       "4  0.190035  0.084859  0.072408 -0.160215  0.034325 -0.095075  \n",
       "\n",
       "[5 rows x 101 columns]"
      ]
     },
     "execution_count": 352,
     "metadata": {},
     "output_type": "execute_result"
    }
   ],
   "source": [
    "word2vectest= pd.read_csv('word2vec_test.csv')\n",
    "word2vectrain = pd.read_csv('word2vec_train.csv')\n",
    "word2vectrain.head()"
   ]
  },
  {
   "cell_type": "markdown",
   "metadata": {},
   "source": [
    "\n",
    "## Training the Classification Model\n",
    "<p style = \"text-align: justify;\">\n",
    "In previous steps, the text dataset was cleaned and transformed into numerical vectors and now it can be used as the input of the classification algorithms. The <b>gender</b> column is the label. In this part of the project, different classification algorithms such as <b>Logidtics Regression, Linear Discriminant Analysis (LDA), Decision Tree, K-Nearest Neighbor, Random Forest Classifier</b> and <b> GaussianNB</b> were trained on the training dataset and their performance were evaluated on the testing dataset. \n",
    "</p>\n",
    "\n",
    "<p style=\"text-align: justify;\">\n",
    "In addition, LSTM model was used for classification. LSTM stands for Long Short-Term Memory, and it is a type of artificial neural network architecture that is commonly used in natural language processing (NLP), speech recognition, and other sequence modeling tasks. I used the Keras library to define my LSTM model. The model has an LSTM layer with 100 neurons, followed by a dense output layer with two neurons (one for each class). As the input vectors have shape (100,) (i.e., 100 features), I reshaped them to have shape (100, 1) to match the input shape of the LSTM layer. The labels are binary (0 or 1), so I used the sparse_categorical_crossentropy loss function and the softmax activation function in the output layer. I trained the model on the training data and used the testing data as validation set during training. After training, I evaluated the model on the test dataset.\n",
    "</p>\n",
    "\n",
    "<p style=\"text-align: justify;\">\n",
    "Based on the presented classification measures, it can be said that the Random Forest Classifier (RFC), which had the highest accuracy, precision, and F1 score, performed the best. Hpwever, with most models scoring at or below 0.56 accuracy, the classifiers' overall performance on this dataset isn't very good. A number of factors, including the complexity and variety of the blog texts and the constraints of the selected categorization algorithms, may have contributed to the low result. \n",
    "</p>\n",
    "\n",
    "| Model    | LSTM | LR   | LDA  | KNN  | DTC  | RFC  | NB   |\n",
    "| -------- | ---- | ---- | ---- | ---- | ---- | ---- | ---- |\n",
    "| Accuracy | 0.50 | 0.56 | 0.56 | 0.55 | 0.54 | 0.58 | 0.53 |\n",
    "| Precision| 0.50 | 0.56 | 0.57 | 0.56 | 0.55 | 0.59 | 0.58 |\n",
    "| Recall   | 0.67 | 0.58 | 0.57 | 0.54 | 0.54 | 0.56 | 0.29 |\n",
    "| F1 Score |   1  | 0.57 | 0.57 | 0.55 | 0.54 | 0.57 | 0.38 |\n",
    "| ROC AUC  | 0.47 | 0.56 | 0.56 | 0.55 | 0.54 | 0.58 | 0.54 |\n",
    "\n"
   ]
  },
  {
   "cell_type": "code",
   "execution_count": 353,
   "metadata": {},
   "outputs": [
    {
     "name": "stdout",
     "output_type": "stream",
     "text": [
      "Epoch 1/10\n",
      "\u001b[1m996/996\u001b[0m \u001b[32m━━━━━━━━━━━━━━━━━━━━\u001b[0m\u001b[37m\u001b[0m \u001b[1m466s\u001b[0m 452ms/step - accuracy: 0.4148 - loss: 1.0795 - val_accuracy: 0.4340 - val_loss: 1.0635\n",
      "Epoch 2/10\n",
      "\u001b[1m996/996\u001b[0m \u001b[32m━━━━━━━━━━━━━━━━━━━━\u001b[0m\u001b[37m\u001b[0m \u001b[1m328s\u001b[0m 330ms/step - accuracy: 0.4390 - loss: 1.0623 - val_accuracy: 0.4371 - val_loss: 1.0575\n",
      "Epoch 3/10\n",
      "\u001b[1m996/996\u001b[0m \u001b[32m━━━━━━━━━━━━━━━━━━━━\u001b[0m\u001b[37m\u001b[0m \u001b[1m299s\u001b[0m 300ms/step - accuracy: 0.4483 - loss: 1.0547 - val_accuracy: 0.4559 - val_loss: 1.0470\n",
      "Epoch 4/10\n",
      "\u001b[1m996/996\u001b[0m \u001b[32m━━━━━━━━━━━━━━━━━━━━\u001b[0m\u001b[37m\u001b[0m \u001b[1m296s\u001b[0m 297ms/step - accuracy: 0.4607 - loss: 1.0496 - val_accuracy: 0.4657 - val_loss: 1.0420\n",
      "Epoch 5/10\n",
      "\u001b[1m996/996\u001b[0m \u001b[32m━━━━━━━━━━━━━━━━━━━━\u001b[0m\u001b[37m\u001b[0m \u001b[1m301s\u001b[0m 302ms/step - accuracy: 0.4633 - loss: 1.0457 - val_accuracy: 0.4736 - val_loss: 1.0369\n",
      "Epoch 6/10\n",
      "\u001b[1m996/996\u001b[0m \u001b[32m━━━━━━━━━━━━━━━━━━━━\u001b[0m\u001b[37m\u001b[0m \u001b[1m275s\u001b[0m 276ms/step - accuracy: 0.4703 - loss: 1.0377 - val_accuracy: 0.4794 - val_loss: 1.0314\n",
      "Epoch 7/10\n",
      "\u001b[1m996/996\u001b[0m \u001b[32m━━━━━━━━━━━━━━━━━━━━\u001b[0m\u001b[37m\u001b[0m \u001b[1m309s\u001b[0m 310ms/step - accuracy: 0.4763 - loss: 1.0368 - val_accuracy: 0.4837 - val_loss: 1.0284\n",
      "Epoch 8/10\n",
      "\u001b[1m996/996\u001b[0m \u001b[32m━━━━━━━━━━━━━━━━━━━━\u001b[0m\u001b[37m\u001b[0m \u001b[1m279s\u001b[0m 280ms/step - accuracy: 0.4847 - loss: 1.0314 - val_accuracy: 0.4832 - val_loss: 1.0328\n",
      "Epoch 9/10\n",
      "\u001b[1m996/996\u001b[0m \u001b[32m━━━━━━━━━━━━━━━━━━━━\u001b[0m\u001b[37m\u001b[0m \u001b[1m275s\u001b[0m 276ms/step - accuracy: 0.4799 - loss: 1.0282 - val_accuracy: 0.4841 - val_loss: 1.0290\n",
      "Epoch 10/10\n",
      "\u001b[1m996/996\u001b[0m \u001b[32m━━━━━━━━━━━━━━━━━━━━\u001b[0m\u001b[37m\u001b[0m \u001b[1m286s\u001b[0m 287ms/step - accuracy: 0.4866 - loss: 1.0242 - val_accuracy: 0.4874 - val_loss: 1.0250\n",
      "\u001b[1m249/249\u001b[0m \u001b[32m━━━━━━━━━━━━━━━━━━━━\u001b[0m\u001b[37m\u001b[0m \u001b[1m31s\u001b[0m 119ms/step\n",
      "Confusion Matrix:\n",
      " [[2412  568  199]\n",
      " [1323 1174  151]\n",
      " [1395  447  297]]\n",
      "Accuracy:  0.4874466482550841\n",
      "F1 Score:  0.45030224181160905\n",
      "Recall:  0.4874466482550841\n",
      "ROC AUC:  0.6431069864217259\n"
     ]
    }
   ],
   "source": [
    "\n",
    "\n",
    "\n",
    "# Assuming word2vectrain and word2vectest are your training and testing datasets\n",
    "\n",
    "# Load the data into NumPy arrays\n",
    "X_train = np.array(word2vectrain.drop('label_num', axis=1))\n",
    "y_train = np.array(word2vectrain['label_num'])\n",
    "X_test = np.array(word2vectest.drop('label_num', axis=1))\n",
    "y_test = np.array(word2vectest['label_num'])\n",
    "\n",
    "# Define the input shape\n",
    "input_shape = (X_train.shape[1], 1)\n",
    "\n",
    "# Define the LSTM model\n",
    "inputs = Input(shape=input_shape)\n",
    "lstm = LSTM(128)(inputs)\n",
    "outputs = Dense(3, activation='softmax')(lstm)\n",
    "model = Model(inputs=inputs, outputs=outputs)\n",
    "\n",
    "# Compile the model\n",
    "model.compile(loss='sparse_categorical_crossentropy', optimizer='adam', metrics=['accuracy'])\n",
    "\n",
    "# Train the model\n",
    "history = model.fit(X_train.reshape((-1, *input_shape)), y_train, batch_size=32, epochs=10, validation_data=(X_test.reshape((-1, *input_shape)), y_test))\n",
    "\n",
    "# Evaluate the model\n",
    "y_pred = model.predict(X_test.reshape((-1, *input_shape)))\n",
    "\n",
    "# Calculate evaluation metrics\n",
    "confusion = confusion_matrix(y_test, np.argmax(y_pred, axis=1))\n",
    "acc = accuracy_score(y_test, np.argmax(y_pred, axis=1))\n",
    "f1 = f1_score(y_test, np.argmax(y_pred, axis=1), average='weighted')  # Specify average for multiclass problems\n",
    "recall = recall_score(y_test, np.argmax(y_pred, axis=1), average='weighted')  # Specify average for multiclass problems\n",
    "roc_auc = roc_auc_score(y_test, y_pred, multi_class='ovr')  # Specify multi_class for multiclass problems\n",
    "\n",
    "# Print classification metrics\n",
    "print('Confusion Matrix:\\n', confusion)\n",
    "print('Accuracy: ', acc)\n",
    "print('F1 Score: ', f1)\n",
    "print('Recall: ', recall)\n",
    "print('ROC AUC: ', roc_auc)\n"
   ]
  },
  {
   "cell_type": "code",
   "execution_count": 384,
   "metadata": {},
   "outputs": [
    {
     "name": "stdout",
     "output_type": "stream",
     "text": [
      "[[-0.02966123  0.11619443 -0.01595845 ... -0.19081743  0.01858508\n",
      "  -0.04019495]\n",
      " [-0.01912369 -0.04798548 -0.19338098 ... -0.14658822  0.11373513\n",
      "  -0.27418661]\n",
      " [ 0.04071048  0.22822431 -0.09488647 ... -0.27623475  0.05713858\n",
      "   0.1903577 ]\n",
      " ...\n",
      " [-0.11781733  0.13750257  0.09287969 ... -0.00638385 -0.05317916\n",
      "  -0.08796958]\n",
      " [ 0.0408585   0.05592773 -0.14478357 ... -0.22144604  0.02533188\n",
      "  -0.08521757]\n",
      " [ 0.00590493  0.09517135  0.04310417 ... -0.13222708 -0.00456757\n",
      "  -0.08932787]]\n"
     ]
    }
   ],
   "source": [
    "print(X_train)"
   ]
  },
  {
   "cell_type": "code",
   "execution_count": 312,
   "metadata": {},
   "outputs": [],
   "source": [
    "models = []\n",
    "models.append(('LR', LogisticRegression(n_jobs=-1, C=10)))\n",
    "models.append(('LDA', LinearDiscriminantAnalysis()))\n",
    "models.append(('KNN', KNeighborsClassifier()))\n",
    "models.append(('DTC', DecisionTreeClassifier()))\n",
    "models.append(('RF', RandomForestClassifier(n_estimators= 100, min_samples_split= 2, min_samples_leaf= 2, max_features= 'auto', max_depth= 12, criterion= 'entropy',\n",
    "                                            bootstrap= True, class_weight='balanced')))\n",
    "models.append(('NB', GaussianNB()))\n"
   ]
  },
  {
   "cell_type": "code",
   "execution_count": 313,
   "metadata": {},
   "outputs": [
    {
     "name": "stdout",
     "output_type": "stream",
     "text": [
      "Classification Algorithms on Data\n",
      "\n",
      "Classifier: LR\n",
      "Accuracy: 0.51\n",
      "Precision: 0.50\n",
      "Recall: 0.47\n",
      "F1 Score: 0.46\n",
      "ROC AUC:0.67\n",
      "\n",
      "Classifier: LDA\n",
      "Accuracy: 0.52\n",
      "Precision: 0.51\n",
      "Recall: 0.48\n",
      "F1 Score: 0.47\n",
      "ROC AUC:0.67\n",
      "\n",
      "Classifier: KNN\n",
      "Accuracy: 0.47\n",
      "Precision: 0.45\n",
      "Recall: 0.44\n",
      "F1 Score: 0.43\n",
      "ROC AUC:0.62\n",
      "\n",
      "Classifier: DTC\n",
      "Accuracy: 0.42\n",
      "Precision: 0.42\n",
      "Recall: 0.42\n",
      "F1 Score: 0.42\n",
      "ROC AUC:0.56\n",
      "\n",
      "Classifier: RF\n",
      "Accuracy: 0.51\n",
      "Precision: 0.49\n",
      "Recall: 0.49\n",
      "F1 Score: 0.49\n",
      "ROC AUC:0.68\n",
      "\n",
      "Classifier: NB\n",
      "Accuracy: 0.46\n",
      "Precision: 0.46\n",
      "Recall: 0.43\n",
      "F1 Score: 0.42\n",
      "ROC AUC:0.62\n",
      "\n"
     ]
    }
   ],
   "source": [
    "\n",
    "\n",
    "print('Classification Algorithms on Data')\n",
    "print()\n",
    "\n",
    "xtrain = word2vectrain.iloc[:,1:]\n",
    "xtest = word2vectest.iloc[:,1:]\n",
    "ytrain = word2vectrain['label_num']\n",
    "ytest = word2vectest['label_num']\n",
    "\n",
    "for name, model in models:\n",
    "    if isinstance(model, RandomForestClassifier):\n",
    "        model.set_params(max_features='sqrt')  # Adjust the max_features parameter\n",
    "    model.fit(xtrain, ytrain)\n",
    "    ypred = model.predict(xtest)\n",
    "    \n",
    "    accuracy = accuracy_score(ytest, ypred) \n",
    "    precision = precision_score(ytest, ypred, average='macro')\n",
    "    recall = recall_score(ytest, ypred, average='macro')\n",
    "    f1 = f1_score(ytest, ypred, average='macro')\n",
    "    \n",
    "    # Calculate ROC AUC score\n",
    "    if len(np.unique(ytest)) > 2:\n",
    "        y_prob = model.predict_proba(xtest)  # Use predict_proba to get probability estimates\n",
    "        roc_auc = roc_auc_score(ytest, y_prob, average='macro', multi_class='ovo')\n",
    "    else:\n",
    "        roc_auc = roc_auc_score(ytest, ypred, average='macro', multi_class='ovr')\n",
    "    \n",
    "    print('Classifier:', name)\n",
    "    print('Accuracy: %.2f' % accuracy)\n",
    "    print('Precision: %.2f' % precision)\n",
    "    print('Recall: %.2f' % recall)\n",
    "    print('F1 Score: %.2f' % f1)\n",
    "    print('ROC AUC:%.2f' % roc_auc)\n",
    "    print()\n"
   ]
  },
  {
   "cell_type": "code",
   "execution_count": 385,
   "metadata": {},
   "outputs": [
    {
     "name": "stdout",
     "output_type": "stream",
     "text": [
      "              0         1         2         3         4         5         6  \\\n",
      "0     -0.029661  0.116194 -0.015958 -0.036240  0.062973 -0.214918 -0.026812   \n",
      "1     -0.019124 -0.047985 -0.193381 -0.175268  0.202902 -0.242197 -0.054902   \n",
      "2      0.040710  0.228224 -0.094886  0.100622  0.009817 -0.190076  0.208269   \n",
      "3     -0.011716  0.115574 -0.004336 -0.024436  0.060093 -0.202999 -0.046890   \n",
      "4     -0.004554  0.040148 -0.095781 -0.126745  0.055913 -0.308386 -0.020391   \n",
      "...         ...       ...       ...       ...       ...       ...       ...   \n",
      "31856  0.042901  0.121721 -0.118741 -0.010035  0.095763 -0.212336  0.087925   \n",
      "31857  0.026825  0.149059  0.037843 -0.027599  0.117137 -0.211525  0.018827   \n",
      "31858 -0.117817  0.137503  0.092880  0.046143  0.175446 -0.210655  0.095885   \n",
      "31859  0.040858  0.055928 -0.144784 -0.153553  0.092578 -0.346552 -0.000227   \n",
      "31860  0.005905  0.095171  0.043104 -0.069593  0.119294 -0.234495 -0.030989   \n",
      "\n",
      "              7         8         9  ...        90        91        92  \\\n",
      "0      0.383451 -0.224845 -0.066000  ...  0.167502  0.143607  0.051287   \n",
      "1      0.467169 -0.205615 -0.154263  ...  0.140185  0.349242  0.346568   \n",
      "2      0.384254 -0.287756 -0.173827  ...  0.334536  0.289468 -0.092252   \n",
      "3      0.351626 -0.208354 -0.101491  ...  0.135247  0.151924 -0.023560   \n",
      "4      0.453742 -0.137050 -0.138168  ...  0.303341  0.174747  0.196588   \n",
      "...         ...       ...       ...  ...       ...       ...       ...   \n",
      "31856  0.410936 -0.201076 -0.196455  ...  0.282843  0.178085  0.077296   \n",
      "31857  0.352143 -0.180000 -0.171684  ...  0.093869  0.074049  0.041361   \n",
      "31858  0.499880 -0.226498 -0.047383  ...  0.324554  0.095155  0.079363   \n",
      "31859  0.442345 -0.149299 -0.234371  ...  0.331855  0.207038  0.189194   \n",
      "31860  0.417532 -0.226511 -0.104829  ...  0.284576  0.186520  0.029993   \n",
      "\n",
      "             93        94        95        96        97        98        99  \n",
      "0      0.001971  0.237483  0.056968  0.008562 -0.190817  0.018585 -0.040195  \n",
      "1     -0.097577  0.241006  0.017593 -0.093735 -0.146588  0.113735 -0.274187  \n",
      "2     -0.016789  0.381744 -0.042081 -0.017464 -0.276235  0.057139  0.190358  \n",
      "3     -0.016963  0.243830  0.031647  0.000520 -0.213539 -0.019853  0.010887  \n",
      "4      0.113191  0.190035  0.084859  0.072408 -0.160215  0.034325 -0.095075  \n",
      "...         ...       ...       ...       ...       ...       ...       ...  \n",
      "31856  0.100958  0.373328  0.110930 -0.083800 -0.115403  0.025823 -0.199819  \n",
      "31857  0.101619  0.238304  0.108133 -0.050383 -0.215349 -0.001098 -0.019366  \n",
      "31858 -0.177284  0.320005  0.004084  0.066299 -0.006384 -0.053179 -0.087970  \n",
      "31859  0.135677  0.173449  0.043333  0.057270 -0.221446  0.025332 -0.085218  \n",
      "31860  0.004866  0.296578  0.064890 -0.016778 -0.132227 -0.004568 -0.089328  \n",
      "\n",
      "[31861 rows x 100 columns]\n"
     ]
    }
   ],
   "source": [
    "print(xtrain)"
   ]
  },
  {
   "cell_type": "code",
   "execution_count": null,
   "metadata": {},
   "outputs": [
    {
     "data": {
      "image/png": "[encoded data removed]",
      "text/plain": [
       "<Figure size 500x300 with 1 Axes>"
      ]
     },
     "metadata": {},
     "output_type": "display_data"
    },
    {
     "data": {
      "image/png": "[encoded data removed]",
      "text/plain": [
       "<Figure size 500x300 with 1 Axes>"
      ]
     },
     "metadata": {},
     "output_type": "display_data"
    },
    {
     "data": {
      "image/png": "[encoded data removed]",
      "text/plain": [
       "<Figure size 500x300 with 1 Axes>"
      ]
     },
     "metadata": {},
     "output_type": "display_data"
    },
    {
     "data": {
      "image/png": "[encoded data removed]",
      "text/plain": [
       "<Figure size 500x300 with 1 Axes>"
      ]
     },
     "metadata": {},
     "output_type": "display_data"
    },
    {
     "data": {
      "image/png": "[encoded data removed]",
      "text/plain": [
       "<Figure size 500x300 with 1 Axes>"
      ]
     },
     "metadata": {},
     "output_type": "display_data"
    }
   ],
   "source": [
    "# Plotting accuracies\n",
    "plt.figure(figsize=(5, 3))\n",
    "sns.barplot(x=classifiers, y=accuracies, palette='husl')\n",
    "plt.title('Accuracy Scores of Different Classifiers')\n",
    "plt.xlabel('Classifiers')\n",
    "plt.ylabel('Accuracy')\n",
    "plt.ylim(0, 1)  # Set y-axis limits\n",
    "plt.xticks(rotation=45)  # Rotate x-axis labels for better readability\n",
    "plt.show()\n",
    "\n",
    "# Plotting precisions\n",
    "plt.figure(figsize=(5, 3))\n",
    "sns.barplot(x=classifiers, y=precisions, palette='husl')\n",
    "plt.title('Precision Scores of Different Classifiers')\n",
    "plt.xlabel('Classifiers')\n",
    "plt.ylabel('Precision')\n",
    "plt.ylim(0, 1)  # Set y-axis limits\n",
    "plt.xticks(rotation=45)  # Rotate x-axis labels for better readability\n",
    "plt.show()\n",
    "\n",
    "# Plotting recalls\n",
    "plt.figure(figsize=(5, 3))\n",
    "sns.barplot(x=classifiers, y=recalls, palette='husl')\n",
    "plt.title('Recall Scores of Different Classifiers')\n",
    "plt.xlabel('Classifiers')\n",
    "plt.ylabel('Recall')\n",
    "plt.ylim(0, 1)  # Set y-axis limits\n",
    "plt.xticks(rotation=45)  # Rotate x-axis labels for better readability\n",
    "plt.show()\n",
    "\n",
    "# Plotting F1 scores\n",
    "plt.figure(figsize=(5, 3))\n",
    "sns.barplot(x=classifiers, y=f1_scores, palette='husl')\n",
    "plt.title('F1 Scores of Different Classifiers')\n",
    "plt.xlabel('Classifiers')\n",
    "plt.ylabel('F1 Score')\n",
    "plt.ylim(0, 1)  # Set y-axis limits\n",
    "plt.xticks(rotation=45)  # Rotate x-axis labels for better readability\n",
    "plt.show()\n",
    "\n",
    "# Plotting ROC AUC scores\n",
    "plt.figure(figsize=(5, 3))\n",
    "sns.barplot(x=classifiers, y=roc_auc_scores, palette='husl')\n",
    "plt.title('ROC AUC Scores of Different Classifiers')\n",
    "plt.xlabel('Classifiers')\n",
    "plt.ylabel('ROC AUC Score')\n",
    "plt.ylim(0, 1)  # Set y-axis limits\n",
    "plt.xticks(rotation=45)  # Rotate x-axis labels for better readability\n",
    "plt.show()"
   ]
  },
  {
   "cell_type": "code",
   "execution_count": 329,
   "metadata": {},
   "outputs": [
    {
     "data": {
      "text/html": [
       "<div>\n",
       "<style scoped>\n",
       "    .dataframe tbody tr th:only-of-type {\n",
       "        vertical-align: middle;\n",
       "    }\n",
       "\n",
       "    .dataframe tbody tr th {\n",
       "        vertical-align: top;\n",
       "    }\n",
       "\n",
       "    .dataframe thead th {\n",
       "        text-align: right;\n",
       "    }\n",
       "</style>\n",
       "<table border=\"1\" class=\"dataframe\">\n",
       "  <thead>\n",
       "    <tr style=\"text-align: right;\">\n",
       "      <th></th>\n",
       "      <th>sentiment</th>\n",
       "      <th>comment</th>\n",
       "    </tr>\n",
       "  </thead>\n",
       "  <tbody>\n",
       "    <tr>\n",
       "      <th>0</th>\n",
       "      <td>sadness</td>\n",
       "      <td>Feeling blue today, everything seems gloomy.</td>\n",
       "    </tr>\n",
       "    <tr>\n",
       "      <th>1</th>\n",
       "      <td>happiness</td>\n",
       "      <td>Grinning from ear to ear, life is beautiful!</td>\n",
       "    </tr>\n",
       "    <tr>\n",
       "      <th>2</th>\n",
       "      <td>worry</td>\n",
       "      <td>Anxiety kicking in, can't shake off these thou...</td>\n",
       "    </tr>\n",
       "    <tr>\n",
       "      <th>3</th>\n",
       "      <td>neutral</td>\n",
       "      <td>Feeling neither high nor low, just going with ...</td>\n",
       "    </tr>\n",
       "    <tr>\n",
       "      <th>4</th>\n",
       "      <td>love</td>\n",
       "      <td>Heart bursting with affection, surrounded by w...</td>\n",
       "    </tr>\n",
       "  </tbody>\n",
       "</table>\n",
       "</div>"
      ],
      "text/plain": [
       "   sentiment                                            comment\n",
       "0    sadness       Feeling blue today, everything seems gloomy.\n",
       "1  happiness       Grinning from ear to ear, life is beautiful!\n",
       "2      worry  Anxiety kicking in, can't shake off these thou...\n",
       "3    neutral  Feeling neither high nor low, just going with ...\n",
       "4       love  Heart bursting with affection, surrounded by w..."
      ]
     },
     "execution_count": 329,
     "metadata": {},
     "output_type": "execute_result"
    }
   ],
   "source": [
    "#| include: False\n",
    "chatGPT = pd.read_excel('data/chatGPT.xlsx')\n",
    "chatGPT.head()"
   ]
  },
  {
   "cell_type": "code",
   "execution_count": 330,
   "metadata": {},
   "outputs": [],
   "source": [
    "#  grouping 13 labels into 3 classes: 'negative', 'positive', 'neutral'\n",
    "sentiment_mapping = {\n",
    "    'empty': 'negative',\n",
    "    'sadness': 'negative',\n",
    "    'worry': 'negative',\n",
    "    'hate': 'negative',\n",
    "    'boredom': 'negative',\n",
    "    'anger': 'negative',\n",
    "    'enthusiasm': 'positive',\n",
    "    'neutral': 'neutral',\n",
    "    'surprise': 'neutral',\n",
    "    'love': 'positive',\n",
    "    'fun': 'positive',\n",
    "    'happiness': 'positive',\n",
    "    'relief': 'positive'\n",
    "}\n",
    "\n",
    "# Create a new col for the mapping\n",
    "chatGPT['label'] = chatGPT['sentiment'].map(sentiment_mapping)"
   ]
  },
  {
   "cell_type": "code",
   "execution_count": 331,
   "metadata": {},
   "outputs": [
    {
     "data": {
      "text/html": [
       "<div>\n",
       "<style scoped>\n",
       "    .dataframe tbody tr th:only-of-type {\n",
       "        vertical-align: middle;\n",
       "    }\n",
       "\n",
       "    .dataframe tbody tr th {\n",
       "        vertical-align: top;\n",
       "    }\n",
       "\n",
       "    .dataframe thead th {\n",
       "        text-align: right;\n",
       "    }\n",
       "</style>\n",
       "<table border=\"1\" class=\"dataframe\">\n",
       "  <thead>\n",
       "    <tr style=\"text-align: right;\">\n",
       "      <th></th>\n",
       "      <th>sentiment</th>\n",
       "      <th>comment</th>\n",
       "      <th>label</th>\n",
       "    </tr>\n",
       "  </thead>\n",
       "  <tbody>\n",
       "    <tr>\n",
       "      <th>0</th>\n",
       "      <td>sadness</td>\n",
       "      <td>Feeling blue today, everything seems gloomy.</td>\n",
       "      <td>negative</td>\n",
       "    </tr>\n",
       "    <tr>\n",
       "      <th>1</th>\n",
       "      <td>happiness</td>\n",
       "      <td>Grinning from ear to ear, life is beautiful!</td>\n",
       "      <td>positive</td>\n",
       "    </tr>\n",
       "    <tr>\n",
       "      <th>2</th>\n",
       "      <td>worry</td>\n",
       "      <td>Anxiety kicking in, can't shake off these thou...</td>\n",
       "      <td>negative</td>\n",
       "    </tr>\n",
       "    <tr>\n",
       "      <th>3</th>\n",
       "      <td>neutral</td>\n",
       "      <td>Feeling neither high nor low, just going with ...</td>\n",
       "      <td>neutral</td>\n",
       "    </tr>\n",
       "    <tr>\n",
       "      <th>4</th>\n",
       "      <td>love</td>\n",
       "      <td>Heart bursting with affection, surrounded by w...</td>\n",
       "      <td>positive</td>\n",
       "    </tr>\n",
       "  </tbody>\n",
       "</table>\n",
       "</div>"
      ],
      "text/plain": [
       "   sentiment                                            comment     label\n",
       "0    sadness       Feeling blue today, everything seems gloomy.  negative\n",
       "1  happiness       Grinning from ear to ear, life is beautiful!  positive\n",
       "2      worry  Anxiety kicking in, can't shake off these thou...  negative\n",
       "3    neutral  Feeling neither high nor low, just going with ...   neutral\n",
       "4       love  Heart bursting with affection, surrounded by w...  positive"
      ]
     },
     "execution_count": 331,
     "metadata": {},
     "output_type": "execute_result"
    }
   ],
   "source": [
    "chatGPT.head()"
   ]
  },
  {
   "cell_type": "code",
   "execution_count": 337,
   "metadata": {},
   "outputs": [],
   "source": [
    "chatGPT['clean_content']=chatGPT['comment'].apply(text_cleaner)"
   ]
  },
  {
   "cell_type": "code",
   "execution_count": 338,
   "metadata": {},
   "outputs": [
    {
     "data": {
      "text/html": [
       "<div>\n",
       "<style scoped>\n",
       "    .dataframe tbody tr th:only-of-type {\n",
       "        vertical-align: middle;\n",
       "    }\n",
       "\n",
       "    .dataframe tbody tr th {\n",
       "        vertical-align: top;\n",
       "    }\n",
       "\n",
       "    .dataframe thead th {\n",
       "        text-align: right;\n",
       "    }\n",
       "</style>\n",
       "<table border=\"1\" class=\"dataframe\">\n",
       "  <thead>\n",
       "    <tr style=\"text-align: right;\">\n",
       "      <th></th>\n",
       "      <th>sentiment</th>\n",
       "      <th>comment</th>\n",
       "      <th>label</th>\n",
       "      <th>clean_content</th>\n",
       "    </tr>\n",
       "  </thead>\n",
       "  <tbody>\n",
       "    <tr>\n",
       "      <th>0</th>\n",
       "      <td>sadness</td>\n",
       "      <td>Feeling blue today, everything seems gloomy.</td>\n",
       "      <td>negative</td>\n",
       "      <td>feel blue today everything gloomy</td>\n",
       "    </tr>\n",
       "    <tr>\n",
       "      <th>1</th>\n",
       "      <td>happiness</td>\n",
       "      <td>Grinning from ear to ear, life is beautiful!</td>\n",
       "      <td>positive</td>\n",
       "      <td>grin ear ear life beautiful</td>\n",
       "    </tr>\n",
       "    <tr>\n",
       "      <th>2</th>\n",
       "      <td>worry</td>\n",
       "      <td>Anxiety kicking in, can't shake off these thou...</td>\n",
       "      <td>negative</td>\n",
       "      <td>anxiety kick shake</td>\n",
       "    </tr>\n",
       "    <tr>\n",
       "      <th>3</th>\n",
       "      <td>neutral</td>\n",
       "      <td>Feeling neither high nor low, just going with ...</td>\n",
       "      <td>neutral</td>\n",
       "      <td>feel neither high low go flow</td>\n",
       "    </tr>\n",
       "    <tr>\n",
       "      <th>4</th>\n",
       "      <td>love</td>\n",
       "      <td>Heart bursting with affection, surrounded by w...</td>\n",
       "      <td>positive</td>\n",
       "      <td>heart affection surround warmth</td>\n",
       "    </tr>\n",
       "  </tbody>\n",
       "</table>\n",
       "</div>"
      ],
      "text/plain": [
       "   sentiment                                            comment     label  \\\n",
       "0    sadness       Feeling blue today, everything seems gloomy.  negative   \n",
       "1  happiness       Grinning from ear to ear, life is beautiful!  positive   \n",
       "2      worry  Anxiety kicking in, can't shake off these thou...  negative   \n",
       "3    neutral  Feeling neither high nor low, just going with ...   neutral   \n",
       "4       love  Heart bursting with affection, surrounded by w...  positive   \n",
       "\n",
       "                       clean_content  \n",
       "0  feel blue today everything gloomy  \n",
       "1        grin ear ear life beautiful  \n",
       "2                 anxiety kick shake  \n",
       "3      feel neither high low go flow  \n",
       "4    heart affection surround warmth  "
      ]
     },
     "execution_count": 338,
     "metadata": {},
     "output_type": "execute_result"
    }
   ],
   "source": [
    "chatGPT.head()"
   ]
  },
  {
   "cell_type": "code",
   "execution_count": 335,
   "metadata": {},
   "outputs": [
    {
     "name": "stdout",
     "output_type": "stream",
     "text": [
      "The number of NaN-values in the pre-processed dataset is:  0\n"
     ]
    }
   ],
   "source": [
    "print('The number of NaN-values in the pre-processed dataset is: ', chatGPT['clean_content'].isnull().sum())"
   ]
  },
  {
   "cell_type": "code",
   "execution_count": 339,
   "metadata": {},
   "outputs": [
    {
     "data": {
      "text/html": [
       "<div>\n",
       "<style scoped>\n",
       "    .dataframe tbody tr th:only-of-type {\n",
       "        vertical-align: middle;\n",
       "    }\n",
       "\n",
       "    .dataframe tbody tr th {\n",
       "        vertical-align: top;\n",
       "    }\n",
       "\n",
       "    .dataframe thead th {\n",
       "        text-align: right;\n",
       "    }\n",
       "</style>\n",
       "<table border=\"1\" class=\"dataframe\">\n",
       "  <thead>\n",
       "    <tr style=\"text-align: right;\">\n",
       "      <th></th>\n",
       "      <th>sentiment</th>\n",
       "      <th>comment</th>\n",
       "      <th>clean_content</th>\n",
       "      <th>label_num</th>\n",
       "    </tr>\n",
       "  </thead>\n",
       "  <tbody>\n",
       "    <tr>\n",
       "      <th>0</th>\n",
       "      <td>sadness</td>\n",
       "      <td>Feeling blue today, everything seems gloomy.</td>\n",
       "      <td>feel blue today everything gloomy</td>\n",
       "      <td>0</td>\n",
       "    </tr>\n",
       "    <tr>\n",
       "      <th>1</th>\n",
       "      <td>happiness</td>\n",
       "      <td>Grinning from ear to ear, life is beautiful!</td>\n",
       "      <td>grin ear ear life beautiful</td>\n",
       "      <td>1</td>\n",
       "    </tr>\n",
       "    <tr>\n",
       "      <th>2</th>\n",
       "      <td>worry</td>\n",
       "      <td>Anxiety kicking in, can't shake off these thou...</td>\n",
       "      <td>anxiety kick shake</td>\n",
       "      <td>0</td>\n",
       "    </tr>\n",
       "    <tr>\n",
       "      <th>3</th>\n",
       "      <td>neutral</td>\n",
       "      <td>Feeling neither high nor low, just going with ...</td>\n",
       "      <td>feel neither high low go flow</td>\n",
       "      <td>2</td>\n",
       "    </tr>\n",
       "    <tr>\n",
       "      <th>4</th>\n",
       "      <td>love</td>\n",
       "      <td>Heart bursting with affection, surrounded by w...</td>\n",
       "      <td>heart affection surround warmth</td>\n",
       "      <td>1</td>\n",
       "    </tr>\n",
       "  </tbody>\n",
       "</table>\n",
       "</div>"
      ],
      "text/plain": [
       "   sentiment                                            comment  \\\n",
       "0    sadness       Feeling blue today, everything seems gloomy.   \n",
       "1  happiness       Grinning from ear to ear, life is beautiful!   \n",
       "2      worry  Anxiety kicking in, can't shake off these thou...   \n",
       "3    neutral  Feeling neither high nor low, just going with ...   \n",
       "4       love  Heart bursting with affection, surrounded by w...   \n",
       "\n",
       "                       clean_content  label_num  \n",
       "0  feel blue today everything gloomy          0  \n",
       "1        grin ear ear life beautiful          1  \n",
       "2                 anxiety kick shake          0  \n",
       "3      feel neither high low go flow          2  \n",
       "4    heart affection surround warmth          1  "
      ]
     },
     "execution_count": 339,
     "metadata": {},
     "output_type": "execute_result"
    }
   ],
   "source": [
    "# Mapping sentiment num / encode\n",
    "chatGPT[\"label_num\"] = chatGPT.label.map({\n",
    "    'negative': 0,\n",
    "    'positive': 1,\n",
    "    'neutral': 2\n",
    "})\n",
    "\n",
    "chatGPT = chatGPT.drop(columns=['label'])\n",
    "chatGPT.head(5)"
   ]
  },
  {
   "cell_type": "code",
   "execution_count": 341,
   "metadata": {},
   "outputs": [
    {
     "data": {
      "image/png": "[encoded data removed]",
      "text/plain": [
       "<Figure size 1000x500 with 3 Axes>"
      ]
     },
     "metadata": {},
     "output_type": "display_data"
    }
   ],
   "source": [
    "# Word Cloud\n",
    "\n",
    "fig, (ax1,ax2,ax3) = plt.subplots(1,3,figsize=(10,5))\n",
    "\n",
    "posetive_text = ' '.join(chatGPT[chatGPT['label_num']==1]['clean_content'])\n",
    "wordcloud_posetive = WordCloud(max_words=50, width=400, height=400).generate(posetive_text)\n",
    "\n",
    "negative_text = ' '.join(chatGPT[chatGPT['label_num']==0]['clean_content'])\n",
    "wordcloud_negative = WordCloud(max_words=50, width=400, height=400).generate(negative_text)\n",
    "\n",
    "neutral_text = ' '.join(chatGPT[chatGPT['label_num']==0]['clean_content'])\n",
    "wordcloud_neutral = WordCloud(max_words=50, width=400, height=400).generate(neutral_text)\n",
    "\n",
    "ax1.imshow(wordcloud_posetive, interpolation='bilinear')\n",
    "ax1.axis('off')\n",
    "ax1.set_title('posetive')\n",
    "\n",
    "ax2.imshow(wordcloud_negative, interpolation='bilinear')\n",
    "ax2.axis('off')\n",
    "ax2.set_title('negative')\n",
    "\n",
    "ax3.imshow(wordcloud_neutral, interpolation='bilinear')\n",
    "ax3.axis('off')\n",
    "ax3.set_title('neutral')\n",
    "plt.suptitle('Word Cloud for posetive and negative and neutral');"
   ]
  },
  {
   "cell_type": "code",
   "execution_count": 342,
   "metadata": {},
   "outputs": [],
   "source": [
    "tokenized_text = []\n",
    "for i in chatGPT['clean_content']:\n",
    "    x =  word_tokenize(i)\n",
    "    tokenized_text.append(x)\n",
    "chatGPT['tokenized'] = tokenized_text"
   ]
  },
  {
   "cell_type": "code",
   "execution_count": 344,
   "metadata": {},
   "outputs": [
    {
     "data": {
      "text/html": [
       "<div>\n",
       "<style scoped>\n",
       "    .dataframe tbody tr th:only-of-type {\n",
       "        vertical-align: middle;\n",
       "    }\n",
       "\n",
       "    .dataframe tbody tr th {\n",
       "        vertical-align: top;\n",
       "    }\n",
       "\n",
       "    .dataframe thead th {\n",
       "        text-align: right;\n",
       "    }\n",
       "</style>\n",
       "<table border=\"1\" class=\"dataframe\">\n",
       "  <thead>\n",
       "    <tr style=\"text-align: right;\">\n",
       "      <th></th>\n",
       "      <th>sentiment</th>\n",
       "      <th>comment</th>\n",
       "      <th>clean_content</th>\n",
       "      <th>label_num</th>\n",
       "      <th>tokenized</th>\n",
       "    </tr>\n",
       "  </thead>\n",
       "  <tbody>\n",
       "    <tr>\n",
       "      <th>0</th>\n",
       "      <td>sadness</td>\n",
       "      <td>Feeling blue today, everything seems gloomy.</td>\n",
       "      <td>feel blue today everything gloomy</td>\n",
       "      <td>0</td>\n",
       "      <td>[feel, blue, today, everything, gloomy]</td>\n",
       "    </tr>\n",
       "    <tr>\n",
       "      <th>1</th>\n",
       "      <td>happiness</td>\n",
       "      <td>Grinning from ear to ear, life is beautiful!</td>\n",
       "      <td>grin ear ear life beautiful</td>\n",
       "      <td>1</td>\n",
       "      <td>[grin, ear, ear, life, beautiful]</td>\n",
       "    </tr>\n",
       "    <tr>\n",
       "      <th>2</th>\n",
       "      <td>worry</td>\n",
       "      <td>Anxiety kicking in, can't shake off these thou...</td>\n",
       "      <td>anxiety kick shake</td>\n",
       "      <td>0</td>\n",
       "      <td>[anxiety, kick, shake]</td>\n",
       "    </tr>\n",
       "    <tr>\n",
       "      <th>3</th>\n",
       "      <td>neutral</td>\n",
       "      <td>Feeling neither high nor low, just going with ...</td>\n",
       "      <td>feel neither high low go flow</td>\n",
       "      <td>2</td>\n",
       "      <td>[feel, neither, high, low, go, flow]</td>\n",
       "    </tr>\n",
       "    <tr>\n",
       "      <th>4</th>\n",
       "      <td>love</td>\n",
       "      <td>Heart bursting with affection, surrounded by w...</td>\n",
       "      <td>heart affection surround warmth</td>\n",
       "      <td>1</td>\n",
       "      <td>[heart, affection, surround, warmth]</td>\n",
       "    </tr>\n",
       "  </tbody>\n",
       "</table>\n",
       "</div>"
      ],
      "text/plain": [
       "   sentiment                                            comment  \\\n",
       "0    sadness       Feeling blue today, everything seems gloomy.   \n",
       "1  happiness       Grinning from ear to ear, life is beautiful!   \n",
       "2      worry  Anxiety kicking in, can't shake off these thou...   \n",
       "3    neutral  Feeling neither high nor low, just going with ...   \n",
       "4       love  Heart bursting with affection, surrounded by w...   \n",
       "\n",
       "                       clean_content  label_num  \\\n",
       "0  feel blue today everything gloomy          0   \n",
       "1        grin ear ear life beautiful          1   \n",
       "2                 anxiety kick shake          0   \n",
       "3      feel neither high low go flow          2   \n",
       "4    heart affection surround warmth          1   \n",
       "\n",
       "                                 tokenized  \n",
       "0  [feel, blue, today, everything, gloomy]  \n",
       "1        [grin, ear, ear, life, beautiful]  \n",
       "2                   [anxiety, kick, shake]  \n",
       "3     [feel, neither, high, low, go, flow]  \n",
       "4     [heart, affection, surround, warmth]  "
      ]
     },
     "execution_count": 344,
     "metadata": {},
     "output_type": "execute_result"
    }
   ],
   "source": [
    "chatGPT.head()"
   ]
  },
  {
   "cell_type": "code",
   "execution_count": 349,
   "metadata": {},
   "outputs": [
    {
     "data": {
      "text/html": [
       "<div>\n",
       "<style scoped>\n",
       "    .dataframe tbody tr th:only-of-type {\n",
       "        vertical-align: middle;\n",
       "    }\n",
       "\n",
       "    .dataframe tbody tr th {\n",
       "        vertical-align: top;\n",
       "    }\n",
       "\n",
       "    .dataframe thead th {\n",
       "        text-align: right;\n",
       "    }\n",
       "</style>\n",
       "<table border=\"1\" class=\"dataframe\">\n",
       "  <thead>\n",
       "    <tr style=\"text-align: right;\">\n",
       "      <th></th>\n",
       "      <th>sentiment</th>\n",
       "      <th>comment</th>\n",
       "      <th>clean_content</th>\n",
       "      <th>label_num</th>\n",
       "      <th>tokenized</th>\n",
       "    </tr>\n",
       "  </thead>\n",
       "  <tbody>\n",
       "    <tr>\n",
       "      <th>0</th>\n",
       "      <td>sadness</td>\n",
       "      <td>Feeling blue today, everything seems gloomy.</td>\n",
       "      <td>feel blue today everything gloomy</td>\n",
       "      <td>0</td>\n",
       "      <td>[feel, blue, today, everything, gloomy]</td>\n",
       "    </tr>\n",
       "    <tr>\n",
       "      <th>1</th>\n",
       "      <td>happiness</td>\n",
       "      <td>Grinning from ear to ear, life is beautiful!</td>\n",
       "      <td>grin ear ear life beautiful</td>\n",
       "      <td>1</td>\n",
       "      <td>[grin, ear, ear, life, beautiful]</td>\n",
       "    </tr>\n",
       "    <tr>\n",
       "      <th>2</th>\n",
       "      <td>worry</td>\n",
       "      <td>Anxiety kicking in, can't shake off these thou...</td>\n",
       "      <td>anxiety kick shake</td>\n",
       "      <td>0</td>\n",
       "      <td>[anxiety, kick, shake]</td>\n",
       "    </tr>\n",
       "    <tr>\n",
       "      <th>3</th>\n",
       "      <td>neutral</td>\n",
       "      <td>Feeling neither high nor low, just going with ...</td>\n",
       "      <td>feel neither high low go flow</td>\n",
       "      <td>2</td>\n",
       "      <td>[feel, neither, high, low, go, flow]</td>\n",
       "    </tr>\n",
       "    <tr>\n",
       "      <th>4</th>\n",
       "      <td>love</td>\n",
       "      <td>Heart bursting with affection, surrounded by w...</td>\n",
       "      <td>heart affection surround warmth</td>\n",
       "      <td>1</td>\n",
       "      <td>[heart, affection, surround, warmth]</td>\n",
       "    </tr>\n",
       "  </tbody>\n",
       "</table>\n",
       "</div>"
      ],
      "text/plain": [
       "   sentiment                                            comment  \\\n",
       "0    sadness       Feeling blue today, everything seems gloomy.   \n",
       "1  happiness       Grinning from ear to ear, life is beautiful!   \n",
       "2      worry  Anxiety kicking in, can't shake off these thou...   \n",
       "3    neutral  Feeling neither high nor low, just going with ...   \n",
       "4       love  Heart bursting with affection, surrounded by w...   \n",
       "\n",
       "                       clean_content  label_num  \\\n",
       "0  feel blue today everything gloomy          0   \n",
       "1        grin ear ear life beautiful          1   \n",
       "2                 anxiety kick shake          0   \n",
       "3      feel neither high low go flow          2   \n",
       "4    heart affection surround warmth          1   \n",
       "\n",
       "                                 tokenized  \n",
       "0  [feel, blue, today, everything, gloomy]  \n",
       "1        [grin, ear, ear, life, beautiful]  \n",
       "2                   [anxiety, kick, shake]  \n",
       "3     [feel, neither, high, low, go, flow]  \n",
       "4     [heart, affection, surround, warmth]  "
      ]
     },
     "execution_count": 349,
     "metadata": {},
     "output_type": "execute_result"
    }
   ],
   "source": [
    "le = LabelEncoder()\n",
    "chatGPT['label_num'] = le.fit_transform(chatGPT['label_num'])\n",
    "chatGPT.head()"
   ]
  },
  {
   "cell_type": "code",
   "execution_count": null,
   "metadata": {},
   "outputs": [],
   "source": []
  },
  {
   "cell_type": "code",
   "execution_count": 369,
   "metadata": {},
   "outputs": [
    {
     "name": "stderr",
     "output_type": "stream",
     "text": [
      "C:\\Users\\Nastaran\\AppData\\Local\\Packages\\PythonSoftwareFoundation.Python.3.11_qbz5n2kfra8p0\\LocalCache\\local-packages\\Python311\\site-packages\\numpy\\core\\fromnumeric.py:3504: RuntimeWarning: Mean of empty slice.\n",
      "  return _methods._mean(a, axis=axis, dtype=dtype,\n",
      "C:\\Users\\Nastaran\\AppData\\Local\\Packages\\PythonSoftwareFoundation.Python.3.11_qbz5n2kfra8p0\\LocalCache\\local-packages\\Python311\\site-packages\\numpy\\core\\_methods.py:129: RuntimeWarning: invalid value encountered in scalar divide\n",
      "  ret = ret.dtype.type(ret / rcount)\n",
      "C:\\Users\\Nastaran\\AppData\\Local\\Packages\\PythonSoftwareFoundation.Python.3.11_qbz5n2kfra8p0\\LocalCache\\local-packages\\Python311\\site-packages\\numpy\\core\\fromnumeric.py:3504: RuntimeWarning: Mean of empty slice.\n",
      "  return _methods._mean(a, axis=axis, dtype=dtype,\n",
      "C:\\Users\\Nastaran\\AppData\\Local\\Packages\\PythonSoftwareFoundation.Python.3.11_qbz5n2kfra8p0\\LocalCache\\local-packages\\Python311\\site-packages\\numpy\\core\\_methods.py:129: RuntimeWarning: invalid value encountered in scalar divide\n",
      "  ret = ret.dtype.type(ret / rcount)\n"
     ]
    }
   ],
   "source": [
    "# Transforming the whole chatGPT texts into numerical vectors using word2vec models traind on the Blog Authorship Corpus Data\n",
    "\n",
    "gptword2vec = pd.DataFrame(columns=['label_num'] + [f'vec{i}' for i in range(100)])\n",
    "\n",
    "# Iterate over the rows of the original DataFrame\n",
    "for index, row in chatGPT.iterrows():\n",
    "    model_vector = (np.mean([w2v_model.wv[token] for token in row['tokenized'] if token in w2v_model.wv.key_to_index], axis=0)).tolist()\n",
    "    \n",
    "    if type(model_vector) is list:  \n",
    "        new_row = [row['label_num']] + model_vector\n",
    "    else:\n",
    "        new_row = [row['label_num']] + [0] * 100\n",
    "        \n",
    "    gptword2vec.loc[index] = new_row\n"
   ]
  },
  {
   "cell_type": "code",
   "execution_count": 354,
   "metadata": {},
   "outputs": [
    {
     "name": "stderr",
     "output_type": "stream",
     "text": [
      "C:\\Users\\Nastaran\\AppData\\Local\\Packages\\PythonSoftwareFoundation.Python.3.11_qbz5n2kfra8p0\\LocalCache\\local-packages\\Python311\\site-packages\\numpy\\core\\fromnumeric.py:3504: RuntimeWarning: Mean of empty slice.\n",
      "  return _methods._mean(a, axis=axis, dtype=dtype,\n",
      "C:\\Users\\Nastaran\\AppData\\Local\\Packages\\PythonSoftwareFoundation.Python.3.11_qbz5n2kfra8p0\\LocalCache\\local-packages\\Python311\\site-packages\\numpy\\core\\_methods.py:129: RuntimeWarning: invalid value encountered in scalar divide\n",
      "  ret = ret.dtype.type(ret / rcount)\n",
      "C:\\Users\\Nastaran\\AppData\\Local\\Packages\\PythonSoftwareFoundation.Python.3.11_qbz5n2kfra8p0\\LocalCache\\local-packages\\Python311\\site-packages\\numpy\\core\\fromnumeric.py:3504: RuntimeWarning: Mean of empty slice.\n",
      "  return _methods._mean(a, axis=axis, dtype=dtype,\n",
      "C:\\Users\\Nastaran\\AppData\\Local\\Packages\\PythonSoftwareFoundation.Python.3.11_qbz5n2kfra8p0\\LocalCache\\local-packages\\Python311\\site-packages\\numpy\\core\\_methods.py:129: RuntimeWarning: invalid value encountered in scalar divide\n",
      "  ret = ret.dtype.type(ret / rcount)\n"
     ]
    }
   ],
   "source": [
    "# Transforming the whole chatGPT texts into numerical vectors using word2vec models traind \n",
    "\n",
    "gptword2vec = pd.DataFrame(columns=['label_num'] + [f'vec{i}' for i in range(100)])\n",
    "\n",
    "# Iterate over the rows of the original DataFrame\n",
    "for index, row in chatGPT.iterrows():\n",
    "    model_vector = (np.mean([w2v_model.wv[token] for token in row['tokenized'] if token in w2v_model.wv.key_to_index], axis=0)).tolist()\n",
    "    \n",
    "    if type(model_vector) is list:  \n",
    "        new_row = [row['label_num']] + model_vector\n",
    "    else:\n",
    "        new_row = [row['label_num']] + [0] * 100\n",
    "        \n",
    "    gptword2vec.loc[index] = new_row\n"
   ]
  },
  {
   "cell_type": "code",
   "execution_count": 356,
   "metadata": {},
   "outputs": [
    {
     "data": {
      "text/html": [
       "<div>\n",
       "<style scoped>\n",
       "    .dataframe tbody tr th:only-of-type {\n",
       "        vertical-align: middle;\n",
       "    }\n",
       "\n",
       "    .dataframe tbody tr th {\n",
       "        vertical-align: top;\n",
       "    }\n",
       "\n",
       "    .dataframe thead th {\n",
       "        text-align: right;\n",
       "    }\n",
       "</style>\n",
       "<table border=\"1\" class=\"dataframe\">\n",
       "  <thead>\n",
       "    <tr style=\"text-align: right;\">\n",
       "      <th></th>\n",
       "      <th>sentiment</th>\n",
       "      <th>comment</th>\n",
       "      <th>clean_content</th>\n",
       "      <th>label_num</th>\n",
       "      <th>tokenized</th>\n",
       "    </tr>\n",
       "  </thead>\n",
       "  <tbody>\n",
       "    <tr>\n",
       "      <th>0</th>\n",
       "      <td>sadness</td>\n",
       "      <td>Feeling blue today, everything seems gloomy.</td>\n",
       "      <td>feel blue today everything gloomy</td>\n",
       "      <td>0</td>\n",
       "      <td>[feel, blue, today, everything, gloomy]</td>\n",
       "    </tr>\n",
       "    <tr>\n",
       "      <th>1</th>\n",
       "      <td>happiness</td>\n",
       "      <td>Grinning from ear to ear, life is beautiful!</td>\n",
       "      <td>grin ear ear life beautiful</td>\n",
       "      <td>1</td>\n",
       "      <td>[grin, ear, ear, life, beautiful]</td>\n",
       "    </tr>\n",
       "    <tr>\n",
       "      <th>2</th>\n",
       "      <td>worry</td>\n",
       "      <td>Anxiety kicking in, can't shake off these thou...</td>\n",
       "      <td>anxiety kick shake</td>\n",
       "      <td>0</td>\n",
       "      <td>[anxiety, kick, shake]</td>\n",
       "    </tr>\n",
       "    <tr>\n",
       "      <th>3</th>\n",
       "      <td>neutral</td>\n",
       "      <td>Feeling neither high nor low, just going with ...</td>\n",
       "      <td>feel neither high low go flow</td>\n",
       "      <td>2</td>\n",
       "      <td>[feel, neither, high, low, go, flow]</td>\n",
       "    </tr>\n",
       "    <tr>\n",
       "      <th>4</th>\n",
       "      <td>love</td>\n",
       "      <td>Heart bursting with affection, surrounded by w...</td>\n",
       "      <td>heart affection surround warmth</td>\n",
       "      <td>1</td>\n",
       "      <td>[heart, affection, surround, warmth]</td>\n",
       "    </tr>\n",
       "  </tbody>\n",
       "</table>\n",
       "</div>"
      ],
      "text/plain": [
       "   sentiment                                            comment  \\\n",
       "0    sadness       Feeling blue today, everything seems gloomy.   \n",
       "1  happiness       Grinning from ear to ear, life is beautiful!   \n",
       "2      worry  Anxiety kicking in, can't shake off these thou...   \n",
       "3    neutral  Feeling neither high nor low, just going with ...   \n",
       "4       love  Heart bursting with affection, surrounded by w...   \n",
       "\n",
       "                       clean_content  label_num  \\\n",
       "0  feel blue today everything gloomy          0   \n",
       "1        grin ear ear life beautiful          1   \n",
       "2                 anxiety kick shake          0   \n",
       "3      feel neither high low go flow          2   \n",
       "4    heart affection surround warmth          1   \n",
       "\n",
       "                                 tokenized  \n",
       "0  [feel, blue, today, everything, gloomy]  \n",
       "1        [grin, ear, ear, life, beautiful]  \n",
       "2                   [anxiety, kick, shake]  \n",
       "3     [feel, neither, high, low, go, flow]  \n",
       "4     [heart, affection, surround, warmth]  "
      ]
     },
     "execution_count": 356,
     "metadata": {},
     "output_type": "execute_result"
    }
   ],
   "source": [
    "chatGPT.head()\n"
   ]
  },
  {
   "cell_type": "code",
   "execution_count": 357,
   "metadata": {},
   "outputs": [],
   "source": [
    "chatGPT.drop(['comment','clean_content','sentiment'],axis = 1, inplace = True)"
   ]
  },
  {
   "cell_type": "code",
   "execution_count": 360,
   "metadata": {},
   "outputs": [
    {
     "data": {
      "text/html": [
       "<div>\n",
       "<style scoped>\n",
       "    .dataframe tbody tr th:only-of-type {\n",
       "        vertical-align: middle;\n",
       "    }\n",
       "\n",
       "    .dataframe tbody tr th {\n",
       "        vertical-align: top;\n",
       "    }\n",
       "\n",
       "    .dataframe thead th {\n",
       "        text-align: right;\n",
       "    }\n",
       "</style>\n",
       "<table border=\"1\" class=\"dataframe\">\n",
       "  <thead>\n",
       "    <tr style=\"text-align: right;\">\n",
       "      <th></th>\n",
       "      <th>label_num</th>\n",
       "      <th>tokenized</th>\n",
       "    </tr>\n",
       "  </thead>\n",
       "  <tbody>\n",
       "    <tr>\n",
       "      <th>0</th>\n",
       "      <td>0</td>\n",
       "      <td>[feel, blue, today, everything, gloomy]</td>\n",
       "    </tr>\n",
       "    <tr>\n",
       "      <th>1</th>\n",
       "      <td>1</td>\n",
       "      <td>[grin, ear, ear, life, beautiful]</td>\n",
       "    </tr>\n",
       "    <tr>\n",
       "      <th>2</th>\n",
       "      <td>0</td>\n",
       "      <td>[anxiety, kick, shake]</td>\n",
       "    </tr>\n",
       "    <tr>\n",
       "      <th>3</th>\n",
       "      <td>2</td>\n",
       "      <td>[feel, neither, high, low, go, flow]</td>\n",
       "    </tr>\n",
       "    <tr>\n",
       "      <th>4</th>\n",
       "      <td>1</td>\n",
       "      <td>[heart, affection, surround, warmth]</td>\n",
       "    </tr>\n",
       "  </tbody>\n",
       "</table>\n",
       "</div>"
      ],
      "text/plain": [
       "   label_num                                tokenized\n",
       "0          0  [feel, blue, today, everything, gloomy]\n",
       "1          1        [grin, ear, ear, life, beautiful]\n",
       "2          0                   [anxiety, kick, shake]\n",
       "3          2     [feel, neither, high, low, go, flow]\n",
       "4          1     [heart, affection, surround, warmth]"
      ]
     },
     "execution_count": 360,
     "metadata": {},
     "output_type": "execute_result"
    }
   ],
   "source": [
    "chatGPT.head()"
   ]
  },
  {
   "cell_type": "code",
   "execution_count": 370,
   "metadata": {},
   "outputs": [],
   "source": [
    "# LSTM model trained on Data\n",
    "X_gptword2vec = np.array(gptword2vec.drop('label_num', axis=1))\n",
    "y_gptword2vec = np.array(gptword2vec['label_num'])"
   ]
  },
  {
   "cell_type": "code",
   "execution_count": 373,
   "metadata": {},
   "outputs": [
    {
     "name": "stdout",
     "output_type": "stream",
     "text": [
      "[[-0.04907529  0.09482428 -0.07899915 ... -0.24684818  0.0156074\n",
      "  -0.04903707]\n",
      " [-0.01277967  0.10782614 -0.05721385 ... -0.23867276  0.0436199\n",
      "  -0.04089211]\n",
      " [-0.005998    0.12672976  0.02273631 ... -0.24536867  0.02165975\n",
      "   0.02269954]\n",
      " ...\n",
      " [ 0.02021165 -0.02321121 -0.06409127 ... -0.22255309 -0.03083475\n",
      "  -0.18951221]\n",
      " [-0.05232801  0.15350673 -0.05381134 ... -0.17431474 -0.00180509\n",
      "  -0.09176019]\n",
      " [-0.08453876  0.15843599 -0.05597355 ... -0.18161219  0.00737726\n",
      "  -0.09946273]]\n"
     ]
    }
   ],
   "source": [
    "print(X_gptword2vec)"
   ]
  },
  {
   "cell_type": "code",
   "execution_count": 374,
   "metadata": {},
   "outputs": [
    {
     "name": "stdout",
     "output_type": "stream",
     "text": [
      "[0. 1. 0. 2. 1. 0. 1. 1. 0. 1. 0. 2. 0. 1. 0. 2. 1. 0. 1. 1. 0. 1. 0. 2.\n",
      " 0. 1. 0. 2. 1. 0. 1. 1. 0. 1. 0. 2. 0. 1. 0. 2. 1. 0. 1. 1. 0. 1. 0. 2.\n",
      " 0. 1. 0. 2. 1. 0. 1. 1. 0. 1. 0. 2. 0. 1. 0. 2. 1. 0. 1. 1. 0. 1. 0. 2.\n",
      " 0. 1. 2. 0. 2. 1. 1. 0. 1. 0. 1. 0. 0. 1. 2. 0. 2. 1. 1. 0. 1. 0. 1. 0.\n",
      " 0. 1. 2. 0. 2. 1. 1. 0. 1. 0. 1. 0. 0. 1. 2. 0. 2. 1. 1. 0. 1. 0. 1. 0.\n",
      " 0. 1. 2. 0. 2. 1. 1. 0. 1. 0. 1. 0. 1. 2. 0. 2. 1. 1. 0. 1. 0. 1. 0. 1.\n",
      " 2. 0. 2. 1. 1. 0. 1. 0. 1. 0. 1. 2. 0. 2. 1. 1. 0. 1. 0. 1. 0. 1. 2. 0.\n",
      " 2. 1. 1. 0. 1. 0. 1. 0. 1. 2. 0. 2. 1. 1. 0. 1. 0. 1. 0. 0. 1. 2. 0. 2.\n",
      " 1. 1. 0. 1. 0. 1. 0. 0. 1. 2. 0. 2. 1. 1. 0. 1. 0. 1. 0. 0. 1. 2. 0. 2.\n",
      " 1. 1. 0. 1. 0. 1. 0. 0. 1. 2. 0. 2. 1. 1. 0. 1. 0. 1. 0. 0. 1. 2. 0. 2.\n",
      " 1. 1. 0. 1. 0. 1. 0. 1. 2. 0. 2. 1. 1. 0. 1. 0. 1. 0. 1. 2. 0. 2. 1. 1.\n",
      " 0. 1. 0. 1. 0. 1. 2. 0. 2. 1. 1. 0. 1. 0. 1. 0.]\n"
     ]
    }
   ],
   "source": [
    "print(y_gptword2vec)"
   ]
  },
  {
   "cell_type": "code",
   "execution_count": 377,
   "metadata": {},
   "outputs": [
    {
     "name": "stdout",
     "output_type": "stream",
     "text": [
      "\u001b[1m9/9\u001b[0m \u001b[32m━━━━━━━━━━━━━━━━━━━━\u001b[0m\u001b[37m\u001b[0m \u001b[1m1s\u001b[0m 110ms/step\n"
     ]
    }
   ],
   "source": [
    "\n",
    "# Evaluate the model\n",
    "y_pred = model.predict(X_gptword2vec.reshape((-1, 100, 1)))"
   ]
  },
  {
   "cell_type": "code",
   "execution_count": 394,
   "metadata": {},
   "outputs": [
    {
     "name": "stdout",
     "output_type": "stream",
     "text": [
      "         vec0      vec1      vec2      vec3      vec4      vec5      vec6  \\\n",
      "0   -0.049075  0.094824 -0.078999 -0.116890 -0.037031 -0.280711  0.019000   \n",
      "1   -0.012780  0.107826 -0.057214 -0.076043  0.096024 -0.237661  0.000224   \n",
      "2   -0.005998  0.126730  0.022736 -0.015389  0.070731 -0.225750 -0.037126   \n",
      "3   -0.069468  0.099667 -0.052265 -0.129696  0.045340 -0.211324  0.043861   \n",
      "4    0.059823  0.060488  0.029393  0.021815  0.048922 -0.201699 -0.068183   \n",
      "..        ...       ...       ...       ...       ...       ...       ...   \n",
      "275 -0.038425  0.008889 -0.120281 -0.021217  0.163284 -0.448742  0.004027   \n",
      "276 -0.017181  0.138966 -0.011807 -0.060228  0.108139 -0.171211 -0.029964   \n",
      "277  0.020212 -0.023211 -0.064091 -0.083460  0.145640 -0.298110  0.021982   \n",
      "278 -0.052328  0.153507 -0.053811 -0.088312  0.136399 -0.186368 -0.079964   \n",
      "279 -0.084539  0.158436 -0.055974 -0.114359  0.250540 -0.208638 -0.113372   \n",
      "\n",
      "         vec7      vec8      vec9  ...     vec90     vec91     vec92  \\\n",
      "0    0.474738 -0.142455 -0.156303  ...  0.283317  0.167266  0.024262   \n",
      "1    0.428847 -0.204432 -0.151481  ...  0.170015  0.173473  0.108277   \n",
      "2    0.402896 -0.229900 -0.079319  ...  0.157547  0.153815  0.023612   \n",
      "3    0.458852 -0.243189 -0.107802  ...  0.221798  0.151135  0.064015   \n",
      "4    0.400369 -0.190166 -0.142515  ...  0.069382  0.181925 -0.015930   \n",
      "..        ...       ...       ...  ...       ...       ...       ...   \n",
      "275  0.302015 -0.173629 -0.268484  ...  0.111477  0.326507  0.123851   \n",
      "276  0.423677 -0.240814 -0.125553  ...  0.119239  0.175587  0.060087   \n",
      "277  0.354176 -0.303970  0.071886  ...  0.225957  0.154688  0.039320   \n",
      "278  0.456579 -0.182621 -0.039416  ...  0.229479  0.165526  0.088363   \n",
      "279  0.476264 -0.191574 -0.031484  ...  0.297366  0.194254  0.129495   \n",
      "\n",
      "        vec93     vec94     vec95     vec96     vec97     vec98     vec99  \n",
      "0    0.039775  0.291533  0.050503  0.035585 -0.246848  0.015607 -0.049037  \n",
      "1    0.059047  0.219606  0.049283  0.018325 -0.238673  0.043620 -0.040892  \n",
      "2    0.004018  0.245955  0.042411  0.043524 -0.245369  0.021660  0.022700  \n",
      "3   -0.070654  0.282546  0.016102  0.083558 -0.248971  0.010727 -0.031304  \n",
      "4    0.069383  0.207921  0.067359  0.056525 -0.220779  0.046614  0.077286  \n",
      "..        ...       ...       ...       ...       ...       ...       ...  \n",
      "275  0.070337  0.050761  0.056203 -0.121291 -0.314459  0.032206 -0.032047  \n",
      "276 -0.000623  0.223021  0.014820  0.046194 -0.219944  0.027894  0.005876  \n",
      "277 -0.155564  0.160178  0.071727 -0.211666 -0.222553 -0.030835 -0.189512  \n",
      "278 -0.034731  0.248607  0.077541  0.035776 -0.174315 -0.001805 -0.091760  \n",
      "279 -0.020079  0.181742  0.079601  0.042726 -0.181612  0.007377 -0.099463  \n",
      "\n",
      "[280 rows x 100 columns]\n"
     ]
    }
   ],
   "source": [
    "print(X_gptword2vec)"
   ]
  },
  {
   "cell_type": "code",
   "execution_count": 378,
   "metadata": {},
   "outputs": [
    {
     "name": "stdout",
     "output_type": "stream",
     "text": [
      "Confusion Matrix:\n",
      " [[78 31  3]\n",
      " [76 30 14]\n",
      " [22 26  0]]\n",
      "Precision:  0.32505597850425433\n",
      "F1 Score:  0.34089026915113874\n",
      "Recall:  0.38571428571428573\n",
      "ROC AUC:  0.49439147534013606\n"
     ]
    }
   ],
   "source": [
    "\n",
    "# Calculate classification metrics\n",
    "confusion = confusion_matrix(y_gptword2vec, np.argmax(y_pred, axis=1))\n",
    "\n",
    "# Calculate ROC AUC score\n",
    "roc_auc = roc_auc_score(y_gptword2vec, y_pred, average='weighted', multi_class='ovo')\n",
    "\n",
    "# Calculate other classification metrics\n",
    "precision = precision_score(y_gptword2vec, np.argmax(y_pred, axis=1), average='weighted')\n",
    "f1 = f1_score(y_gptword2vec, np.argmax(y_pred, axis=1), average='weighted')\n",
    "recall = recall_score(y_gptword2vec, np.argmax(y_pred, axis=1), average='weighted')\n",
    "\n",
    "# Print classification metrics\n",
    "print('Confusion Matrix:\\n', confusion)\n",
    "print('Precision: ', precision)\n",
    "print('F1 Score: ', f1)\n",
    "print('Recall: ', recall)\n",
    "print('ROC AUC: ', roc_auc)\n"
   ]
  },
  {
   "cell_type": "code",
   "execution_count": 404,
   "metadata": {},
   "outputs": [
    {
     "name": "stdout",
     "output_type": "stream",
     "text": [
      "         vec0      vec1      vec2      vec3      vec4      vec5      vec6  \\\n",
      "0   -0.049075  0.094824 -0.078999 -0.116890 -0.037031 -0.280711  0.019000   \n",
      "1   -0.012780  0.107826 -0.057214 -0.076043  0.096024 -0.237661  0.000224   \n",
      "2   -0.005998  0.126730  0.022736 -0.015389  0.070731 -0.225750 -0.037126   \n",
      "3   -0.069468  0.099667 -0.052265 -0.129696  0.045340 -0.211324  0.043861   \n",
      "4    0.059823  0.060488  0.029393  0.021815  0.048922 -0.201699 -0.068183   \n",
      "..        ...       ...       ...       ...       ...       ...       ...   \n",
      "275 -0.038425  0.008889 -0.120281 -0.021217  0.163284 -0.448742  0.004027   \n",
      "276 -0.017181  0.138966 -0.011807 -0.060228  0.108139 -0.171211 -0.029964   \n",
      "277  0.020212 -0.023211 -0.064091 -0.083460  0.145640 -0.298110  0.021982   \n",
      "278 -0.052328  0.153507 -0.053811 -0.088312  0.136399 -0.186368 -0.079964   \n",
      "279 -0.084539  0.158436 -0.055974 -0.114359  0.250540 -0.208638 -0.113372   \n",
      "\n",
      "         vec7      vec8      vec9  ...     vec90     vec91     vec92  \\\n",
      "0    0.474738 -0.142455 -0.156303  ...  0.283317  0.167266  0.024262   \n",
      "1    0.428847 -0.204432 -0.151481  ...  0.170015  0.173473  0.108277   \n",
      "2    0.402896 -0.229900 -0.079319  ...  0.157547  0.153815  0.023612   \n",
      "3    0.458852 -0.243189 -0.107802  ...  0.221798  0.151135  0.064015   \n",
      "4    0.400369 -0.190166 -0.142515  ...  0.069382  0.181925 -0.015930   \n",
      "..        ...       ...       ...  ...       ...       ...       ...   \n",
      "275  0.302015 -0.173629 -0.268484  ...  0.111477  0.326507  0.123851   \n",
      "276  0.423677 -0.240814 -0.125553  ...  0.119239  0.175587  0.060087   \n",
      "277  0.354176 -0.303970  0.071886  ...  0.225957  0.154688  0.039320   \n",
      "278  0.456579 -0.182621 -0.039416  ...  0.229479  0.165526  0.088363   \n",
      "279  0.476264 -0.191574 -0.031484  ...  0.297366  0.194254  0.129495   \n",
      "\n",
      "        vec93     vec94     vec95     vec96     vec97     vec98     vec99  \n",
      "0    0.039775  0.291533  0.050503  0.035585 -0.246848  0.015607 -0.049037  \n",
      "1    0.059047  0.219606  0.049283  0.018325 -0.238673  0.043620 -0.040892  \n",
      "2    0.004018  0.245955  0.042411  0.043524 -0.245369  0.021660  0.022700  \n",
      "3   -0.070654  0.282546  0.016102  0.083558 -0.248971  0.010727 -0.031304  \n",
      "4    0.069383  0.207921  0.067359  0.056525 -0.220779  0.046614  0.077286  \n",
      "..        ...       ...       ...       ...       ...       ...       ...  \n",
      "275  0.070337  0.050761  0.056203 -0.121291 -0.314459  0.032206 -0.032047  \n",
      "276 -0.000623  0.223021  0.014820  0.046194 -0.219944  0.027894  0.005876  \n",
      "277 -0.155564  0.160178  0.071727 -0.211666 -0.222553 -0.030835 -0.189512  \n",
      "278 -0.034731  0.248607  0.077541  0.035776 -0.174315 -0.001805 -0.091760  \n",
      "279 -0.020079  0.181742  0.079601  0.042726 -0.181612  0.007377 -0.099463  \n",
      "\n",
      "[280 rows x 100 columns]\n"
     ]
    }
   ],
   "source": [
    "print(X_gptword2vec)"
   ]
  },
  {
   "cell_type": "code",
   "execution_count": 405,
   "metadata": {},
   "outputs": [
    {
     "name": "stdout",
     "output_type": "stream",
     "text": [
      "            0         1         2         3         4         5         6  \\\n",
      "0   -0.049075  0.094824 -0.078999 -0.116890 -0.037031 -0.280711  0.019000   \n",
      "1   -0.012780  0.107826 -0.057214 -0.076043  0.096024 -0.237661  0.000224   \n",
      "2   -0.005998  0.126730  0.022736 -0.015389  0.070731 -0.225750 -0.037126   \n",
      "3   -0.069468  0.099667 -0.052265 -0.129696  0.045340 -0.211324  0.043861   \n",
      "4    0.059823  0.060488  0.029393  0.021815  0.048922 -0.201699 -0.068183   \n",
      "..        ...       ...       ...       ...       ...       ...       ...   \n",
      "275 -0.038425  0.008889 -0.120281 -0.021217  0.163284 -0.448742  0.004027   \n",
      "276 -0.017181  0.138966 -0.011807 -0.060228  0.108139 -0.171211 -0.029964   \n",
      "277  0.020212 -0.023211 -0.064091 -0.083460  0.145640 -0.298110  0.021982   \n",
      "278 -0.052328  0.153507 -0.053811 -0.088312  0.136399 -0.186368 -0.079964   \n",
      "279 -0.084539  0.158436 -0.055974 -0.114359  0.250540 -0.208638 -0.113372   \n",
      "\n",
      "            7         8         9  ...        90        91        92  \\\n",
      "0    0.474738 -0.142455 -0.156303  ...  0.283317  0.167266  0.024262   \n",
      "1    0.428847 -0.204432 -0.151481  ...  0.170015  0.173473  0.108277   \n",
      "2    0.402896 -0.229900 -0.079319  ...  0.157547  0.153815  0.023612   \n",
      "3    0.458852 -0.243189 -0.107802  ...  0.221798  0.151135  0.064015   \n",
      "4    0.400369 -0.190166 -0.142515  ...  0.069382  0.181925 -0.015930   \n",
      "..        ...       ...       ...  ...       ...       ...       ...   \n",
      "275  0.302015 -0.173629 -0.268484  ...  0.111477  0.326507  0.123851   \n",
      "276  0.423677 -0.240814 -0.125553  ...  0.119239  0.175587  0.060087   \n",
      "277  0.354176 -0.303970  0.071886  ...  0.225957  0.154688  0.039320   \n",
      "278  0.456579 -0.182621 -0.039416  ...  0.229479  0.165526  0.088363   \n",
      "279  0.476264 -0.191574 -0.031484  ...  0.297366  0.194254  0.129495   \n",
      "\n",
      "           93        94        95        96        97        98        99  \n",
      "0    0.039775  0.291533  0.050503  0.035585 -0.246848  0.015607 -0.049037  \n",
      "1    0.059047  0.219606  0.049283  0.018325 -0.238673  0.043620 -0.040892  \n",
      "2    0.004018  0.245955  0.042411  0.043524 -0.245369  0.021660  0.022700  \n",
      "3   -0.070654  0.282546  0.016102  0.083558 -0.248971  0.010727 -0.031304  \n",
      "4    0.069383  0.207921  0.067359  0.056525 -0.220779  0.046614  0.077286  \n",
      "..        ...       ...       ...       ...       ...       ...       ...  \n",
      "275  0.070337  0.050761  0.056203 -0.121291 -0.314459  0.032206 -0.032047  \n",
      "276 -0.000623  0.223021  0.014820  0.046194 -0.219944  0.027894  0.005876  \n",
      "277 -0.155564  0.160178  0.071727 -0.211666 -0.222553 -0.030835 -0.189512  \n",
      "278 -0.034731  0.248607  0.077541  0.035776 -0.174315 -0.001805 -0.091760  \n",
      "279 -0.020079  0.181742  0.079601  0.042726 -0.181612  0.007377 -0.099463  \n",
      "\n",
      "[280 rows x 100 columns]\n"
     ]
    }
   ],
   "source": [
    "# Generate column names ['0', '1', '2', ..., '99']\n",
    "column_names = [str(i) for i in range(100)]\n",
    "\n",
    "# Assign column names to X_gptword2vec\n",
    "X_gptword2vec.columns = column_names\n",
    "print(X_gptword2vec)"
   ]
  },
  {
   "cell_type": "code",
   "execution_count": 421,
   "metadata": {},
   "outputs": [],
   "source": [
    "\n",
    "\n",
    "models = []\n",
    "models.append(('LR', LogisticRegression(n_jobs=-1, C=10)))\n",
    "models.append(('LDA', LinearDiscriminantAnalysis()))\n",
    "models.append(('KNN', KNeighborsClassifier()))\n",
    "models.append(('DTC', DecisionTreeClassifier()))\n",
    "models.append(('RF', RandomForestClassifier(n_estimators= 100, min_samples_split= 2, min_samples_leaf= 2, max_features= 'sqrt', max_depth= 12, criterion= 'entropy',\n",
    "                                            bootstrap= True, class_weight='balanced')))\n",
    "models.append(('NB', GaussianNB()))\n",
    "\n"
   ]
  },
  {
   "cell_type": "code",
   "execution_count": 422,
   "metadata": {},
   "outputs": [
    {
     "name": "stdout",
     "output_type": "stream",
     "text": [
      "Classified chantGPT text using the trained algorithms on Blog Authorship Corpus Data\n",
      "\n",
      "Classifier: LR\n",
      "Accuracy: 0.42\n",
      "Precision: 0.28\n",
      "Recall: 0.35\n",
      "F1 Score: 0.30\n",
      "ROC AUC:0.67\n",
      "\n",
      "Classifier: LDA\n",
      "Accuracy: 0.41\n",
      "Precision: 0.30\n",
      "Recall: 0.34\n",
      "F1 Score: 0.30\n",
      "ROC AUC:0.67\n",
      "\n",
      "Classifier: KNN\n",
      "Accuracy: 0.40\n",
      "Precision: 0.36\n",
      "Recall: 0.34\n",
      "F1 Score: 0.34\n",
      "ROC AUC:0.62\n",
      "\n",
      "Classifier: DTC\n",
      "Accuracy: 0.36\n",
      "Precision: 0.34\n",
      "Recall: 0.33\n",
      "F1 Score: 0.33\n",
      "ROC AUC:0.56\n",
      "\n",
      "Classifier: RF\n",
      "Accuracy: 0.38\n",
      "Precision: 0.37\n",
      "Recall: 0.36\n",
      "F1 Score: 0.36\n",
      "ROC AUC:0.67\n",
      "\n",
      "Classifier: NB\n",
      "Accuracy: 0.31\n",
      "Precision: 0.23\n",
      "Recall: 0.26\n",
      "F1 Score: 0.23\n",
      "ROC AUC:0.62\n",
      "\n"
     ]
    }
   ],
   "source": [
    "print('Classified chantGPT text using the trained algorithms on Blog Authorship Corpus Data')\n",
    "print()\n",
    "# Generate column names ['0', '1', '2', ..., '99']\n",
    "column_names = [str(i) for i in range(100)]\n",
    "# Assign column names to X_gptword2vec\n",
    "X_gptword2vec.columns = column_names\n",
    "\n",
    "for name, model in models:\n",
    "    model.fit(xtrain, ytrain)\n",
    "    gptypred = model.predict(X_gptword2vec)\n",
    "\n",
    "    accuracy = accuracy_score(y_gptword2vec, gptypred) \n",
    "    precision = precision_score(y_gptword2vec, gptypred, average='macro')\n",
    "    recall = recall_score(y_gptword2vec, gptypred, average='macro') \n",
    "    f1 = f1_score(y_gptword2vec, gptypred, average='macro') \n",
    "        # Calculate ROC AUC score\n",
    "    if len(np.unique(ytest)) > 2:\n",
    "        y_prob = model.predict_proba(xtest)  # Use predict_proba to get probability estimates\n",
    "        roc_auc = roc_auc_score(ytest, y_prob, average='macro', multi_class='ovo')\n",
    "    else:\n",
    "        roc_auc = roc_auc_score(ytest, ypred, average='macro', multi_class='ovr')\n",
    "         \n",
    "    print('Classifier:', name)\n",
    "    print('Accuracy: %.2f' % accuracy)\n",
    "    print('Precision: %.2f' % precision)\n",
    "    print('Recall: %.2f' % recall)\n",
    "    print('F1 Score: %.2f' % f1)\n",
    "    print('ROC AUC:%.2f' % roc_auc)\n",
    "    print()\n"
   ]
  },
  {
   "cell_type": "code",
   "execution_count": 472,
   "metadata": {},
   "outputs": [
    {
     "name": "stdout",
     "output_type": "stream",
     "text": [
      "xtrain shape:  (224, 2)\n",
      "ytrain shape:  (224,)\n",
      "xtest shape:  (56, 2)\n",
      "ytest shape:  (56,)\n"
     ]
    }
   ],
   "source": [
    "# Splitting chatSPT texts into test and train datasets\n",
    "\n",
    "chatGPTtrain, chatGPTtest = train_test_split(chatGPT, test_size=0.2, random_state = 18)\n",
    "\n",
    "chatGPTxtrain = chatGPTtrain['tokenized'].reset_index()\n",
    "chatGPTytrain = chatGPTtrain['label_num']\n",
    "chatGPTxtest = chatGPTtest['tokenized'].reset_index()\n",
    "chatGPTytest = chatGPTtest['label_num']\n",
    "print('xtrain shape: ',chatGPTxtrain.shape)\n",
    "print('ytrain shape: ',chatGPTytrain.shape)\n",
    "print('xtest shape: ',chatGPTxtest.shape)\n",
    "print('ytest shape: ',chatGPTytest.shape)"
   ]
  },
  {
   "cell_type": "code",
   "execution_count": 473,
   "metadata": {},
   "outputs": [
    {
     "name": "stderr",
     "output_type": "stream",
     "text": [
      "C:\\Users\\Nastaran\\AppData\\Local\\Packages\\PythonSoftwareFoundation.Python.3.11_qbz5n2kfra8p0\\LocalCache\\local-packages\\Python311\\site-packages\\numpy\\core\\fromnumeric.py:3504: RuntimeWarning: Mean of empty slice.\n",
      "  return _methods._mean(a, axis=axis, dtype=dtype,\n",
      "C:\\Users\\Nastaran\\AppData\\Local\\Packages\\PythonSoftwareFoundation.Python.3.11_qbz5n2kfra8p0\\LocalCache\\local-packages\\Python311\\site-packages\\numpy\\core\\_methods.py:129: RuntimeWarning: invalid value encountered in scalar divide\n",
      "  ret = ret.dtype.type(ret / rcount)\n",
      "C:\\Users\\Nastaran\\AppData\\Local\\Packages\\PythonSoftwareFoundation.Python.3.11_qbz5n2kfra8p0\\LocalCache\\local-packages\\Python311\\site-packages\\numpy\\core\\fromnumeric.py:3504: RuntimeWarning: Mean of empty slice.\n",
      "  return _methods._mean(a, axis=axis, dtype=dtype,\n",
      "C:\\Users\\Nastaran\\AppData\\Local\\Packages\\PythonSoftwareFoundation.Python.3.11_qbz5n2kfra8p0\\LocalCache\\local-packages\\Python311\\site-packages\\numpy\\core\\_methods.py:129: RuntimeWarning: invalid value encountered in scalar divide\n",
      "  ret = ret.dtype.type(ret / rcount)\n"
     ]
    }
   ],
   "source": [
    "# Transforming the train dataset of chatGPT texts into numerical vectors using word2vec models traind on the Blog Authorship Corpus Data\n",
    "\n",
    "gptword2vectrain = pd.DataFrame(columns=['label_num'] + [f'vec{i}' for i in range(100)])\n",
    "\n",
    "for index, row in chatGPTtrain.iterrows():\n",
    "    model_vector = (np.mean([w2v_model.wv[token] for token in row['tokenized'] if token in w2v_model.wv.key_to_index], axis=0)).tolist()\n",
    "    \n",
    "    if type(model_vector) is list:  \n",
    "        new_row = [row['label_num']] + model_vector\n",
    "    else:\n",
    "        new_row = [row['label_num']] + [0] * 100\n",
    "        \n",
    "    gptword2vectrain.loc[index] = new_row\n"
   ]
  },
  {
   "cell_type": "code",
   "execution_count": 474,
   "metadata": {},
   "outputs": [],
   "source": [
    "# Transforming the test dataset of chatGPT texts into numerical vectors using word2vec models traind on the Blog Authorship Corpus Data\n",
    "\n",
    "gptword2vectest = pd.DataFrame(columns=['label_num'] + [f'vec{i}' for i in range(100)])\n",
    "\n",
    "for index, row in chatGPTtest.iterrows():\n",
    "    model_vector = (np.mean([w2v_model.wv[token] for token in row['tokenized'] if token in w2v_model.wv.key_to_index], axis=0)).tolist()\n",
    "    \n",
    "    if type(model_vector) is list:  \n",
    "        new_row = [row['label_num']] + model_vector\n",
    "    else:\n",
    "        new_row = [row['label_num']] + [0] * 100\n",
    "        \n",
    "    gptword2vectest.loc[index] = new_row"
   ]
  },
  {
   "cell_type": "code",
   "execution_count": 475,
   "metadata": {},
   "outputs": [
    {
     "name": "stdout",
     "output_type": "stream",
     "text": [
      "     label_num      vec0      vec1      vec2      vec3      vec4      vec5  \\\n",
      "91         0.0 -0.002860  0.117373 -0.061566 -0.031123  0.067099 -0.268352   \n",
      "143        1.0  0.060055  0.355773 -0.269752  0.211155  0.430648 -0.022589   \n",
      "95         0.0 -0.084326  0.122055 -0.056866 -0.100075  0.154534 -0.227827   \n",
      "231        1.0 -0.011791  0.132275 -0.004068 -0.050339  0.067029 -0.208318   \n",
      "57         1.0  0.060055  0.355773 -0.269752  0.211155  0.430648 -0.022589   \n",
      "127        0.0 -0.038425  0.008889 -0.120281 -0.021217  0.163284 -0.448742   \n",
      "149        0.0 -0.038425  0.008889 -0.120281 -0.021217  0.163284 -0.448742   \n",
      "123        0.0  0.014541  0.180417  0.045541 -0.010693  0.082870 -0.202190   \n",
      "194        0.0 -0.031378  0.137333 -0.019637 -0.046238  0.056190 -0.205694   \n",
      "126        1.0 -0.036434  0.117819 -0.078786 -0.066997  0.075012 -0.232366   \n",
      "211        0.0  0.102709  0.131638  0.129951 -0.127866  0.079226 -0.157821   \n",
      "6          1.0 -0.037235  0.035912 -0.048605 -0.055415  0.053154 -0.333198   \n",
      "41         0.0 -0.014458  0.156513  0.004242 -0.028389  0.096328 -0.175202   \n",
      "142        0.0 -0.084539  0.158436 -0.055974 -0.114359  0.250540 -0.208638   \n",
      "16         1.0 -0.025857  0.111327 -0.054821 -0.094474 -0.007012 -0.219244   \n",
      "167        0.0  0.014541  0.180417  0.045541 -0.010693  0.082870 -0.202190   \n",
      "199        0.0  0.018137  0.096052  0.015096 -0.010240  0.055322 -0.202858   \n",
      "192        1.0  0.059823  0.060488  0.029393  0.021815  0.048922 -0.201699   \n",
      "201        2.0 -0.009202  0.117983  0.003666 -0.029798  0.074407 -0.197214   \n",
      "170        1.0 -0.003735  0.101274 -0.018582 -0.011544  0.087729 -0.217473   \n",
      "9          1.0  0.024908  0.237940 -0.124242  0.094259  0.268407 -0.123001   \n",
      "233        1.0 -0.059076  0.171392 -0.051828 -0.086988  0.149213 -0.163970   \n",
      "151        0.0  0.090377  0.017817 -0.218196 -0.158964  0.233142 -0.281640   \n",
      "94         1.0 -0.095305  0.159496  0.006206 -0.110794  0.155941 -0.188720   \n",
      "265        1.0 -0.017181  0.138966 -0.011807 -0.060228  0.108139 -0.171211   \n",
      "47         2.0  0.052606  0.103998  0.002521 -0.051386  0.153500 -0.156167   \n",
      "17         0.0 -0.002860  0.117373 -0.061566 -0.031123  0.067099 -0.268352   \n",
      "235        0.0  0.046757  0.292081  0.071044 -0.039835  0.054226 -0.126448   \n",
      "173        0.0  0.090377  0.017817 -0.218196 -0.158964  0.233142 -0.281640   \n",
      "210        0.0 -0.084326  0.122055 -0.056866 -0.100075  0.154534 -0.227827   \n",
      "247        1.0  0.060055  0.355773 -0.269752  0.211155  0.430648 -0.022589   \n",
      "110        2.0 -0.004233  0.113589 -0.005540 -0.039723  0.051565 -0.203346   \n",
      "97         1.0 -0.001033  0.136269 -0.030023 -0.076045  0.236117 -0.167348   \n",
      "48         0.0  0.038457  0.116166  0.047721 -0.014252  0.076647 -0.185933   \n",
      "240        1.0  0.028777  0.062071  0.058334  0.045893  0.115302 -0.255065   \n",
      "74         2.0 -0.009202  0.117983  0.003666 -0.029798  0.074407 -0.197214   \n",
      "160        0.0 -0.038425  0.008889 -0.120281 -0.021217  0.163284 -0.448742   \n",
      "40         1.0  0.028777  0.062071  0.058334  0.045893  0.115302 -0.255065   \n",
      "39         2.0 -0.104522  0.068704 -0.106124 -0.233595 -0.201151 -0.263474   \n",
      "128        1.0 -0.010902  0.095717 -0.017951 -0.070518  0.085421 -0.173871   \n",
      "87         0.0  0.031633  0.159019  0.040882 -0.024067  0.083855 -0.199988   \n",
      "150        1.0 -0.010902  0.095717 -0.017951 -0.070518  0.085421 -0.173871   \n",
      "185        1.0 -0.052328  0.153507 -0.053811 -0.088312  0.136399 -0.186368   \n",
      "165        1.0  0.060055  0.355773 -0.269752  0.211155  0.430648 -0.022589   \n",
      "44         0.0 -0.068542  0.120273 -0.042736 -0.086127  0.171443 -0.219922   \n",
      "3          2.0 -0.069468  0.099667 -0.052265 -0.129696  0.045340 -0.211324   \n",
      "140        0.0  0.020212 -0.023211 -0.064091 -0.083460  0.145640 -0.298110   \n",
      "8          0.0 -0.102340  0.124006 -0.063541 -0.118069  0.223775 -0.223646   \n",
      "217        1.0 -0.036434  0.117819 -0.078786 -0.066997  0.075012 -0.232366   \n",
      "182        0.0 -0.038425  0.008889 -0.120281 -0.021217  0.163284 -0.448742   \n",
      "50         0.0  0.014541  0.180417  0.045541 -0.010693  0.082870 -0.202190   \n",
      "122        2.0 -0.074405  0.086596 -0.066458 -0.162354 -0.101685 -0.239343   \n",
      "10         0.0  0.039278  0.126261 -0.125885 -0.119508  0.127556 -0.236233   \n",
      "268        0.0 -0.084539  0.158436 -0.055974 -0.114359  0.250540 -0.208638   \n",
      "108        0.0  0.038457  0.116166  0.047721 -0.014252  0.076647 -0.185933   \n",
      "220        0.0  0.002218  0.150940  0.031294 -0.074431  0.078880 -0.177594   \n",
      "\n",
      "         vec6      vec7      vec8  ...     vec90     vec91     vec92  \\\n",
      "91   0.000878  0.389136 -0.178592  ...  0.128258  0.214061  0.027997   \n",
      "143 -0.139845  0.455675 -0.576333  ...  0.481278  0.244121 -0.112008   \n",
      "95  -0.084911  0.462772 -0.169242  ...  0.272548  0.211397  0.126565   \n",
      "231  0.010416  0.404136 -0.221639  ...  0.161633  0.108346  0.033172   \n",
      "57  -0.139845  0.455675 -0.576333  ...  0.481278  0.244121 -0.112008   \n",
      "127  0.004027  0.302015 -0.173629  ...  0.111477  0.326507  0.123851   \n",
      "149  0.004027  0.302015 -0.173629  ...  0.111477  0.326507  0.123851   \n",
      "123  0.008288  0.409385 -0.148209  ...  0.169901  0.103841 -0.034063   \n",
      "194 -0.021296  0.394892 -0.205947  ...  0.193569  0.144058  0.034098   \n",
      "126 -0.090852  0.458792 -0.166414  ...  0.198877  0.182562  0.080749   \n",
      "211 -0.053615  0.407816 -0.072045  ... -0.001562  0.164573 -0.065198   \n",
      "6    0.002797  0.377668 -0.123231  ...  0.197809  0.212853  0.090243   \n",
      "41  -0.028322  0.397532 -0.260412  ...  0.164478  0.135643  0.002298   \n",
      "142 -0.113372  0.476264 -0.191574  ...  0.297366  0.194254  0.129495   \n",
      "16   0.015782  0.430261 -0.197064  ...  0.270770  0.171752  0.046442   \n",
      "167  0.008288  0.409385 -0.148209  ...  0.169901  0.103841 -0.034063   \n",
      "199 -0.048779  0.397456 -0.185820  ...  0.129160  0.162409  0.017387   \n",
      "192 -0.068183  0.400369 -0.190166  ...  0.069382  0.181925 -0.015930   \n",
      "201 -0.013334  0.388367 -0.241664  ...  0.175223  0.143190  0.031134   \n",
      "170 -0.041276  0.395099 -0.205039  ...  0.174962  0.150796  0.043375   \n",
      "9   -0.086758  0.414601 -0.394936  ...  0.315711  0.193234 -0.030299   \n",
      "233 -0.096821  0.462581 -0.199267  ...  0.226756  0.167421  0.080325   \n",
      "151  0.003184  0.402792 -0.165241  ...  0.346264  0.294429  0.213345   \n",
      "94  -0.075913  0.417715 -0.252576  ...  0.294542  0.090176  0.086141   \n",
      "265 -0.029964  0.423677 -0.240814  ...  0.119239  0.175587  0.060087   \n",
      "47   0.100977  0.273139 -0.381492  ...  0.303396  0.091564 -0.037442   \n",
      "17   0.000878  0.389136 -0.178592  ...  0.128258  0.214061  0.027997   \n",
      "235  0.063961  0.409767 -0.150719  ...  0.193448  0.064995 -0.148485   \n",
      "173  0.003184  0.402792 -0.165241  ...  0.346264  0.294429  0.213345   \n",
      "210 -0.084911  0.462772 -0.169242  ...  0.272548  0.211397  0.126565   \n",
      "247 -0.139845  0.455675 -0.576333  ...  0.481278  0.244121 -0.112008   \n",
      "110  0.005147  0.369451 -0.225528  ...  0.167943  0.132055  0.018380   \n",
      "97  -0.075789  0.467117 -0.300081  ...  0.246712  0.125792  0.042502   \n",
      "48  -0.032428  0.379753 -0.198680  ...  0.124409  0.126046 -0.000064   \n",
      "240  0.019788  0.340030 -0.237171  ...  0.079157  0.173018  0.040425   \n",
      "74  -0.013334  0.388367 -0.241664  ...  0.175223  0.143190  0.031134   \n",
      "160  0.004027  0.302015 -0.173629  ...  0.111477  0.326507  0.123851   \n",
      "40   0.019788  0.340030 -0.237171  ...  0.079157  0.173018  0.040425   \n",
      "39   0.086487  0.580313 -0.145864  ...  0.296033  0.102985 -0.003397   \n",
      "128 -0.014858  0.413160 -0.244009  ...  0.090668  0.160185  0.096097   \n",
      "87  -0.005638  0.389955 -0.172107  ...  0.144218  0.094185 -0.002289   \n",
      "150 -0.014858  0.413160 -0.244009  ...  0.090668  0.160185  0.096097   \n",
      "185 -0.079964  0.456579 -0.182621  ...  0.229479  0.165526  0.088363   \n",
      "165 -0.139845  0.455675 -0.576333  ...  0.481278  0.244121 -0.112008   \n",
      "44  -0.088220  0.456584 -0.177162  ...  0.247088  0.202566  0.119453   \n",
      "3    0.043861  0.458852 -0.243189  ...  0.221798  0.151135  0.064015   \n",
      "140  0.021982  0.354176 -0.303970  ...  0.225957  0.154688  0.039320   \n",
      "8   -0.120231  0.498032 -0.178121  ...  0.297492  0.240859  0.156899   \n",
      "217 -0.090852  0.458792 -0.166414  ...  0.198877  0.182562  0.080749   \n",
      "182  0.004027  0.302015 -0.173629  ...  0.111477  0.326507  0.123851   \n",
      "50   0.008288  0.409385 -0.148209  ...  0.169901  0.103841 -0.034063   \n",
      "122  0.047053  0.522636 -0.183176  ...  0.258189  0.120098  0.012365   \n",
      "10   0.010963  0.428122 -0.148935  ...  0.260399  0.201283  0.121561   \n",
      "268 -0.113372  0.476264 -0.191574  ...  0.297366  0.194254  0.129495   \n",
      "108 -0.032428  0.379753 -0.198680  ...  0.124409  0.126046 -0.000064   \n",
      "220 -0.037372  0.390690 -0.234608  ...  0.123553  0.107351  0.051344   \n",
      "\n",
      "        vec93     vec94     vec95     vec96     vec97     vec98     vec99  \n",
      "91  -0.009192  0.161285  0.047639 -0.046037 -0.149930 -0.013047 -0.030695  \n",
      "143  0.064561  0.173498  0.006848 -0.100408  0.298029  0.306995 -0.150526  \n",
      "95   0.025551  0.222577  0.078475  0.030567 -0.210690  0.001619 -0.069150  \n",
      "231 -0.026642  0.233936  0.048527  0.051169 -0.222065  0.015553  0.005465  \n",
      "57   0.064561  0.173498  0.006848 -0.100408  0.298029  0.306995 -0.150526  \n",
      "127  0.070337  0.050761  0.056203 -0.121291 -0.314459  0.032206 -0.032047  \n",
      "149  0.070337  0.050761  0.056203 -0.121291 -0.314459  0.032206 -0.032047  \n",
      "123  0.036834  0.188282  0.081046 -0.023964 -0.137799 -0.002192  0.002575  \n",
      "194  0.015048  0.241595  0.066677  0.009768 -0.206546  0.017849 -0.018427  \n",
      "126 -0.001509  0.235540  0.025105  0.055550 -0.211462  0.037885 -0.052676  \n",
      "211 -0.014464  0.159068  0.058502 -0.002163 -0.230632 -0.075691  0.064579  \n",
      "6    0.094987  0.203466  0.104008 -0.044011 -0.254899  0.013707 -0.032609  \n",
      "41  -0.020856  0.244507  0.058420  0.008828 -0.197349  0.013167 -0.009145  \n",
      "142 -0.020079  0.181742  0.079601  0.042726 -0.181612  0.007377 -0.099463  \n",
      "16   0.020357  0.267637  0.081922  0.016928 -0.229547  0.018675 -0.070425  \n",
      "167  0.036834  0.188282  0.081046 -0.023964 -0.137799 -0.002192  0.002575  \n",
      "199  0.034436  0.229496  0.063989  0.046848 -0.213760  0.025576  0.024277  \n",
      "192  0.069383  0.207921  0.067359  0.056525 -0.220779  0.046614  0.077286  \n",
      "201  0.005798  0.233498  0.050767  0.024754 -0.194817  0.027278 -0.023059  \n",
      "170  0.014396  0.243350  0.057707  0.036934 -0.223332  0.048975 -0.013299  \n",
      "9    0.032085  0.199085  0.035752 -0.048582  0.045149  0.160195 -0.093433  \n",
      "233 -0.061314  0.251852  0.065752  0.044928 -0.168265 -0.010873 -0.087067  \n",
      "151  0.110657  0.261445  0.075871 -0.016460 -0.135293  0.108712 -0.240296  \n",
      "94  -0.085024  0.239285  0.079308  0.018297 -0.197865  0.029646 -0.120710  \n",
      "265 -0.000623  0.223021  0.014820  0.046194 -0.219944  0.027894  0.005876  \n",
      "47  -0.035385  0.329386  0.011542 -0.063217 -0.110243  0.058805 -0.117294  \n",
      "17  -0.009192  0.161285  0.047639 -0.046037 -0.149930 -0.013047 -0.030695  \n",
      "235 -0.037167  0.152470  0.061442  0.021154 -0.089219 -0.038615  0.047442  \n",
      "173  0.110657  0.261445  0.075871 -0.016460 -0.135293  0.108712 -0.240296  \n",
      "210  0.025551  0.222577  0.078475  0.030567 -0.210690  0.001619 -0.069150  \n",
      "247  0.064561  0.173498  0.006848 -0.100408  0.298029  0.306995 -0.150526  \n",
      "110  0.008188  0.255819  0.067718  0.002159 -0.197735  0.025786 -0.014773  \n",
      "97  -0.069306  0.203982  0.058652  0.002524 -0.146566  0.016646 -0.065499  \n",
      "48   0.061012  0.244609  0.077457  0.029018 -0.232652  0.031466  0.020310  \n",
      "240  0.136934  0.271578  0.110374 -0.055450 -0.257816  0.060748 -0.025080  \n",
      "74   0.005798  0.233498  0.050767  0.024754 -0.194817  0.027278 -0.023059  \n",
      "160  0.070337  0.050761  0.056203 -0.121291 -0.314459  0.032206 -0.032047  \n",
      "40   0.136934  0.271578  0.110374 -0.055450 -0.257816  0.060748 -0.025080  \n",
      "39  -0.025573  0.327861  0.029000  0.139204 -0.316235 -0.010164 -0.078489  \n",
      "128  0.035739  0.242197  0.029396  0.017648 -0.233653  0.025772 -0.006618  \n",
      "87   0.025910  0.198036  0.079521  0.007715 -0.148970  0.000510  0.013459  \n",
      "150  0.035739  0.242197  0.029396  0.017648 -0.233653  0.025772 -0.006618  \n",
      "185 -0.034731  0.248607  0.077541  0.035776 -0.174315 -0.001805 -0.091760  \n",
      "165  0.064561  0.173498  0.006848 -0.100408  0.298029  0.306995 -0.150526  \n",
      "44   0.016182  0.214174  0.073067  0.034536 -0.205340  0.001510 -0.059283  \n",
      "3   -0.070654  0.282546  0.016102  0.083558 -0.248971  0.010727 -0.031304  \n",
      "140 -0.155564  0.160178  0.071727 -0.211666 -0.222553 -0.030835 -0.189512  \n",
      "8    0.012850  0.214524  0.080246  0.040496 -0.208163 -0.008837 -0.089870  \n",
      "217 -0.001509  0.235540  0.025105  0.055550 -0.211462  0.037885 -0.052676  \n",
      "182  0.070337  0.050761  0.056203 -0.121291 -0.314459  0.032206 -0.032047  \n",
      "50   0.036834  0.188282  0.081046 -0.023964 -0.137799 -0.002192  0.002575  \n",
      "122 -0.015913  0.288966  0.030605  0.108586 -0.274790  0.002814 -0.062774  \n",
      "10   0.110971  0.280683  0.071920  0.082033 -0.158774  0.062660 -0.110290  \n",
      "268 -0.020079  0.181742  0.079601  0.042726 -0.181612  0.007377 -0.099463  \n",
      "108  0.061012  0.244609  0.077457  0.029018 -0.232652  0.031466  0.020310  \n",
      "220  0.004242  0.244471  0.078526  0.032783 -0.217300  0.006515  0.011781  \n",
      "\n",
      "[56 rows x 101 columns]\n"
     ]
    }
   ],
   "source": [
    "print(gptword2vectest)"
   ]
  },
  {
   "cell_type": "code",
   "execution_count": 477,
   "metadata": {},
   "outputs": [],
   "source": [
    "# Generate column names ['0', '1', '2', ..., '99']\n",
    "column_names = [str(i) for i in range(101)]\n",
    "# Assign column names to X_gptword2vec\n",
    "gptword2vectest.columns = column_names\n"
   ]
  },
  {
   "cell_type": "code",
   "execution_count": 478,
   "metadata": {},
   "outputs": [
    {
     "name": "stdout",
     "output_type": "stream",
     "text": [
      "       0         1         2         3         4         5         6  \\\n",
      "91   0.0 -0.002860  0.117373 -0.061566 -0.031123  0.067099 -0.268352   \n",
      "143  1.0  0.060055  0.355773 -0.269752  0.211155  0.430648 -0.022589   \n",
      "95   0.0 -0.084326  0.122055 -0.056866 -0.100075  0.154534 -0.227827   \n",
      "231  1.0 -0.011791  0.132275 -0.004068 -0.050339  0.067029 -0.208318   \n",
      "57   1.0  0.060055  0.355773 -0.269752  0.211155  0.430648 -0.022589   \n",
      "127  0.0 -0.038425  0.008889 -0.120281 -0.021217  0.163284 -0.448742   \n",
      "149  0.0 -0.038425  0.008889 -0.120281 -0.021217  0.163284 -0.448742   \n",
      "123  0.0  0.014541  0.180417  0.045541 -0.010693  0.082870 -0.202190   \n",
      "194  0.0 -0.031378  0.137333 -0.019637 -0.046238  0.056190 -0.205694   \n",
      "126  1.0 -0.036434  0.117819 -0.078786 -0.066997  0.075012 -0.232366   \n",
      "211  0.0  0.102709  0.131638  0.129951 -0.127866  0.079226 -0.157821   \n",
      "6    1.0 -0.037235  0.035912 -0.048605 -0.055415  0.053154 -0.333198   \n",
      "41   0.0 -0.014458  0.156513  0.004242 -0.028389  0.096328 -0.175202   \n",
      "142  0.0 -0.084539  0.158436 -0.055974 -0.114359  0.250540 -0.208638   \n",
      "16   1.0 -0.025857  0.111327 -0.054821 -0.094474 -0.007012 -0.219244   \n",
      "167  0.0  0.014541  0.180417  0.045541 -0.010693  0.082870 -0.202190   \n",
      "199  0.0  0.018137  0.096052  0.015096 -0.010240  0.055322 -0.202858   \n",
      "192  1.0  0.059823  0.060488  0.029393  0.021815  0.048922 -0.201699   \n",
      "201  2.0 -0.009202  0.117983  0.003666 -0.029798  0.074407 -0.197214   \n",
      "170  1.0 -0.003735  0.101274 -0.018582 -0.011544  0.087729 -0.217473   \n",
      "9    1.0  0.024908  0.237940 -0.124242  0.094259  0.268407 -0.123001   \n",
      "233  1.0 -0.059076  0.171392 -0.051828 -0.086988  0.149213 -0.163970   \n",
      "151  0.0  0.090377  0.017817 -0.218196 -0.158964  0.233142 -0.281640   \n",
      "94   1.0 -0.095305  0.159496  0.006206 -0.110794  0.155941 -0.188720   \n",
      "265  1.0 -0.017181  0.138966 -0.011807 -0.060228  0.108139 -0.171211   \n",
      "47   2.0  0.052606  0.103998  0.002521 -0.051386  0.153500 -0.156167   \n",
      "17   0.0 -0.002860  0.117373 -0.061566 -0.031123  0.067099 -0.268352   \n",
      "235  0.0  0.046757  0.292081  0.071044 -0.039835  0.054226 -0.126448   \n",
      "173  0.0  0.090377  0.017817 -0.218196 -0.158964  0.233142 -0.281640   \n",
      "210  0.0 -0.084326  0.122055 -0.056866 -0.100075  0.154534 -0.227827   \n",
      "247  1.0  0.060055  0.355773 -0.269752  0.211155  0.430648 -0.022589   \n",
      "110  2.0 -0.004233  0.113589 -0.005540 -0.039723  0.051565 -0.203346   \n",
      "97   1.0 -0.001033  0.136269 -0.030023 -0.076045  0.236117 -0.167348   \n",
      "48   0.0  0.038457  0.116166  0.047721 -0.014252  0.076647 -0.185933   \n",
      "240  1.0  0.028777  0.062071  0.058334  0.045893  0.115302 -0.255065   \n",
      "74   2.0 -0.009202  0.117983  0.003666 -0.029798  0.074407 -0.197214   \n",
      "160  0.0 -0.038425  0.008889 -0.120281 -0.021217  0.163284 -0.448742   \n",
      "40   1.0  0.028777  0.062071  0.058334  0.045893  0.115302 -0.255065   \n",
      "39   2.0 -0.104522  0.068704 -0.106124 -0.233595 -0.201151 -0.263474   \n",
      "128  1.0 -0.010902  0.095717 -0.017951 -0.070518  0.085421 -0.173871   \n",
      "87   0.0  0.031633  0.159019  0.040882 -0.024067  0.083855 -0.199988   \n",
      "150  1.0 -0.010902  0.095717 -0.017951 -0.070518  0.085421 -0.173871   \n",
      "185  1.0 -0.052328  0.153507 -0.053811 -0.088312  0.136399 -0.186368   \n",
      "165  1.0  0.060055  0.355773 -0.269752  0.211155  0.430648 -0.022589   \n",
      "44   0.0 -0.068542  0.120273 -0.042736 -0.086127  0.171443 -0.219922   \n",
      "3    2.0 -0.069468  0.099667 -0.052265 -0.129696  0.045340 -0.211324   \n",
      "140  0.0  0.020212 -0.023211 -0.064091 -0.083460  0.145640 -0.298110   \n",
      "8    0.0 -0.102340  0.124006 -0.063541 -0.118069  0.223775 -0.223646   \n",
      "217  1.0 -0.036434  0.117819 -0.078786 -0.066997  0.075012 -0.232366   \n",
      "182  0.0 -0.038425  0.008889 -0.120281 -0.021217  0.163284 -0.448742   \n",
      "50   0.0  0.014541  0.180417  0.045541 -0.010693  0.082870 -0.202190   \n",
      "122  2.0 -0.074405  0.086596 -0.066458 -0.162354 -0.101685 -0.239343   \n",
      "10   0.0  0.039278  0.126261 -0.125885 -0.119508  0.127556 -0.236233   \n",
      "268  0.0 -0.084539  0.158436 -0.055974 -0.114359  0.250540 -0.208638   \n",
      "108  0.0  0.038457  0.116166  0.047721 -0.014252  0.076647 -0.185933   \n",
      "220  0.0  0.002218  0.150940  0.031294 -0.074431  0.078880 -0.177594   \n",
      "\n",
      "            7         8         9  ...        91        92        93  \\\n",
      "91   0.000878  0.389136 -0.178592  ...  0.128258  0.214061  0.027997   \n",
      "143 -0.139845  0.455675 -0.576333  ...  0.481278  0.244121 -0.112008   \n",
      "95  -0.084911  0.462772 -0.169242  ...  0.272548  0.211397  0.126565   \n",
      "231  0.010416  0.404136 -0.221639  ...  0.161633  0.108346  0.033172   \n",
      "57  -0.139845  0.455675 -0.576333  ...  0.481278  0.244121 -0.112008   \n",
      "127  0.004027  0.302015 -0.173629  ...  0.111477  0.326507  0.123851   \n",
      "149  0.004027  0.302015 -0.173629  ...  0.111477  0.326507  0.123851   \n",
      "123  0.008288  0.409385 -0.148209  ...  0.169901  0.103841 -0.034063   \n",
      "194 -0.021296  0.394892 -0.205947  ...  0.193569  0.144058  0.034098   \n",
      "126 -0.090852  0.458792 -0.166414  ...  0.198877  0.182562  0.080749   \n",
      "211 -0.053615  0.407816 -0.072045  ... -0.001562  0.164573 -0.065198   \n",
      "6    0.002797  0.377668 -0.123231  ...  0.197809  0.212853  0.090243   \n",
      "41  -0.028322  0.397532 -0.260412  ...  0.164478  0.135643  0.002298   \n",
      "142 -0.113372  0.476264 -0.191574  ...  0.297366  0.194254  0.129495   \n",
      "16   0.015782  0.430261 -0.197064  ...  0.270770  0.171752  0.046442   \n",
      "167  0.008288  0.409385 -0.148209  ...  0.169901  0.103841 -0.034063   \n",
      "199 -0.048779  0.397456 -0.185820  ...  0.129160  0.162409  0.017387   \n",
      "192 -0.068183  0.400369 -0.190166  ...  0.069382  0.181925 -0.015930   \n",
      "201 -0.013334  0.388367 -0.241664  ...  0.175223  0.143190  0.031134   \n",
      "170 -0.041276  0.395099 -0.205039  ...  0.174962  0.150796  0.043375   \n",
      "9   -0.086758  0.414601 -0.394936  ...  0.315711  0.193234 -0.030299   \n",
      "233 -0.096821  0.462581 -0.199267  ...  0.226756  0.167421  0.080325   \n",
      "151  0.003184  0.402792 -0.165241  ...  0.346264  0.294429  0.213345   \n",
      "94  -0.075913  0.417715 -0.252576  ...  0.294542  0.090176  0.086141   \n",
      "265 -0.029964  0.423677 -0.240814  ...  0.119239  0.175587  0.060087   \n",
      "47   0.100977  0.273139 -0.381492  ...  0.303396  0.091564 -0.037442   \n",
      "17   0.000878  0.389136 -0.178592  ...  0.128258  0.214061  0.027997   \n",
      "235  0.063961  0.409767 -0.150719  ...  0.193448  0.064995 -0.148485   \n",
      "173  0.003184  0.402792 -0.165241  ...  0.346264  0.294429  0.213345   \n",
      "210 -0.084911  0.462772 -0.169242  ...  0.272548  0.211397  0.126565   \n",
      "247 -0.139845  0.455675 -0.576333  ...  0.481278  0.244121 -0.112008   \n",
      "110  0.005147  0.369451 -0.225528  ...  0.167943  0.132055  0.018380   \n",
      "97  -0.075789  0.467117 -0.300081  ...  0.246712  0.125792  0.042502   \n",
      "48  -0.032428  0.379753 -0.198680  ...  0.124409  0.126046 -0.000064   \n",
      "240  0.019788  0.340030 -0.237171  ...  0.079157  0.173018  0.040425   \n",
      "74  -0.013334  0.388367 -0.241664  ...  0.175223  0.143190  0.031134   \n",
      "160  0.004027  0.302015 -0.173629  ...  0.111477  0.326507  0.123851   \n",
      "40   0.019788  0.340030 -0.237171  ...  0.079157  0.173018  0.040425   \n",
      "39   0.086487  0.580313 -0.145864  ...  0.296033  0.102985 -0.003397   \n",
      "128 -0.014858  0.413160 -0.244009  ...  0.090668  0.160185  0.096097   \n",
      "87  -0.005638  0.389955 -0.172107  ...  0.144218  0.094185 -0.002289   \n",
      "150 -0.014858  0.413160 -0.244009  ...  0.090668  0.160185  0.096097   \n",
      "185 -0.079964  0.456579 -0.182621  ...  0.229479  0.165526  0.088363   \n",
      "165 -0.139845  0.455675 -0.576333  ...  0.481278  0.244121 -0.112008   \n",
      "44  -0.088220  0.456584 -0.177162  ...  0.247088  0.202566  0.119453   \n",
      "3    0.043861  0.458852 -0.243189  ...  0.221798  0.151135  0.064015   \n",
      "140  0.021982  0.354176 -0.303970  ...  0.225957  0.154688  0.039320   \n",
      "8   -0.120231  0.498032 -0.178121  ...  0.297492  0.240859  0.156899   \n",
      "217 -0.090852  0.458792 -0.166414  ...  0.198877  0.182562  0.080749   \n",
      "182  0.004027  0.302015 -0.173629  ...  0.111477  0.326507  0.123851   \n",
      "50   0.008288  0.409385 -0.148209  ...  0.169901  0.103841 -0.034063   \n",
      "122  0.047053  0.522636 -0.183176  ...  0.258189  0.120098  0.012365   \n",
      "10   0.010963  0.428122 -0.148935  ...  0.260399  0.201283  0.121561   \n",
      "268 -0.113372  0.476264 -0.191574  ...  0.297366  0.194254  0.129495   \n",
      "108 -0.032428  0.379753 -0.198680  ...  0.124409  0.126046 -0.000064   \n",
      "220 -0.037372  0.390690 -0.234608  ...  0.123553  0.107351  0.051344   \n",
      "\n",
      "           94        95        96        97        98        99       100  \n",
      "91  -0.009192  0.161285  0.047639 -0.046037 -0.149930 -0.013047 -0.030695  \n",
      "143  0.064561  0.173498  0.006848 -0.100408  0.298029  0.306995 -0.150526  \n",
      "95   0.025551  0.222577  0.078475  0.030567 -0.210690  0.001619 -0.069150  \n",
      "231 -0.026642  0.233936  0.048527  0.051169 -0.222065  0.015553  0.005465  \n",
      "57   0.064561  0.173498  0.006848 -0.100408  0.298029  0.306995 -0.150526  \n",
      "127  0.070337  0.050761  0.056203 -0.121291 -0.314459  0.032206 -0.032047  \n",
      "149  0.070337  0.050761  0.056203 -0.121291 -0.314459  0.032206 -0.032047  \n",
      "123  0.036834  0.188282  0.081046 -0.023964 -0.137799 -0.002192  0.002575  \n",
      "194  0.015048  0.241595  0.066677  0.009768 -0.206546  0.017849 -0.018427  \n",
      "126 -0.001509  0.235540  0.025105  0.055550 -0.211462  0.037885 -0.052676  \n",
      "211 -0.014464  0.159068  0.058502 -0.002163 -0.230632 -0.075691  0.064579  \n",
      "6    0.094987  0.203466  0.104008 -0.044011 -0.254899  0.013707 -0.032609  \n",
      "41  -0.020856  0.244507  0.058420  0.008828 -0.197349  0.013167 -0.009145  \n",
      "142 -0.020079  0.181742  0.079601  0.042726 -0.181612  0.007377 -0.099463  \n",
      "16   0.020357  0.267637  0.081922  0.016928 -0.229547  0.018675 -0.070425  \n",
      "167  0.036834  0.188282  0.081046 -0.023964 -0.137799 -0.002192  0.002575  \n",
      "199  0.034436  0.229496  0.063989  0.046848 -0.213760  0.025576  0.024277  \n",
      "192  0.069383  0.207921  0.067359  0.056525 -0.220779  0.046614  0.077286  \n",
      "201  0.005798  0.233498  0.050767  0.024754 -0.194817  0.027278 -0.023059  \n",
      "170  0.014396  0.243350  0.057707  0.036934 -0.223332  0.048975 -0.013299  \n",
      "9    0.032085  0.199085  0.035752 -0.048582  0.045149  0.160195 -0.093433  \n",
      "233 -0.061314  0.251852  0.065752  0.044928 -0.168265 -0.010873 -0.087067  \n",
      "151  0.110657  0.261445  0.075871 -0.016460 -0.135293  0.108712 -0.240296  \n",
      "94  -0.085024  0.239285  0.079308  0.018297 -0.197865  0.029646 -0.120710  \n",
      "265 -0.000623  0.223021  0.014820  0.046194 -0.219944  0.027894  0.005876  \n",
      "47  -0.035385  0.329386  0.011542 -0.063217 -0.110243  0.058805 -0.117294  \n",
      "17  -0.009192  0.161285  0.047639 -0.046037 -0.149930 -0.013047 -0.030695  \n",
      "235 -0.037167  0.152470  0.061442  0.021154 -0.089219 -0.038615  0.047442  \n",
      "173  0.110657  0.261445  0.075871 -0.016460 -0.135293  0.108712 -0.240296  \n",
      "210  0.025551  0.222577  0.078475  0.030567 -0.210690  0.001619 -0.069150  \n",
      "247  0.064561  0.173498  0.006848 -0.100408  0.298029  0.306995 -0.150526  \n",
      "110  0.008188  0.255819  0.067718  0.002159 -0.197735  0.025786 -0.014773  \n",
      "97  -0.069306  0.203982  0.058652  0.002524 -0.146566  0.016646 -0.065499  \n",
      "48   0.061012  0.244609  0.077457  0.029018 -0.232652  0.031466  0.020310  \n",
      "240  0.136934  0.271578  0.110374 -0.055450 -0.257816  0.060748 -0.025080  \n",
      "74   0.005798  0.233498  0.050767  0.024754 -0.194817  0.027278 -0.023059  \n",
      "160  0.070337  0.050761  0.056203 -0.121291 -0.314459  0.032206 -0.032047  \n",
      "40   0.136934  0.271578  0.110374 -0.055450 -0.257816  0.060748 -0.025080  \n",
      "39  -0.025573  0.327861  0.029000  0.139204 -0.316235 -0.010164 -0.078489  \n",
      "128  0.035739  0.242197  0.029396  0.017648 -0.233653  0.025772 -0.006618  \n",
      "87   0.025910  0.198036  0.079521  0.007715 -0.148970  0.000510  0.013459  \n",
      "150  0.035739  0.242197  0.029396  0.017648 -0.233653  0.025772 -0.006618  \n",
      "185 -0.034731  0.248607  0.077541  0.035776 -0.174315 -0.001805 -0.091760  \n",
      "165  0.064561  0.173498  0.006848 -0.100408  0.298029  0.306995 -0.150526  \n",
      "44   0.016182  0.214174  0.073067  0.034536 -0.205340  0.001510 -0.059283  \n",
      "3   -0.070654  0.282546  0.016102  0.083558 -0.248971  0.010727 -0.031304  \n",
      "140 -0.155564  0.160178  0.071727 -0.211666 -0.222553 -0.030835 -0.189512  \n",
      "8    0.012850  0.214524  0.080246  0.040496 -0.208163 -0.008837 -0.089870  \n",
      "217 -0.001509  0.235540  0.025105  0.055550 -0.211462  0.037885 -0.052676  \n",
      "182  0.070337  0.050761  0.056203 -0.121291 -0.314459  0.032206 -0.032047  \n",
      "50   0.036834  0.188282  0.081046 -0.023964 -0.137799 -0.002192  0.002575  \n",
      "122 -0.015913  0.288966  0.030605  0.108586 -0.274790  0.002814 -0.062774  \n",
      "10   0.110971  0.280683  0.071920  0.082033 -0.158774  0.062660 -0.110290  \n",
      "268 -0.020079  0.181742  0.079601  0.042726 -0.181612  0.007377 -0.099463  \n",
      "108  0.061012  0.244609  0.077457  0.029018 -0.232652  0.031466  0.020310  \n",
      "220  0.004242  0.244471  0.078526  0.032783 -0.217300  0.006515  0.011781  \n",
      "\n",
      "[56 rows x 101 columns]\n"
     ]
    }
   ],
   "source": [
    "print(gptword2vectest)"
   ]
  },
  {
   "cell_type": "code",
   "execution_count": 480,
   "metadata": {},
   "outputs": [],
   "source": [
    "# Generate column names ['0', '1', '2', ..., '99']\n",
    "column_names = [str(i) for i in range(101)]\n",
    "# Assign column names to X_gptword2vec\n",
    "gptword2vectrain.columns = column_names\n"
   ]
  },
  {
   "cell_type": "code",
   "execution_count": 481,
   "metadata": {},
   "outputs": [
    {
     "name": "stdout",
     "output_type": "stream",
     "text": [
      "       0         1         2         3         4         5         6  \\\n",
      "203  2.0  0.003846  0.139539 -0.029682 -0.103750  0.115152 -0.222276   \n",
      "24   0.0  0.102709  0.131638  0.129951 -0.127866  0.079226 -0.157821   \n",
      "196  0.0  0.039278  0.126261 -0.125885 -0.119508  0.127556 -0.236233   \n",
      "33   1.0 -0.001033  0.136269 -0.030023 -0.076045  0.236117 -0.167348   \n",
      "229  1.0 -0.003735  0.101274 -0.018582 -0.011544  0.087729 -0.217473   \n",
      "..   ...       ...       ...       ...       ...       ...       ...   \n",
      "242  0.0 -0.038425  0.008889 -0.120281 -0.021217  0.163284 -0.448742   \n",
      "174  1.0 -0.052964  0.173223 -0.007854 -0.069203  0.155886 -0.175089   \n",
      "190  0.0 -0.005998  0.126730  0.022736 -0.015389  0.070731 -0.225750   \n",
      "120  0.0  0.046757  0.292081  0.071044 -0.039835  0.054226 -0.126448   \n",
      "275  0.0 -0.038425  0.008889 -0.120281 -0.021217  0.163284 -0.448742   \n",
      "\n",
      "            7         8         9  ...        91        92        93  \\\n",
      "203 -0.023382  0.386107 -0.202212  ...  0.150665  0.179317  0.015213   \n",
      "24  -0.053615  0.407816 -0.072045  ... -0.001562  0.164573 -0.065198   \n",
      "196  0.010963  0.428122 -0.148935  ...  0.260399  0.201283  0.121561   \n",
      "33  -0.075789  0.467117 -0.300081  ...  0.246712  0.125792  0.042502   \n",
      "229 -0.041276  0.395099 -0.205039  ...  0.174962  0.150796  0.043375   \n",
      "..        ...       ...       ...  ...       ...       ...       ...   \n",
      "242  0.004027  0.302015 -0.173629  ...  0.111477  0.326507  0.123851   \n",
      "174 -0.090541  0.445386 -0.181533  ...  0.220884  0.136202  0.062597   \n",
      "190 -0.037126  0.402896 -0.229900  ...  0.157547  0.153815  0.023612   \n",
      "120  0.063961  0.409767 -0.150719  ...  0.193448  0.064995 -0.148485   \n",
      "275  0.004027  0.302015 -0.173629  ...  0.111477  0.326507  0.123851   \n",
      "\n",
      "           94        95        96        97        98        99       100  \n",
      "203  0.010679  0.289373  0.088341 -0.064405 -0.181472 -0.037637 -0.036915  \n",
      "24  -0.014464  0.159068  0.058502 -0.002163 -0.230632 -0.075691  0.064579  \n",
      "196  0.110971  0.280683  0.071920  0.082033 -0.158774  0.062660 -0.110290  \n",
      "33  -0.069306  0.203982  0.058652  0.002524 -0.146566  0.016646 -0.065499  \n",
      "229  0.014396  0.243350  0.057707  0.036934 -0.223332  0.048975 -0.013299  \n",
      "..        ...       ...       ...       ...       ...       ...       ...  \n",
      "242  0.070337  0.050761  0.056203 -0.121291 -0.314459  0.032206 -0.032047  \n",
      "174 -0.031843  0.246923  0.078987  0.026067 -0.166855 -0.012540 -0.068724  \n",
      "190  0.004018  0.245955  0.042411  0.043524 -0.245369  0.021660  0.022700  \n",
      "120 -0.037167  0.152470  0.061442  0.021154 -0.089219 -0.038615  0.047442  \n",
      "275  0.070337  0.050761  0.056203 -0.121291 -0.314459  0.032206 -0.032047  \n",
      "\n",
      "[224 rows x 101 columns]\n"
     ]
    }
   ],
   "source": [
    "print(gptword2vectrain)"
   ]
  },
  {
   "cell_type": "code",
   "execution_count": 482,
   "metadata": {},
   "outputs": [],
   "source": [
    "# LSTM model traind on chatGPT data\n",
    "X_train = np.array(gptword2vectrain.drop('0', axis=1))\n",
    "y_train = np.array(gptword2vectrain['0'])\n",
    "X_test = np.array(gptword2vectest.drop('0', axis=1))\n",
    "y_test = np.array(gptword2vectest['0'])"
   ]
  },
  {
   "cell_type": "code",
   "execution_count": 485,
   "metadata": {},
   "outputs": [
    {
     "name": "stdout",
     "output_type": "stream",
     "text": [
      "Epoch 1/10\n",
      "\u001b[1m7/7\u001b[0m \u001b[32m━━━━━━━━━━━━━━━━━━━━\u001b[0m\u001b[37m\u001b[0m \u001b[1m18s\u001b[0m 671ms/step - accuracy: 0.3532 - loss: 1.0946 - val_accuracy: 0.3750 - val_loss: 1.0636\n",
      "Epoch 2/10\n",
      "\u001b[1m7/7\u001b[0m \u001b[32m━━━━━━━━━━━━━━━━━━━━\u001b[0m\u001b[37m\u001b[0m \u001b[1m2s\u001b[0m 305ms/step - accuracy: 0.4660 - loss: 1.0672 - val_accuracy: 0.3750 - val_loss: 1.0135\n",
      "Epoch 3/10\n",
      "\u001b[1m7/7\u001b[0m \u001b[32m━━━━━━━━━━━━━━━━━━━━\u001b[0m\u001b[37m\u001b[0m \u001b[1m2s\u001b[0m 294ms/step - accuracy: 0.4452 - loss: 1.0617 - val_accuracy: 0.3750 - val_loss: 1.0436\n",
      "Epoch 4/10\n",
      "\u001b[1m7/7\u001b[0m \u001b[32m━━━━━━━━━━━━━━━━━━━━\u001b[0m\u001b[37m\u001b[0m \u001b[1m2s\u001b[0m 303ms/step - accuracy: 0.4755 - loss: 1.0578 - val_accuracy: 0.3750 - val_loss: 1.0422\n",
      "Epoch 5/10\n",
      "\u001b[1m7/7\u001b[0m \u001b[32m━━━━━━━━━━━━━━━━━━━━\u001b[0m\u001b[37m\u001b[0m \u001b[1m2s\u001b[0m 299ms/step - accuracy: 0.4424 - loss: 1.0533 - val_accuracy: 0.3750 - val_loss: 1.0304\n",
      "Epoch 6/10\n",
      "\u001b[1m7/7\u001b[0m \u001b[32m━━━━━━━━━━━━━━━━━━━━\u001b[0m\u001b[37m\u001b[0m \u001b[1m2s\u001b[0m 305ms/step - accuracy: 0.4522 - loss: 1.0448 - val_accuracy: 0.3750 - val_loss: 1.0155\n",
      "Epoch 7/10\n",
      "\u001b[1m7/7\u001b[0m \u001b[32m━━━━━━━━━━━━━━━━━━━━\u001b[0m\u001b[37m\u001b[0m \u001b[1m3s\u001b[0m 326ms/step - accuracy: 0.4068 - loss: 1.0521 - val_accuracy: 0.3750 - val_loss: 1.0033\n",
      "Epoch 8/10\n",
      "\u001b[1m7/7\u001b[0m \u001b[32m━━━━━━━━━━━━━━━━━━━━\u001b[0m\u001b[37m\u001b[0m \u001b[1m2s\u001b[0m 317ms/step - accuracy: 0.4100 - loss: 1.0542 - val_accuracy: 0.3750 - val_loss: 1.0001\n",
      "Epoch 9/10\n",
      "\u001b[1m7/7\u001b[0m \u001b[32m━━━━━━━━━━━━━━━━━━━━\u001b[0m\u001b[37m\u001b[0m \u001b[1m2s\u001b[0m 305ms/step - accuracy: 0.4429 - loss: 1.0372 - val_accuracy: 0.3750 - val_loss: 1.0073\n",
      "Epoch 10/10\n",
      "\u001b[1m7/7\u001b[0m \u001b[32m━━━━━━━━━━━━━━━━━━━━\u001b[0m\u001b[37m\u001b[0m \u001b[1m2s\u001b[0m 320ms/step - accuracy: 0.4152 - loss: 1.0581 - val_accuracy: 0.3750 - val_loss: 1.0111\n",
      "\u001b[1m2/2\u001b[0m \u001b[32m━━━━━━━━━━━━━━━━━━━━\u001b[0m\u001b[37m\u001b[0m \u001b[1m4s\u001b[0m 2s/step\n",
      "Confusion Matrix:\n",
      " [[ 0 28  0]\n",
      " [ 0 21  0]\n",
      " [ 0  7  0]]\n",
      "Accuracy:  0.375\n",
      "F1 Score:  0.20454545454545453\n",
      "Recall:  0.375\n",
      "ROC AUC:  0.5712301587301587\n"
     ]
    }
   ],
   "source": [
    "# Define the input shape\n",
    "input_shape = (X_train.shape[1], 1)\n",
    "\n",
    "# Define the LSTM model\n",
    "inputs = Input(shape=input_shape)\n",
    "lstm = LSTM(128)(inputs)\n",
    "outputs = Dense(3, activation='softmax')(lstm)\n",
    "model = Model(inputs=inputs, outputs=outputs)\n",
    "\n",
    "# Compile the model\n",
    "model.compile(loss='sparse_categorical_crossentropy', optimizer='adam', metrics=['accuracy'])\n",
    "\n",
    "# Train the model\n",
    "history = model.fit(X_train.reshape((-1, *input_shape)), y_train, batch_size=32, epochs=10, validation_data=(X_test.reshape((-1, *input_shape)), y_test))\n",
    "\n",
    "# Evaluate the model\n",
    "y_pred = model.predict(X_test.reshape((-1, *input_shape)))\n",
    "\n",
    "# Calculate evaluation metrics\n",
    "confusion = confusion_matrix(y_test, np.argmax(y_pred, axis=1))\n",
    "acc = accuracy_score(y_test, np.argmax(y_pred, axis=1))\n",
    "f1 = f1_score(y_test, np.argmax(y_pred, axis=1), average='weighted')  # Specify average for multiclass problems\n",
    "recall = recall_score(y_test, np.argmax(y_pred, axis=1), average='weighted')  # Specify average for multiclass problems\n",
    "roc_auc = roc_auc_score(y_test, y_pred, multi_class='ovr')  # Specify multi_class for multiclass problems\n",
    "\n",
    "# Print classification metrics\n",
    "print('Confusion Matrix:\\n', confusion)\n",
    "print('Accuracy: ', acc)\n",
    "print('F1 Score: ', f1)\n",
    "print('Recall: ', recall)\n",
    "print('ROC AUC: ', roc_auc)"
   ]
  },
  {
   "cell_type": "code",
   "execution_count": 486,
   "metadata": {},
   "outputs": [
    {
     "name": "stdout",
     "output_type": "stream",
     "text": [
      "Classification Algorithms on Data\n",
      "\n",
      "Classifier: LR\n",
      "Accuracy: 0.51\n",
      "Precision: 0.50\n",
      "Recall: 0.47\n",
      "F1 Score: 0.46\n",
      "ROC AUC:0.67\n",
      "\n",
      "Classifier: LDA\n",
      "Accuracy: 0.52\n",
      "Precision: 0.51\n",
      "Recall: 0.48\n",
      "F1 Score: 0.47\n",
      "ROC AUC:0.67\n",
      "\n",
      "Classifier: KNN\n",
      "Accuracy: 0.47\n",
      "Precision: 0.45\n",
      "Recall: 0.44\n",
      "F1 Score: 0.43\n",
      "ROC AUC:0.62\n",
      "\n",
      "Classifier: DTC\n",
      "Accuracy: 0.43\n",
      "Precision: 0.42\n",
      "Recall: 0.42\n",
      "F1 Score: 0.42\n",
      "ROC AUC:0.56\n",
      "\n",
      "Classifier: RF\n",
      "Accuracy: 0.51\n",
      "Precision: 0.49\n",
      "Recall: 0.49\n",
      "F1 Score: 0.49\n",
      "ROC AUC:0.68\n",
      "\n",
      "Classifier: NB\n",
      "Accuracy: 0.46\n",
      "Precision: 0.46\n",
      "Recall: 0.43\n",
      "F1 Score: 0.42\n",
      "ROC AUC:0.62\n",
      "\n"
     ]
    }
   ],
   "source": [
    "\n",
    "\n",
    "print('Classification Algorithms on Data')\n",
    "print()\n",
    "\n",
    "gptxtrain = gptword2vectrain.iloc[:,1:]\n",
    "gptxtest = gptword2vectest.iloc[:,1:]\n",
    "gptytrain = gptword2vectrain['0']\n",
    "gptytest = gptword2vectest['0']\n",
    "\n",
    "for name, model in models:\n",
    "    if isinstance(model, RandomForestClassifier):\n",
    "        model.set_params(max_features='sqrt')  # Adjust the max_features parameter\n",
    "    model.fit(xtrain, ytrain)\n",
    "    ypred = model.predict(xtest)\n",
    "    \n",
    "    accuracy = accuracy_score(ytest, ypred) \n",
    "    precision = precision_score(ytest, ypred, average='macro')\n",
    "    recall = recall_score(ytest, ypred, average='macro')\n",
    "    f1 = f1_score(ytest, ypred, average='macro')\n",
    "    \n",
    "    # Calculate ROC AUC score\n",
    "    if len(np.unique(ytest)) > 2:\n",
    "        y_prob = model.predict_proba(xtest)  # Use predict_proba to get probability estimates\n",
    "        roc_auc = roc_auc_score(ytest, y_prob, average='macro', multi_class='ovo')\n",
    "    else:\n",
    "        roc_auc = roc_auc_score(ytest, ypred, average='macro', multi_class='ovr')\n",
    "    \n",
    "    print('Classifier:', name)\n",
    "    print('Accuracy: %.2f' % accuracy)\n",
    "    print('Precision: %.2f' % precision)\n",
    "    print('Recall: %.2f' % recall)\n",
    "    print('F1 Score: %.2f' % f1)\n",
    "    print('ROC AUC:%.2f' % roc_auc)\n",
    "    print()\n"
   ]
  }
 ],
 "metadata": {
  "kernelspec": {
   "display_name": "Python 3",
   "language": "python",
   "name": "python3"
  },
  "language_info": {
   "codemirror_mode": {
    "name": "ipython",
    "version": 3
   },
   "file_extension": ".py",
   "mimetype": "text/x-python",
   "name": "python",
   "nbconvert_exporter": "python",
   "pygments_lexer": "ipython3",
   "version": "3.11.9"
  }
 },
 "nbformat": 4,
 "nbformat_minor": 2
}
