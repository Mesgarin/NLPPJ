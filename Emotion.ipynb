{
 "cells": [
  {
   "cell_type": "markdown",
   "metadata": {},
   "source": [
    "---\n",
    "title: \"Text Analysis and NLP Project:Emotion Detection from Text\"\n",
    "author:\n",
    "  - Nastaran Mesgari\n",
    "\n",
    "date: 2024-05-19\n",
    "\n",
    "abstract: \"\"\n",
    "\n",
    "format: \n",
    "  html:  \n",
    "    code-fold: true\n",
    "    standalone: true\n",
    "    embed-resources: true\n",
    "    number-sections: true # numbering the header\n",
    "    toc: true\n",
    "    toc-depth: 4\n",
    "---"
   ]
  },
  {
   "cell_type": "markdown",
   "metadata": {},
   "source": [
    "## Executive Summary\n"
   ]
  },
  {
   "cell_type": "markdown",
   "metadata": {},
   "source": [
    "# Introduction\n",
    "Emotion detection from text is one of the challenging problems in Natural Language Processing. The reason is the unavailability of labeled dataset and the multi-class nature of the problem. Humans have a variety of emotions, and it is difficult to collect enough records for each emotion and hence the problem of class imbalance arises. Here we have labeled data for emotion detection and the objective is to build an efficient model to detect emotion."
   ]
  },
  {
   "cell_type": "markdown",
   "metadata": {},
   "source": [
    "### importing libraries"
   ]
  },
  {
   "cell_type": "code",
   "execution_count": 133,
   "metadata": {},
   "outputs": [],
   "source": [
    "import pandas as pd\n",
    "import numpy as np\n",
    "\n",
    "import re\n",
    "import nltk\n",
    "from nltk.tokenize import word_tokenize, sent_tokenize\n",
    "from nltk import pos_tag\n",
    "from nltk.stem import PorterStemmer\n",
    "from nltk.stem import WordNetLemmatizer\n",
    "from sklearn.datasets import load_files\n",
    "# nltk.download('stopwords')\n",
    "import pickle\n",
    "import seaborn as sns\n",
    "\n",
    "import keras\n",
    "#from keras.preprocessing.text import Tokenizer\n",
    "from keras.preprocessing.sequence import pad_sequences\n",
    "from keras.models import Sequential\n",
    "from keras.layers import Dense, LSTM\n",
    "from keras.callbacks import ReduceLROnPlateau \n",
    "\n",
    "from nltk.corpus import stopwords\n",
    "#nltk.download('wordnet')\n",
    "#nltk.download('omw-1.4')\n",
    "#nltk.download('punkt')\n",
    "from nltk.tokenize import sent_tokenize\n",
    "\n",
    "from sklearn.naive_bayes import MultinomialNB\n",
    "from sklearn.model_selection import train_test_split\n",
    "from sklearn.feature_extraction.text import TfidfTransformer\n",
    "from sklearn.feature_extraction.text import CountVectorizer, TfidfVectorizer\n",
    "\n",
    "from sklearn.metrics import classification_report, accuracy_score, confusion_matrix\n",
    "from sklearn.model_selection import cross_val_predict, StratifiedKFold\n",
    "from sklearn.neural_network import MLPClassifier\n",
    "import matplotlib.pyplot as plt\n",
    "from sklearn.metrics import accuracy_score, precision_score, recall_score, f1_score, confusion_matrix, classification_report\n",
    "\n",
    "from sklearn.pipeline import Pipeline\n",
    "from sklearn.svm import SVC\n",
    "import matplotlib.pyplot as plt\n",
    "import warnings\n",
    "warnings.filterwarnings(\"ignore\", category=FutureWarning)"
   ]
  },
  {
   "cell_type": "code",
   "execution_count": 134,
   "metadata": {},
   "outputs": [
    {
     "data": {
      "text/html": [
       "<div>\n",
       "<style scoped>\n",
       "    .dataframe tbody tr th:only-of-type {\n",
       "        vertical-align: middle;\n",
       "    }\n",
       "\n",
       "    .dataframe tbody tr th {\n",
       "        vertical-align: top;\n",
       "    }\n",
       "\n",
       "    .dataframe thead th {\n",
       "        text-align: right;\n",
       "    }\n",
       "</style>\n",
       "<table border=\"1\" class=\"dataframe\">\n",
       "  <thead>\n",
       "    <tr style=\"text-align: right;\">\n",
       "      <th></th>\n",
       "      <th>tweet_id</th>\n",
       "      <th>sentiment</th>\n",
       "      <th>author</th>\n",
       "      <th>content</th>\n",
       "    </tr>\n",
       "  </thead>\n",
       "  <tbody>\n",
       "    <tr>\n",
       "      <th>0</th>\n",
       "      <td>1956967341</td>\n",
       "      <td>empty</td>\n",
       "      <td>xoshayzers</td>\n",
       "      <td>@tiffanylue i know  i was listenin to bad habi...</td>\n",
       "    </tr>\n",
       "    <tr>\n",
       "      <th>1</th>\n",
       "      <td>1956967666</td>\n",
       "      <td>sadness</td>\n",
       "      <td>wannamama</td>\n",
       "      <td>Layin n bed with a headache  ughhhh...waitin o...</td>\n",
       "    </tr>\n",
       "    <tr>\n",
       "      <th>2</th>\n",
       "      <td>1956967696</td>\n",
       "      <td>sadness</td>\n",
       "      <td>coolfunky</td>\n",
       "      <td>Funeral ceremony...gloomy friday...</td>\n",
       "    </tr>\n",
       "    <tr>\n",
       "      <th>3</th>\n",
       "      <td>1956967789</td>\n",
       "      <td>enthusiasm</td>\n",
       "      <td>czareaquino</td>\n",
       "      <td>wants to hang out with friends SOON!</td>\n",
       "    </tr>\n",
       "    <tr>\n",
       "      <th>4</th>\n",
       "      <td>1956968416</td>\n",
       "      <td>neutral</td>\n",
       "      <td>xkilljoyx</td>\n",
       "      <td>@dannycastillo We want to trade with someone w...</td>\n",
       "    </tr>\n",
       "    <tr>\n",
       "      <th>5</th>\n",
       "      <td>1956968477</td>\n",
       "      <td>worry</td>\n",
       "      <td>xxxPEACHESxxx</td>\n",
       "      <td>Re-pinging @ghostridah14: why didn't you go to...</td>\n",
       "    </tr>\n",
       "    <tr>\n",
       "      <th>6</th>\n",
       "      <td>1956968487</td>\n",
       "      <td>sadness</td>\n",
       "      <td>ShansBee</td>\n",
       "      <td>I should be sleep, but im not! thinking about ...</td>\n",
       "    </tr>\n",
       "    <tr>\n",
       "      <th>7</th>\n",
       "      <td>1956968636</td>\n",
       "      <td>worry</td>\n",
       "      <td>mcsleazy</td>\n",
       "      <td>Hmmm. http://www.djhero.com/ is down</td>\n",
       "    </tr>\n",
       "    <tr>\n",
       "      <th>8</th>\n",
       "      <td>1956969035</td>\n",
       "      <td>sadness</td>\n",
       "      <td>nic0lepaula</td>\n",
       "      <td>@charviray Charlene my love. I miss you</td>\n",
       "    </tr>\n",
       "    <tr>\n",
       "      <th>9</th>\n",
       "      <td>1956969172</td>\n",
       "      <td>sadness</td>\n",
       "      <td>Ingenue_Em</td>\n",
       "      <td>@kelcouch I'm sorry  at least it's Friday?</td>\n",
       "    </tr>\n",
       "  </tbody>\n",
       "</table>\n",
       "</div>"
      ],
      "text/plain": [
       "     tweet_id   sentiment         author  \\\n",
       "0  1956967341       empty     xoshayzers   \n",
       "1  1956967666     sadness      wannamama   \n",
       "2  1956967696     sadness      coolfunky   \n",
       "3  1956967789  enthusiasm    czareaquino   \n",
       "4  1956968416     neutral      xkilljoyx   \n",
       "5  1956968477       worry  xxxPEACHESxxx   \n",
       "6  1956968487     sadness       ShansBee   \n",
       "7  1956968636       worry       mcsleazy   \n",
       "8  1956969035     sadness    nic0lepaula   \n",
       "9  1956969172     sadness     Ingenue_Em   \n",
       "\n",
       "                                             content  \n",
       "0  @tiffanylue i know  i was listenin to bad habi...  \n",
       "1  Layin n bed with a headache  ughhhh...waitin o...  \n",
       "2                Funeral ceremony...gloomy friday...  \n",
       "3               wants to hang out with friends SOON!  \n",
       "4  @dannycastillo We want to trade with someone w...  \n",
       "5  Re-pinging @ghostridah14: why didn't you go to...  \n",
       "6  I should be sleep, but im not! thinking about ...  \n",
       "7               Hmmm. http://www.djhero.com/ is down  \n",
       "8            @charviray Charlene my love. I miss you  \n",
       "9         @kelcouch I'm sorry  at least it's Friday?  "
      ]
     },
     "execution_count": 134,
     "metadata": {},
     "output_type": "execute_result"
    }
   ],
   "source": [
    "# Reading the data\n",
    "df = pd.read_csv('Data/text_emotion.csv')\n",
    "df.head(10)"
   ]
  },
  {
   "cell_type": "markdown",
   "metadata": {},
   "source": [
    "### Data Exploration"
   ]
  },
  {
   "cell_type": "code",
   "execution_count": 135,
   "metadata": {},
   "outputs": [
    {
     "name": "stdout",
     "output_type": "stream",
     "text": [
      "<class 'pandas.core.frame.DataFrame'>\n",
      "RangeIndex: 40000 entries, 0 to 39999\n",
      "Data columns (total 4 columns):\n",
      " #   Column     Non-Null Count  Dtype \n",
      "---  ------     --------------  ----- \n",
      " 0   tweet_id   40000 non-null  int64 \n",
      " 1   sentiment  40000 non-null  object\n",
      " 2   author     40000 non-null  object\n",
      " 3   content    40000 non-null  object\n",
      "dtypes: int64(1), object(3)\n",
      "memory usage: 1.2+ MB\n"
     ]
    }
   ],
   "source": [
    "# Information of each columns\n",
    "df.info()"
   ]
  },
  {
   "cell_type": "code",
   "execution_count": 136,
   "metadata": {},
   "outputs": [
    {
     "name": "stdout",
     "output_type": "stream",
     "text": [
      "['empty' 'sadness' 'enthusiasm' 'neutral' 'worry' 'surprise' 'love' 'fun'\n",
      " 'hate' 'happiness' 'boredom' 'relief' 'anger']\n"
     ]
    }
   ],
   "source": [
    "# Unique values from 'sentiment'\n",
    "unique_sentiments = df['sentiment'].unique()\n",
    "print(unique_sentiments)"
   ]
  },
  {
   "cell_type": "code",
   "execution_count": 137,
   "metadata": {},
   "outputs": [
    {
     "name": "stdout",
     "output_type": "stream",
     "text": [
      "            Counts  Percentage\n",
      "sentiment                     \n",
      "neutral       8638     21.5950\n",
      "worry         8459     21.1475\n",
      "happiness     5209     13.0225\n",
      "sadness       5165     12.9125\n",
      "love          3842      9.6050\n",
      "surprise      2187      5.4675\n",
      "fun           1776      4.4400\n",
      "relief        1526      3.8150\n",
      "hate          1323      3.3075\n",
      "empty          827      2.0675\n",
      "enthusiasm     759      1.8975\n",
      "boredom        179      0.4475\n",
      "anger          110      0.2750\n",
      "\n",
      "total values: 13\n"
     ]
    }
   ],
   "source": [
    "# Frequency distribution of'sentiment'\n",
    "frequency_counts = df['sentiment'].value_counts()\n",
    "\n",
    "frequency_percentage = (frequency_counts / len(df['sentiment'])) * 100\n",
    "frequency_df = pd.DataFrame({'Counts': frequency_counts, 'Percentage': frequency_percentage})\n",
    "\n",
    "print(frequency_df)\n",
    "\n",
    "# Print total value\n",
    "cardinality = df['sentiment'].nunique()\n",
    "print(f\"\\ntotal values: {cardinality}\")"
   ]
  },
  {
   "cell_type": "markdown",
   "metadata": {},
   "source": [
    "Regarding the below countplot based on the sentiment, it can be seen than the dataset is imbalanced.and tweet are more about negative and neutral ."
   ]
  },
  {
   "cell_type": "code",
   "execution_count": 138,
   "metadata": {},
   "outputs": [
    {
     "data": {
      "image/png": "[encoded data removed]",
      "text/plain": [
       "<Figure size 1200x400 with 1 Axes>"
      ]
     },
     "metadata": {},
     "output_type": "display_data"
    }
   ],
   "source": [
    "plt.figure(figsize=(12,4));\n",
    "sns.countplot(x='sentiment', data=df, palette='husl');"
   ]
  },
  {
   "cell_type": "markdown",
   "metadata": {},
   "source": [
    "for balancing the data I selected 3 groups , Posetive , Negative and Neutral.Surprise sentiment was selected as a neutral because it is not be shown:  is it posetive or negative and when I do that the prevalence ≤ 10% and it is considered for imbalancing data.\n"
   ]
  },
  {
   "cell_type": "code",
   "execution_count": 139,
   "metadata": {},
   "outputs": [],
   "source": [
    "#  grouping 13 labels into 3 classes: 'negative', 'positive', 'neutral'\n",
    "sentiment_mapping = {\n",
    "    'empty': 'negative',\n",
    "    'sadness': 'negative',\n",
    "    'worry': 'negative',\n",
    "    'hate': 'negative',\n",
    "    'boredom': 'negative',\n",
    "    'anger': 'negative',\n",
    "    'enthusiasm': 'positive',\n",
    "    'neutral': 'neutral',\n",
    "    'surprise': 'neutral',\n",
    "    'love': 'positive',\n",
    "    'fun': 'positive',\n",
    "    'happiness': 'positive',\n",
    "    'relief': 'positive'\n",
    "}\n",
    "\n",
    "# Create a new col for the mapping\n",
    "df['label'] = df['sentiment'].map(sentiment_mapping)"
   ]
  },
  {
   "cell_type": "markdown",
   "metadata": {},
   "source": [
    "In addition,I check out the average lendth of the Comments are approximately 73.5 words."
   ]
  },
  {
   "cell_type": "code",
   "execution_count": 140,
   "metadata": {},
   "outputs": [
    {
     "name": "stdout",
     "output_type": "stream",
     "text": [
      "The average length of the texts is 73.40555\n"
     ]
    }
   ],
   "source": [
    "# Size of the texts\n",
    "total_length = 0\n",
    "num_texts = len(df['content'])\n",
    "for text in df['content']:\n",
    "    total_length += len(text)\n",
    "\n",
    "avg_length = total_length / num_texts\n",
    "\n",
    "print(f\"The average length of the texts is {avg_length}\")"
   ]
  },
  {
   "cell_type": "markdown",
   "metadata": {},
   "source": [
    "# Text Pre-processing\n",
    "The text pre-processing is a very critical step because better results can only be achieved with good quality of data. Since the tweets texts are unstructured or in other words, they are raw and very noisy, they require cleaning. The main objective of this step is to remove noisy and inconsistent texts. Comments that carry very little weighting in text context, for example numbers, special character, punctuations, hashtags, extra blank space, etc. need to be removed. The following steps are taken for the text cleaning.\n",
    "\n",
    "### Removing special characters and lowercasing\n",
    "Unstructured texts such as Comments may contain numbers, special characters, punctuations, hashtags, extra blank space, etc. We need to remove them from the texts. Therefore, I This function performs the following steps:\n",
    "\n",
    "**removing any word which starts with @.**\n",
    "\n",
    "**removing all non-alphabetic characters in the string with spaces.**\n",
    "\n",
    "**changing all the letters into lower case.**\n",
    "\n",
    "**replacing more than one space with one space and removing any leading and trailing space.**\n",
    "\n",
    "**iltering out any punctuation marks from the text.**\n",
    "\n",
    "### Tokenization\n",
    "Tokenization involves dividing a text or document into smaller elements known as tokens, aiming to transform continuous text into distinct units for computer processing. It's an essential process in natural language processing and text analysis, facilitating various algorithms and methods that rely on tokenized data. In my approach, I utilized the wordpunct_tokenize() function from NLTK library, which efficiently separates text into individual tokens or words by identifying non-alphanumeric characters like punctuation marks or special symbols.\n",
    "\n",
    "### Removing Numbers\n",
    "Eliminating numbers from text during text analysis can be crucial, especially considering the context and objectives of the analysis. Given that the project involves comments and tweets, with a focus on language patterns, numbers might not contribute significantly to the analysis. Thus, excluding numbers can enhance the consistency of the text. Following tokenization, I filtered out any tokens identified as digits.\n",
    "\n",
    "### Removing stop-words\n",
    "Stop words, such as \"the\", \"a\", \"an\", \"and\", \"but\", \"in\", \"on\", etc., are highly common in language and typically add little substantive meaning. Conversely, non-stop words, encompassing nouns, verbs, adjectives, adverbs, and other significant parts of speech, carry more weight in conveying meaning. In text analysis, filtering out stop words can enhance the relevance and clarity of the analysis. To achieve this, I compared each word in the Comments texts with NLTK's pre-defined English stop words list, retaining only the non-stop words for further analysis.\n",
    "\n",
    "### English Language detection\n",
    "Ensuring that the texts are in English is vital for achieving accurate and effective text analysis. Since numerous NLP techniques and tools are tailored to specific languages, particularly English, analyzing English text enables the utilization of language-specific resources and models. To accomplish this, I implemented a filter on the tokenized texts, verifying whether each token belongs to the set of English words sourced from the nltk.corpus.words module.\n",
    "\n",
    "\n",
    "###  lemmatizing the words\n",
    "Lemmatization simplifies words to their base or root form, known as the \"lemma,\" aiming to unify inflectional and sometimes derivational variations of a word. This process reduces the total number of unique words in a text, aiding in text analysis by standardizing vocabulary and mitigating data sparsity. For this project, I employed NLTK's WordNetLemmatizer as the lemmatization tool, which utilizes morphological analysis and part-of-speech tagging to identify the base form of a word. Considering the part-of-speech is crucial, as the lemma may vary based on whether the word functions as a noun, verb, adjective, or adverb.\n"
   ]
  },
  {
   "cell_type": "markdown",
   "metadata": {},
   "source": [
    "### Cleaning the Dataset "
   ]
  },
  {
   "cell_type": "code",
   "execution_count": 141,
   "metadata": {},
   "outputs": [],
   "source": [
    "dfcopy = df.copy()"
   ]
  },
  {
   "cell_type": "code",
   "execution_count": 142,
   "metadata": {},
   "outputs": [
    {
     "name": "stdout",
     "output_type": "stream",
     "text": [
      "Num of numerical variables: 1\n",
      "\n",
      "The numerical variables are:  ['tweet_id']\n"
     ]
    }
   ],
   "source": [
    "# Find any numerical variables.\n",
    "numerical = [var for var in dfcopy.columns if dfcopy[var].dtype!='O']\n",
    "\n",
    "print('Num of numerical variables: {}\\n'.format(len(numerical)))\n",
    "print('The numerical variables are: ', numerical)"
   ]
  },
  {
   "cell_type": "code",
   "execution_count": 143,
   "metadata": {},
   "outputs": [],
   "source": [
    "# Drop the unecessary column (numerical variables)\n",
    "dfcopy= dfcopy.drop(columns=['tweet_id'])"
   ]
  },
  {
   "cell_type": "markdown",
   "metadata": {},
   "source": [
    "in this step we remove the duplicate rows, it be showned 13 rows."
   ]
  },
  {
   "cell_type": "code",
   "execution_count": 144,
   "metadata": {},
   "outputs": [
    {
     "name": "stdout",
     "output_type": "stream",
     "text": [
      "Total duplicated rows: 13\n"
     ]
    }
   ],
   "source": [
    "# Count duplicates\n",
    "duplicates_count = dfcopy.duplicated().sum()\n",
    "print(f'Total duplicated rows: {duplicates_count}')"
   ]
  },
  {
   "cell_type": "code",
   "execution_count": 145,
   "metadata": {},
   "outputs": [
    {
     "data": {
      "text/html": [
       "<div>\n",
       "<style scoped>\n",
       "    .dataframe tbody tr th:only-of-type {\n",
       "        vertical-align: middle;\n",
       "    }\n",
       "\n",
       "    .dataframe tbody tr th {\n",
       "        vertical-align: top;\n",
       "    }\n",
       "\n",
       "    .dataframe thead th {\n",
       "        text-align: right;\n",
       "    }\n",
       "</style>\n",
       "<table border=\"1\" class=\"dataframe\">\n",
       "  <thead>\n",
       "    <tr style=\"text-align: right;\">\n",
       "      <th></th>\n",
       "      <th>sentiment</th>\n",
       "      <th>author</th>\n",
       "      <th>content</th>\n",
       "      <th>label</th>\n",
       "    </tr>\n",
       "  </thead>\n",
       "  <tbody>\n",
       "    <tr>\n",
       "      <th>366</th>\n",
       "      <td>worry</td>\n",
       "      <td>jmil1733</td>\n",
       "      <td>I feel so deflated. No more doggy.</td>\n",
       "      <td>negative</td>\n",
       "    </tr>\n",
       "    <tr>\n",
       "      <th>521</th>\n",
       "      <td>worry</td>\n",
       "      <td>Chassidy7</td>\n",
       "      <td>Somebody please save the polar bears!</td>\n",
       "      <td>negative</td>\n",
       "    </tr>\n",
       "    <tr>\n",
       "      <th>1026</th>\n",
       "      <td>neutral</td>\n",
       "      <td>benmfowler</td>\n",
       "      <td>I'm at work</td>\n",
       "      <td>neutral</td>\n",
       "    </tr>\n",
       "    <tr>\n",
       "      <th>3684</th>\n",
       "      <td>sadness</td>\n",
       "      <td>nnurse</td>\n",
       "      <td>@dublins98dave me too! I am down 400 euro</td>\n",
       "      <td>negative</td>\n",
       "    </tr>\n",
       "    <tr>\n",
       "      <th>4363</th>\n",
       "      <td>worry</td>\n",
       "      <td>becca4656</td>\n",
       "      <td>is upset, I left my phone at home again</td>\n",
       "      <td>negative</td>\n",
       "    </tr>\n",
       "    <tr>\n",
       "      <th>...</th>\n",
       "      <td>...</td>\n",
       "      <td>...</td>\n",
       "      <td>...</td>\n",
       "      <td>...</td>\n",
       "    </tr>\n",
       "    <tr>\n",
       "      <th>39859</th>\n",
       "      <td>love</td>\n",
       "      <td>Miamarie33</td>\n",
       "      <td>Happy Mothers Day</td>\n",
       "      <td>positive</td>\n",
       "    </tr>\n",
       "    <tr>\n",
       "      <th>39898</th>\n",
       "      <td>love</td>\n",
       "      <td>xoxodominique</td>\n",
       "      <td>happy mothers day!</td>\n",
       "      <td>positive</td>\n",
       "    </tr>\n",
       "    <tr>\n",
       "      <th>39913</th>\n",
       "      <td>happiness</td>\n",
       "      <td>wailanik</td>\n",
       "      <td>happy mother's day!</td>\n",
       "      <td>positive</td>\n",
       "    </tr>\n",
       "    <tr>\n",
       "      <th>39915</th>\n",
       "      <td>love</td>\n",
       "      <td>ennahdii</td>\n",
       "      <td>happy mother's day everyone</td>\n",
       "      <td>positive</td>\n",
       "    </tr>\n",
       "    <tr>\n",
       "      <th>39945</th>\n",
       "      <td>love</td>\n",
       "      <td>chronophasia</td>\n",
       "      <td>Happy Mother's Day to all the moms out there!</td>\n",
       "      <td>positive</td>\n",
       "    </tr>\n",
       "  </tbody>\n",
       "</table>\n",
       "<p>173 rows × 4 columns</p>\n",
       "</div>"
      ],
      "text/plain": [
       "       sentiment         author  \\\n",
       "366        worry       jmil1733   \n",
       "521        worry      Chassidy7   \n",
       "1026     neutral     benmfowler   \n",
       "3684     sadness         nnurse   \n",
       "4363       worry      becca4656   \n",
       "...          ...            ...   \n",
       "39859       love     Miamarie33   \n",
       "39898       love  xoxodominique   \n",
       "39913  happiness       wailanik   \n",
       "39915       love       ennahdii   \n",
       "39945       love   chronophasia   \n",
       "\n",
       "                                             content     label  \n",
       "366               I feel so deflated. No more doggy.  negative  \n",
       "521            Somebody please save the polar bears!  negative  \n",
       "1026                                     I'm at work   neutral  \n",
       "3684       @dublins98dave me too! I am down 400 euro  negative  \n",
       "4363         is upset, I left my phone at home again  negative  \n",
       "...                                              ...       ...  \n",
       "39859                              Happy Mothers Day  positive  \n",
       "39898                             happy mothers day!  positive  \n",
       "39913                            happy mother's day!  positive  \n",
       "39915                    happy mother's day everyone  positive  \n",
       "39945  Happy Mother's Day to all the moms out there!  positive  \n",
       "\n",
       "[173 rows x 4 columns]"
      ]
     },
     "execution_count": 145,
     "metadata": {},
     "output_type": "execute_result"
    }
   ],
   "source": [
    "# Check for duplicates\n",
    "dfcopy[dfcopy['content'].duplicated() == True]"
   ]
  },
  {
   "cell_type": "markdown",
   "metadata": {},
   "source": [
    "in this step I reindex the data set"
   ]
  },
  {
   "cell_type": "code",
   "execution_count": 146,
   "metadata": {},
   "outputs": [],
   "source": [
    "# Drop duplicated values\n",
    "index = dfcopy[dfcopy['content'].duplicated() == True].index\n",
    "dfcopy.drop(index, axis = 0, inplace = True)\n",
    "dfcopy.reset_index(inplace=True, drop = True)"
   ]
  },
  {
   "cell_type": "markdown",
   "metadata": {},
   "source": [
    "after remove the duplicate rows we have 39827 rows with three columns"
   ]
  },
  {
   "cell_type": "code",
   "execution_count": 147,
   "metadata": {},
   "outputs": [
    {
     "data": {
      "text/plain": [
       "(39827, 4)"
      ]
     },
     "execution_count": 147,
     "metadata": {},
     "output_type": "execute_result"
    }
   ],
   "source": [
    "# Final shape of data after dropping duplicates\n",
    "dfcopy.shape\n",
    "#dfcopy.info"
   ]
  },
  {
   "cell_type": "code",
   "execution_count": 148,
   "metadata": {},
   "outputs": [],
   "source": [
    "# Drop the original column, 'sentiment'\n",
    "dfcopy = dfcopy.drop(columns=['sentiment'])"
   ]
  },
  {
   "cell_type": "code",
   "execution_count": 149,
   "metadata": {},
   "outputs": [
    {
     "name": "stdout",
     "output_type": "stream",
     "text": [
      "          Counts  Percentage\n",
      "label                       \n",
      "negative   16024     40.0600\n",
      "positive   13024     32.5600\n",
      "neutral    10779     26.9475\n",
      "\n",
      "total values: 3\n"
     ]
    }
   ],
   "source": [
    "# Calculate the frequency distribution of 'sentiment'\n",
    "frequency_counts = dfcopy['label'].value_counts()\n",
    "\n",
    "frequency_percentage = (frequency_counts / len(df['label'])) * 100\n",
    "frequency_df = pd.DataFrame({'Counts': frequency_counts, 'Percentage': frequency_percentage})\n",
    "\n",
    "print(frequency_df)\n",
    "\n",
    "# Total value count\n",
    "cardinality = df['label'].nunique()\n",
    "print(f\"\\ntotal values: {cardinality}\")"
   ]
  },
  {
   "cell_type": "code",
   "execution_count": 150,
   "metadata": {},
   "outputs": [
    {
     "name": "stdout",
     "output_type": "stream",
     "text": [
      "['negative' 'positive' 'neutral']\n"
     ]
    }
   ],
   "source": [
    "# Final check - Extract unique values from 'sentiment'\n",
    "unique_sentiments = dfcopy['label'].unique()\n",
    "print(unique_sentiments)"
   ]
  },
  {
   "cell_type": "code",
   "execution_count": 151,
   "metadata": {},
   "outputs": [
    {
     "data": {
      "image/png": "[encoded data removed]",
      "text/plain": [
       "<Figure size 700x400 with 1 Axes>"
      ]
     },
     "metadata": {},
     "output_type": "display_data"
    }
   ],
   "source": [
    "import matplotlib.pyplot as plt\n",
    "import seaborn as sns\n",
    "\n",
    "# Your DataFrame and countplot code\n",
    "plt.figure(figsize=(7,4))\n",
    "ax = sns.countplot(x='label', data=dfcopy, palette='husl')\n",
    "\n",
    "# Calculate total number of data points\n",
    "total = len(dfcopy['label'])\n",
    "\n",
    "# Annotate each bar with its percentage\n",
    "for p in ax.patches:\n",
    "    height = p.get_height()\n",
    "    percentage = (height / total) * 100\n",
    "    ax.text(p.get_x() + p.get_width() / 2., height + 0.1, f'{percentage:.1f}%', ha='center', va='bottom')\n",
    "\n",
    "plt.show()\n",
    "\n",
    "\n"
   ]
  },
  {
   "cell_type": "code",
   "execution_count": 152,
   "metadata": {},
   "outputs": [
    {
     "data": {
      "text/html": [
       "<div>\n",
       "<style scoped>\n",
       "    .dataframe tbody tr th:only-of-type {\n",
       "        vertical-align: middle;\n",
       "    }\n",
       "\n",
       "    .dataframe tbody tr th {\n",
       "        vertical-align: top;\n",
       "    }\n",
       "\n",
       "    .dataframe thead th {\n",
       "        text-align: right;\n",
       "    }\n",
       "</style>\n",
       "<table border=\"1\" class=\"dataframe\">\n",
       "  <thead>\n",
       "    <tr style=\"text-align: right;\">\n",
       "      <th></th>\n",
       "      <th>author</th>\n",
       "      <th>content</th>\n",
       "      <th>label_num</th>\n",
       "    </tr>\n",
       "  </thead>\n",
       "  <tbody>\n",
       "    <tr>\n",
       "      <th>0</th>\n",
       "      <td>xoshayzers</td>\n",
       "      <td>@tiffanylue i know  i was listenin to bad habi...</td>\n",
       "      <td>0</td>\n",
       "    </tr>\n",
       "    <tr>\n",
       "      <th>1</th>\n",
       "      <td>wannamama</td>\n",
       "      <td>Layin n bed with a headache  ughhhh...waitin o...</td>\n",
       "      <td>0</td>\n",
       "    </tr>\n",
       "    <tr>\n",
       "      <th>2</th>\n",
       "      <td>coolfunky</td>\n",
       "      <td>Funeral ceremony...gloomy friday...</td>\n",
       "      <td>0</td>\n",
       "    </tr>\n",
       "    <tr>\n",
       "      <th>3</th>\n",
       "      <td>czareaquino</td>\n",
       "      <td>wants to hang out with friends SOON!</td>\n",
       "      <td>1</td>\n",
       "    </tr>\n",
       "    <tr>\n",
       "      <th>4</th>\n",
       "      <td>xkilljoyx</td>\n",
       "      <td>@dannycastillo We want to trade with someone w...</td>\n",
       "      <td>2</td>\n",
       "    </tr>\n",
       "  </tbody>\n",
       "</table>\n",
       "</div>"
      ],
      "text/plain": [
       "        author                                            content  label_num\n",
       "0   xoshayzers  @tiffanylue i know  i was listenin to bad habi...          0\n",
       "1    wannamama  Layin n bed with a headache  ughhhh...waitin o...          0\n",
       "2    coolfunky                Funeral ceremony...gloomy friday...          0\n",
       "3  czareaquino               wants to hang out with friends SOON!          1\n",
       "4    xkilljoyx  @dannycastillo We want to trade with someone w...          2"
      ]
     },
     "execution_count": 152,
     "metadata": {},
     "output_type": "execute_result"
    }
   ],
   "source": [
    "# Mapping sentiment num / encode\n",
    "dfcopy[\"label_num\"] = dfcopy.label.map({\n",
    "    'negative': 0,\n",
    "    'positive': 1,\n",
    "    'neutral': 2\n",
    "})\n",
    "\n",
    "dfcopy = dfcopy.drop(columns=['label'])\n",
    "dfcopy.head(5)"
   ]
  },
  {
   "cell_type": "code",
   "execution_count": 153,
   "metadata": {},
   "outputs": [
    {
     "name": "stdout",
     "output_type": "stream",
     "text": [
      "39827\n",
      "39827\n"
     ]
    }
   ],
   "source": [
    "X = dfcopy['content']\n",
    "y = dfcopy['label_num']\n",
    "\n",
    "# Making sure that X y have the same length\n",
    "print(len(X))\n",
    "print(len(y))"
   ]
  },
  {
   "cell_type": "code",
   "execution_count": 154,
   "metadata": {},
   "outputs": [],
   "source": [
    "lemmatizer = WordNetLemmatizer()\n",
    "def lemmatize(tokens):\n",
    "    pos_tags = pos_tag(tokens)\n",
    "    wn_pos_tags = {'N': 'n', 'V': 'v', 'R': 'r', 'J': 'a'}\n",
    "    \n",
    "    # Lemmatize each word based on its POS tag\n",
    "    lemmas = []\n",
    "    for token, pos in pos_tags:\n",
    "        pos = wn_pos_tags.get(pos[0].upper(), 'n')  # If the POS tag is not recognized, default to noun (n)\n",
    "        lemma = lemmatizer.lemmatize(token, pos=pos)\n",
    "        lemmas.append(lemma)\n",
    "    return lemmas"
   ]
  },
  {
   "cell_type": "code",
   "execution_count": 155,
   "metadata": {},
   "outputs": [],
   "source": [
    "tokenized_text = []\n",
    "for i in dfcopy['content']:\n",
    "    x =  word_tokenize(i)\n",
    "    tokenized_text.append(x)\n",
    "dfcopy['tokenized'] = tokenized_text"
   ]
  },
  {
   "cell_type": "code",
   "execution_count": 156,
   "metadata": {},
   "outputs": [],
   "source": [
    "# Text Processing in a single code\n",
    "#import nltk\n",
    "#nltk.download('words')\n",
    "\n",
    "words = set(nltk.corpus.words.words())\n",
    "def text_cleaner(content):\n",
    "    content = \" \".join(filter(lambda x: x[0]!= '@' , content.split())) # removes any word which starts with @.\n",
    "    content = re.sub('[^0-9a-zA-Z]', ' ', content) # substitute all non-alphabetic characters in the string with spaces.\n",
    "    content = content.lower() # lowercasing\n",
    "    content = re.sub(' +', ' ', content).strip() # replacing more than one space with 1 space and remove any leading and trailing space.\n",
    "    content = nltk.wordpunct_tokenize(content)\n",
    "    content = [word for word in content if not word.isdigit()]\n",
    "    content = [word for word in content if word.lower() in words or not word.isalpha()]\n",
    "    content = [word for word in content if not word in set(stopwords.words('english'))] # Keeping only the non-stop words in the string\n",
    "    content = lemmatize(content)\n",
    "    content = \" \".join(content)\n",
    "    return content"
   ]
  },
  {
   "cell_type": "markdown",
   "metadata": {},
   "source": [
    "### Investigating Stopwords in Text"
   ]
  },
  {
   "cell_type": "code",
   "execution_count": 157,
   "metadata": {},
   "outputs": [],
   "source": [
    "# Count stopwords present in the data\n",
    "#nltk.download('punkt')\n",
    "def count_stopwords(text):\n",
    "    stop_words = set(stopwords.words(\"english\"))\n",
    "    words = nltk.word_tokenize(text)\n",
    "    return len(set(words) & stop_words)\n",
    "\n",
    "# Add a new col 'stop_words' that contains the count of stopwords\n",
    "dfcopy['stop_words'] = dfcopy['content'].apply(count_stopwords)\n",
    "value_counts = dfcopy['stop_words'].value_counts()"
   ]
  },
  {
   "cell_type": "code",
   "execution_count": 158,
   "metadata": {},
   "outputs": [
    {
     "name": "stdout",
     "output_type": "stream",
     "text": [
      "              author                                            content  \\\n",
      "0         xoshayzers  @tiffanylue i know  i was listenin to bad habi...   \n",
      "1          wannamama  Layin n bed with a headache  ughhhh...waitin o...   \n",
      "3        czareaquino               wants to hang out with friends SOON!   \n",
      "4          xkilljoyx  @dannycastillo We want to trade with someone w...   \n",
      "5      xxxPEACHESxxx  Re-pinging @ghostridah14: why didn't you go to...   \n",
      "...              ...                                                ...   \n",
      "39819    _Alectrona_  @jasimmo Ooo showing of your French skills!! l...   \n",
      "39820     bushidosan  @sendsome2me haha, yeah. Twitter has many uses...   \n",
      "39823       drapeaux                     Happy Mothers Day  All my love   \n",
      "39824       JenniRox  Happy Mother's Day to all the mommies out ther...   \n",
      "39826    Alpharalpha  @mopedronin bullet train from tokyo    the gf ...   \n",
      "\n",
      "       label_num                                          tokenized  \\\n",
      "0              0  [@, tiffanylue, i, know, i, was, listenin, to,...   \n",
      "1              0  [Layin, n, bed, with, a, headache, ughhhh, ......   \n",
      "3              1     [wants, to, hang, out, with, friends, SOON, !]   \n",
      "4              2  [@, dannycastillo, We, want, to, trade, with, ...   \n",
      "5              0  [Re-pinging, @, ghostridah14, :, why, did, n't...   \n",
      "...          ...                                                ...   \n",
      "39819          2  [@, jasimmo, Ooo, showing, of, your, French, s...   \n",
      "39820          2  [@, sendsome2me, haha, ,, yeah, ., Twitter, ha...   \n",
      "39823          1               [Happy, Mothers, Day, All, my, love]   \n",
      "39824          1  [Happy, Mother, 's, Day, to, all, the, mommies...   \n",
      "39826          1  [@, mopedronin, bullet, train, from, tokyo, th...   \n",
      "\n",
      "       stop_words  \n",
      "0               6  \n",
      "1               4  \n",
      "3               3  \n",
      "4               6  \n",
      "5               5  \n",
      "...           ...  \n",
      "39819           6  \n",
      "39820          11  \n",
      "39823           1  \n",
      "39824          12  \n",
      "39826           6  \n",
      "\n",
      "[36279 rows x 5 columns]\n"
     ]
    }
   ],
   "source": [
    "# Count the number of stopwords in the data\n",
    "temp = dfcopy.copy()\n",
    "stop_words = set(stopwords.words(\"english\"))\n",
    "temp['stop_words'] = temp['content'].apply(lambda x: len(set(x.split()) & stop_words))\n",
    "\n",
    "# Print rows that contain stopwords\n",
    "rows_with_stopwords = temp[temp['stop_words'] > 0]\n",
    "print(rows_with_stopwords)"
   ]
  },
  {
   "cell_type": "code",
   "execution_count": 159,
   "metadata": {},
   "outputs": [
    {
     "data": {
      "text/plain": [
       "author                                            xxxPEACHESxxx\n",
       "content       Re-pinging @ghostridah14: why didn't you go to...\n",
       "label_num                                                     0\n",
       "tokenized     [Re-pinging, @, ghostridah14, :, why, did, n't...\n",
       "stop_words                                                    5\n",
       "Name: 5, dtype: object"
      ]
     },
     "execution_count": 159,
     "metadata": {},
     "output_type": "execute_result"
    }
   ],
   "source": [
    "# Explore tweet that contains stopwords\n",
    "dfcopy['content'][7]\n",
    "dfcopy.loc[5]"
   ]
  },
  {
   "cell_type": "code",
   "execution_count": 160,
   "metadata": {},
   "outputs": [
    {
     "data": {
      "text/plain": [
       "2"
      ]
     },
     "execution_count": 160,
     "metadata": {},
     "output_type": "execute_result"
    }
   ],
   "source": [
    "# Count stopwords in index 7\n",
    "stop_words = set(stopwords.words(\"english\"))\n",
    "dfcopy_indx = dfcopy['content'][7]\n",
    "stopword_count = len([word for word in dfcopy_indx.split() if word in stop_words])\n",
    "stopword_count"
   ]
  },
  {
   "cell_type": "code",
   "execution_count": 161,
   "metadata": {},
   "outputs": [
    {
     "name": "stdout",
     "output_type": "stream",
     "text": [
      "Stopwords in df['content'][7]:\n",
      "['is', 'down']\n"
     ]
    }
   ],
   "source": [
    "# Print all the stopwords in index 7\n",
    "stopwords_in_content = [word for word in dfcopy_indx.split() if word in stop_words]\n",
    "\n",
    "print(\"Stopwords in df['content'][7]:\")\n",
    "print(stopwords_in_content)\n"
   ]
  },
  {
   "cell_type": "code",
   "execution_count": 162,
   "metadata": {},
   "outputs": [
    {
     "name": "stdout",
     "output_type": "stream",
     "text": [
      "The number of NaN-values in the pre-processed dataset is:  0\n"
     ]
    }
   ],
   "source": [
    "print('The number of NaN-values in the pre-processed dataset is: ', dfcopy['content'].isnull().sum())\n"
   ]
  },
  {
   "cell_type": "code",
   "execution_count": 163,
   "metadata": {},
   "outputs": [
    {
     "data": {
      "text/plain": [
       "Index(['author', 'content', 'label_num', 'tokenized', 'stop_words'], dtype='object')"
      ]
     },
     "execution_count": 163,
     "metadata": {},
     "output_type": "execute_result"
    }
   ],
   "source": [
    "dfcopy.shape\n",
    "dfcopy.columns\n"
   ]
  },
  {
   "cell_type": "code",
   "execution_count": 164,
   "metadata": {},
   "outputs": [],
   "source": [
    "# Drop the unecessary column \n",
    "dfcopy= dfcopy.drop(columns=['author', 'stop_words', ])"
   ]
  },
  {
   "cell_type": "markdown",
   "metadata": {},
   "source": [
    "# Data Visualisation\n",
    "###  Comparing the text length with boxplot and histogram\n",
    "In this phase of the project, I examined comment lengths across different label categories by introducing the `comment_length` variable to the dataset. Upon analyzing the statistical information of this column, it became apparent that some comments exceed 120 words, although their frequency is relatively low compared to the dataset size. To enhance visualization clarity in the box plot and histogram representations of the `comment_length` variable, I opted to filter out comments containing more than 120 words. However, despite this preprocessing step, neither the box plot nor the histogram revealed any significant differences among the label categories."
   ]
  },
  {
   "cell_type": "code",
   "execution_count": 165,
   "metadata": {},
   "outputs": [
    {
     "data": {
      "text/html": [
       "<div>\n",
       "<style scoped>\n",
       "    .dataframe tbody tr th:only-of-type {\n",
       "        vertical-align: middle;\n",
       "    }\n",
       "\n",
       "    .dataframe tbody tr th {\n",
       "        vertical-align: top;\n",
       "    }\n",
       "\n",
       "    .dataframe thead th {\n",
       "        text-align: right;\n",
       "    }\n",
       "</style>\n",
       "<table border=\"1\" class=\"dataframe\">\n",
       "  <thead>\n",
       "    <tr style=\"text-align: right;\">\n",
       "      <th></th>\n",
       "      <th>content</th>\n",
       "      <th>label_num</th>\n",
       "      <th>tokenized</th>\n",
       "      <th>content_length</th>\n",
       "      <th>tokenized_length</th>\n",
       "    </tr>\n",
       "  </thead>\n",
       "  <tbody>\n",
       "    <tr>\n",
       "      <th>0</th>\n",
       "      <td>@tiffanylue i know  i was listenin to bad habi...</td>\n",
       "      <td>0</td>\n",
       "      <td>[@, tiffanylue, i, know, i, was, listenin, to,...</td>\n",
       "      <td>92</td>\n",
       "      <td>20</td>\n",
       "    </tr>\n",
       "    <tr>\n",
       "      <th>1</th>\n",
       "      <td>Layin n bed with a headache  ughhhh...waitin o...</td>\n",
       "      <td>0</td>\n",
       "      <td>[Layin, n, bed, with, a, headache, ughhhh, ......</td>\n",
       "      <td>60</td>\n",
       "      <td>13</td>\n",
       "    </tr>\n",
       "    <tr>\n",
       "      <th>2</th>\n",
       "      <td>Funeral ceremony...gloomy friday...</td>\n",
       "      <td>0</td>\n",
       "      <td>[Funeral, ceremony, ..., gloomy, friday, ...]</td>\n",
       "      <td>35</td>\n",
       "      <td>6</td>\n",
       "    </tr>\n",
       "    <tr>\n",
       "      <th>3</th>\n",
       "      <td>wants to hang out with friends SOON!</td>\n",
       "      <td>1</td>\n",
       "      <td>[wants, to, hang, out, with, friends, SOON, !]</td>\n",
       "      <td>36</td>\n",
       "      <td>8</td>\n",
       "    </tr>\n",
       "    <tr>\n",
       "      <th>4</th>\n",
       "      <td>@dannycastillo We want to trade with someone w...</td>\n",
       "      <td>2</td>\n",
       "      <td>[@, dannycastillo, We, want, to, trade, with, ...</td>\n",
       "      <td>86</td>\n",
       "      <td>18</td>\n",
       "    </tr>\n",
       "  </tbody>\n",
       "</table>\n",
       "</div>"
      ],
      "text/plain": [
       "                                             content  label_num  \\\n",
       "0  @tiffanylue i know  i was listenin to bad habi...          0   \n",
       "1  Layin n bed with a headache  ughhhh...waitin o...          0   \n",
       "2                Funeral ceremony...gloomy friday...          0   \n",
       "3               wants to hang out with friends SOON!          1   \n",
       "4  @dannycastillo We want to trade with someone w...          2   \n",
       "\n",
       "                                           tokenized  content_length  \\\n",
       "0  [@, tiffanylue, i, know, i, was, listenin, to,...              92   \n",
       "1  [Layin, n, bed, with, a, headache, ughhhh, ......              60   \n",
       "2      [Funeral, ceremony, ..., gloomy, friday, ...]              35   \n",
       "3     [wants, to, hang, out, with, friends, SOON, !]              36   \n",
       "4  [@, dannycastillo, We, want, to, trade, with, ...              86   \n",
       "\n",
       "   tokenized_length  \n",
       "0                20  \n",
       "1                13  \n",
       "2                 6  \n",
       "3                 8  \n",
       "4                18  "
      ]
     },
     "execution_count": 165,
     "metadata": {},
     "output_type": "execute_result"
    }
   ],
   "source": [
    "dfcopy['content_length'] = dfcopy['content'].str.len()\n",
    "dfcopy['tokenized_length'] = dfcopy['tokenized'].str.len()\n",
    "dfcopy.head()"
   ]
  },
  {
   "cell_type": "code",
   "execution_count": 166,
   "metadata": {},
   "outputs": [
    {
     "data": {
      "text/plain": [
       "(39827, 5)"
      ]
     },
     "execution_count": 166,
     "metadata": {},
     "output_type": "execute_result"
    }
   ],
   "source": [
    "dfcopy.shape"
   ]
  },
  {
   "cell_type": "code",
   "execution_count": 176,
   "metadata": {},
   "outputs": [
    {
     "name": "stdout",
     "output_type": "stream",
     "text": [
      "The average length of the texts is 73.53082079995983\n"
     ]
    }
   ],
   "source": [
    "# Size of the tokenized\n",
    "total_length = 0\n",
    "num_texts = len(dfcopy['content'])\n",
    "for text in dfcopy['content']:\n",
    "    total_length += len(text)\n",
    "\n",
    "avg_length = total_length / num_texts\n",
    "\n",
    "print(f\"The average length of the texts is {avg_length}\")"
   ]
  },
  {
   "cell_type": "code",
   "execution_count": 178,
   "metadata": {},
   "outputs": [
    {
     "data": {
      "text/plain": [
       "(18277, 5)"
      ]
     },
     "execution_count": 178,
     "metadata": {},
     "output_type": "execute_result"
    }
   ],
   "source": [
    "dfcopy[dfcopy['content_length']>73].shape"
   ]
  },
  {
   "cell_type": "code",
   "execution_count": 179,
   "metadata": {},
   "outputs": [
    {
     "data": {
      "image/png": "[encoded data removed]",
      "text/plain": [
       "<Figure size 640x480 with 1 Axes>"
      ]
     },
     "metadata": {},
     "output_type": "display_data"
    }
   ],
   "source": [
    "# Boxplots of text lenghth\n",
    "plt.figsize = (9,3)\n",
    "filtered_content = dfcopy[dfcopy['content_length'] < 17]\n",
    "\n",
    "negative_lengths = filtered_content[filtered_content['label_num'] == 0]['content_length']\n",
    "posetive_lengths = filtered_content[filtered_content['label_num'] == 1]['content_length']\n",
    "neutral_lengths = filtered_content[filtered_content['label_num'] == 2]['content_length']\n",
    "plt.boxplot([negative_lengths, posetive_lengths ,neutral_lengths], labels=['negative', 'posetive','neutral'])\n",
    "plt.ylabel('content Length')\n",
    "plt.title('Box Plot of content Length by label_num')\n",
    "plt.show()\n",
    "\n"
   ]
  }
 ],
 "metadata": {
  "kernelspec": {
   "display_name": "Python 3",
   "language": "python",
   "name": "python3"
  },
  "language_info": {
   "codemirror_mode": {
    "name": "ipython",
    "version": 3
   },
   "file_extension": ".py",
   "mimetype": "text/x-python",
   "name": "python",
   "nbconvert_exporter": "python",
   "pygments_lexer": "ipython3",
   "version": "3.11.9"
  }
 },
 "nbformat": 4,
 "nbformat_minor": 2
}
